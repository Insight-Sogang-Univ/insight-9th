{
 "cells": [
  {
   "cell_type": "markdown",
   "id": "35d7fb6a",
   "metadata": {},
   "source": [
    "# EDA2\n",
    "___"
   ]
  },
  {
   "cell_type": "markdown",
   "id": "500091cf",
   "metadata": {},
   "source": [
    "## 데이터 분석의 이해\n",
    "    1. Optimization: 문제 O, 방법 O\n",
    "    2. Solution: 문제 O, 방법 X\n",
    "    3. Insight: 기존의 분석 방법 O, 대상 파악 X\n",
    "    4. Discovery: 분석 대상X, 방법 X\n",
    "   > 데이터 수집 -> 시각화탐색 -> 패턴 도출 -> 인사이트 발견"
   ]
  },
  {
   "cell_type": "markdown",
   "id": "5d505afa",
   "metadata": {},
   "source": [
    "## EDA란?\n",
    "- EDA(Exploratory Data Analysis, 탐색적 데이터 분석): 데이터의 특징과 내재하는 구조적인 관계를 알아내기 위한 분석 기법<br>\n",
    "- 수집한 데이터를 다양한 각도에서 관찰하고 이해하는 과정\n",
    "- 통계적인 방법과 데이터 시각화가 사용됨\n",
    "\n",
    "※ EDA를 통해 수집한 데이터를 이해하고 특성을 파악할 수 있으며, 문제에 대한 통찰을 얻을 수 있음"
   ]
  },
  {
   "cell_type": "markdown",
   "id": "dfe578e8",
   "metadata": {},
   "source": [
    "## EDA 유의사항\n",
    "- 데이터 분석을 본격적으로 들어가기 전에, **데이터에 결측치(null)가 있는지 확인**히고 처리해줘야 함\n",
    "- **상관관계를 인과관계로 오역**하는 경우를 유의<br>\n",
    "    -> 더 자세한 인사이트를 도출하기 위해서는 이들을 연결해주거나 보충하는 연결다리를 찾아야 추가적인 해석이 가능"
   ]
  },
  {
   "cell_type": "markdown",
   "id": "b3bc3c5a",
   "metadata": {},
   "source": [
    "## Heatmap 해석\n",
    "- string이 아닌 numeric feature에 대해서만 상관관계 분석이 가능\n",
    "- 다중공선성: 두 변수간에 **상관관계가 매운 높다는 것은 두 변수가 거의 동일한 정보를 갖고 있다**는 것을 뜻함<br>\n",
    "-> 다중공선성을 띠는 변수 중 불필요한 변수를 제거해야함"
   ]
  },
  {
   "cell_type": "markdown",
   "id": "f174d4d3",
   "metadata": {},
   "source": [
    "## Feature Engineering & Data Cleaning\n",
    "- Feature Engineering: 초기 데이터로부터 특징을 가공하고 생산하여 모델의 입력 데이터를 생성하는 과정<br>\n",
    " -> 문자보다는 숫자, 개별값보다는 범위로 구분하도록 데이터를 가공하기"
   ]
  }
 ],
 "metadata": {
  "kernelspec": {
   "display_name": "Python 3 (ipykernel)",
   "language": "python",
   "name": "python3"
  },
  "language_info": {
   "codemirror_mode": {
    "name": "ipython",
    "version": 3
   },
   "file_extension": ".py",
   "mimetype": "text/x-python",
   "name": "python",
   "nbconvert_exporter": "python",
   "pygments_lexer": "ipython3",
   "version": "3.10.9"
  }
 },
 "nbformat": 4,
 "nbformat_minor": 5
}
