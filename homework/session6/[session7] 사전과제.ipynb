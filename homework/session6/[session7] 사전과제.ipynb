{
 "cells": [
  {
   "cell_type": "markdown",
   "id": "94397033",
   "metadata": {},
   "source": [
    "## 분류\n",
    "1. 머신러닝\n",
    "- 지도학습 (Supervised Learning)\n",
    "       a. \"정답\"을 알고 있는 데이터를 이용해 컴퓨터를 학습시킨다. 이때 컴퓨터는 자신의 답과 정답과 차이를 통해 지속해서 학습한다.\n",
    "       b. 지도학습에는 연속적인 숫자값을 예측하는 회귀(Regression), 입력된 데이터를 주어진 항목들로 나누는 분류(Classification) 등 많은 머신러닝 기법들이 해당한다.\n",
    "\n",
    "- 비지도학습 (Unsupervised Learning)\n",
    "       a. 지도학습과는 다르게 정답이 있지 않다. 즉, 비지도학습은 정답이 없이 주어진 데이터로만 학습한다.\n",
    "       b. 비슷한 데이터를 묶어 큰 단위로 만드는 군집화(Clustering), 데이터 분포를 예측하는 밀도 추정 (Density Estimation), 데이터 차원을 간추리는 차원 축소 (Dimensionality Reduction)가 비지도학습에 해당한다.\n",
    "       \n",
    "- 강화학습 (Reinforcement Learning)\n",
    "       a. 비슷한 데이터를 묶어 큰 단위로 만드는 군집화(Clustering), 데이터 분포를 예측하는 밀도 추정 (Density Estimation), 데이터 차원을 간추리는 차원 축소 (Dimensionality Reduction)가 비지도학습에 해당한다.\n",
    "       \n",
    "2. 분류\n",
    "- 정의\n",
    "        분류(Classification)란 기존 데이터가 어떤 레이블에 속하는지 패턴을 알고리즘으로 인지한 뒤에 새롭게 관측된 데이터에 대한 레이블을 판별하는 것이다.\n",
    "        \n",
    "- Why?\n",
    "        우리가 직접 2차원의 데이터를 분류해서 사용할 수도 있지만 데이터 수가 매우 너무 심각하게 많으면 손으로 분류하는 것도 한계가 있다. 더불어 자료의 차원이 2차원이 아닌 n차원으로 확장이 된다면, 머신러닝 학습을 통해서 분류하는 것이 시간적으로나, 정신적으로 더 좋다.\n",
    "        \n",
    "3. 종류\n",
    "- 독립변수와 종속변수의 선형 관계성에 기반한 **로지스틱 회귀(Logistic Regression)**\n",
    "        a. X 데이터와 Y 데이터의 선형 관계성이 보장이 된다면, 사용하는 기법으로. 어떻게 보면 회귀라고 할 수도 있지만, 연속형 변수가 아닌 범주형 변수로 사용하는 회귀이기 때문에 하나의 분류 과정으로 취급 받고 있습니다.\n",
    "\n",
    "- 데이터 균일도에 따른 규칙 기반의 **결정 트리(Decision Tree)**\n",
    "        a. 결정 트리는 트리(Tree) 기반의 분류 알고리즘으로 직관적으로 이해하기 쉽다. 규칙 노드(Decision Node)에서 규칙에 따라 분할되며 각각의 서브 트리(Sub Tree)를 생성한다. 계속되는 규칙에 따라 노드가 분할되며 최종적으로 리프 노드(Leaf Node)에서는 클래스 값을 가지게 된다. 데이터가 주어졌을 때 각 노드의 단계를 거치며 분류를 하게 되며 마지막 노드에 도달했을 때 그 노드의 값으로 데이터의 클래스를 예측하는 방식이다.\n",
    "\n",
    "- 개별 클래스 간의 최대 마진 분류 마진을 효과적으로 찾아주는 **서포트 벡터 머신(SVM)**\n",
    "        a. 서포트 벡터 머신은 딥러닝이 대두하기 전까지 가장 많이 활용되던 머신러닝 알고리즘이다. 클래스를 분류할 수 있는 다양한 경계선이 존재하는데 그중 최적의 라인을 찾아내는 원리이다. 명확하게 분류할 수 있는 데이터 집단에서 뛰어난 성능을 나타내며 고차원 공간에서도 효과적으로 사용이 가능하다.\n",
    "\n",
    "- 근접 거리를 기준으로 하는 **최소 근접(Nearest Neighbor)**\n",
    "        a. K-최소 근접(K-Nearest Neighbor) 알고리즘 즉 KNN 알고리즘은 데이터들 간의 유사한 특징을 기준으로 분류하는 알고리즘이다. 주어진 데이터의 주변 이웃 데이터들의 특징을 파악하고 가장 유사한 데이터 그룹에 포함되도록 하는 방식이다."
   ]
  },
  {
   "cell_type": "code",
   "execution_count": null,
   "id": "4af5ecb8",
   "metadata": {},
   "outputs": [],
   "source": []
  }
 ],
 "metadata": {
  "kernelspec": {
   "display_name": "Python 3 (ipykernel)",
   "language": "python",
   "name": "python3"
  },
  "language_info": {
   "codemirror_mode": {
    "name": "ipython",
    "version": 3
   },
   "file_extension": ".py",
   "mimetype": "text/x-python",
   "name": "python",
   "nbconvert_exporter": "python",
   "pygments_lexer": "ipython3",
   "version": "3.9.13"
  },
  "toc": {
   "base_numbering": 1,
   "nav_menu": {},
   "number_sections": true,
   "sideBar": true,
   "skip_h1_title": false,
   "title_cell": "Table of Contents",
   "title_sidebar": "Contents",
   "toc_cell": false,
   "toc_position": {},
   "toc_section_display": true,
   "toc_window_display": false
  }
 },
 "nbformat": 4,
 "nbformat_minor": 5
}
