{
 "cells": [
  {
   "cell_type": "markdown",
   "id": "00f43e2c",
   "metadata": {},
   "source": [
    "머신러닝\n",
    "\n",
    "- 지도학습 : 회귀 / 분류 등 많은 머신러닝 기법이 여기에 해당 / 정답을 알고 있는 데이터로 학습\n",
    "- 비지도학습 :/ 정답이 없이 주어진 데이터로만 학습 / 군집화, 밀도추정, 차원축소 등\n",
    "- 강화학습 : ?\n",
    "\n",
    "\n",
    "분류\n",
    "- 기존 데이터가 어떤 레이블에 속하는지 패턴을 알고리즘으로 인지한 뒤에\n",
    "- 새롭게 관측된 데이터에 대한 레이블을 판별하는 것이다.\n",
    "왜 하는가?\n",
    "수가 많을때 + 차원확장이 3차원 이상으로 갈때\n",
    "\n",
    "분류의 대표적인 알고리즘들\n",
    "- 로지스틱 회귀\n",
    "- 결정 트리\n",
    "- 서포트 벡터 머신\n",
    "- 최소 근접 알고리즘"
   ]
  }
 ],
 "metadata": {
  "kernelspec": {
   "display_name": "Python 3 (ipykernel)",
   "language": "python",
   "name": "python3"
  },
  "language_info": {
   "codemirror_mode": {
    "name": "ipython",
    "version": 3
   },
   "file_extension": ".py",
   "mimetype": "text/x-python",
   "name": "python",
   "nbconvert_exporter": "python",
   "pygments_lexer": "ipython3",
   "version": "3.9.13"
  }
 },
 "nbformat": 4,
 "nbformat_minor": 5
}
