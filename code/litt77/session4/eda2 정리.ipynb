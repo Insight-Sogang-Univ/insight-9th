{
 "cells": [
  {
   "cell_type": "markdown",
   "id": "39433a1f",
   "metadata": {},
   "source": [
    "eda : 탐색적 데이터 분석 ~ 수집한 데이터 다양한 각도에서 관찰하고 이해하기 위한 과정\n",
    "\n",
    "결측치 확인하고\n",
    "데이터 특징 분석하고, 유형에 따라서 시각화하기\n",
    "\n",
    "명목형 / 순서형 / 연속형 / 이산형\n",
    "\n",
    "라이브러리\n",
    "matplotlib / seaborn\n",
    "\n",
    "시각화 및 결측값 채우기\n",
    "파이차트 / countplot\n",
    "막대그래프 / countplot\n",
    "\n",
    "주의점 ~ 상관관계와 인과관계 꼭 구분하기! 헷갈리기 십상이다\n",
    "\n",
    "크로스태블릿 / 박스플랏\n",
    "\n",
    "함께 살펴보기 ~ 크로스태블릿으로 가능하다.\n",
    "\n",
    "Factorplot ~ 2가지 관계 + hue로 정보 분류 추가적으로 가능\n",
    "\n",
    "연속형변수 : 구간 끊어주기\n",
    "바이올린플랏으로 개괄 살펴보고\n",
    "문자열 추출식 ~ 유용하게 쓸 수 있을 듯 하다.\n",
    "\n",
    "오타 내지는 결측치 채우기 data.loc / data.xxx.isnull()\n",
    "\n",
    "네가지 요소 한번에 비교분석하기 ~ 크로스태블릿\n",
    "ex) 선착장과 좌석등급 X 성별과 생존여부\n",
    "\n",
    "f,ax = 하고 여러가지 그래프 동시에 보여줄 수 있다. 식만 잘 써주면.\n",
    "\n",
    "결측값 채우기 ~ 방법 여러개,, 최빈값 / 평균값 / 등등,,\n",
    "\n",
    "히트맵 ~ 여러변수들 한번에 합쳐서 패턴 보기 유용함 ~ 색깔보고서 상관관계 여부 파악가능\n",
    "\n",
    "\n",
    "새로운 변수 추가하기 ex) 동반가족수 = 형제 + 배우자 두 카테고리 합치기! ~ Family Size\n",
    "Age Band / Fare Range 처럼 구간 나눠주기\n",
    "필요없는 피처는 날려주기\n",
    "\n",
    "* 스케일 중요하다! ~ 착각 내지는 착시 (의도든 의도치않든 주의할 것)\n",
    "* \n",
    "\n",
    "\n"
   ]
  }
 ],
 "metadata": {
  "kernelspec": {
   "display_name": "Python 3 (ipykernel)",
   "language": "python",
   "name": "python3"
  },
  "language_info": {
   "codemirror_mode": {
    "name": "ipython",
    "version": 3
   },
   "file_extension": ".py",
   "mimetype": "text/x-python",
   "name": "python",
   "nbconvert_exporter": "python",
   "pygments_lexer": "ipython3",
   "version": "3.9.13"
  }
 },
 "nbformat": 4,
 "nbformat_minor": 5
}
