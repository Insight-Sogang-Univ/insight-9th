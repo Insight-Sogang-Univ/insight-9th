{
 "cells": [
  {
   "cell_type": "markdown",
   "id": "0c4425ab",
   "metadata": {},
   "source": [
    "eda1 마크다운 정리!\n",
    "\n",
    "I. 개요\n",
    "데이터 유형에 따라 다양한 시각화 방식 사용\n",
    "1. Feature의 종류 ~ 경영통계학때 했던 것들\n",
    "- 범주형 데이터 (카테고리, 순서 없음)\n",
    "- 순서형 데이터 (순서 있음)\n",
    "- 연속형 데이터 (연속적인 값)\n",
    "- 이산형 데이터 (정수)\n",
    "\n",
    "2. 시각화의 기본 표현\n",
    "- Figure : 도화지\n",
    "- Size : 크기 조절\n",
    "- Axes : 공간\n",
    "- Axis : 축\n",
    "\n",
    "3. 어떤 시각화가 좋을까?\n",
    "    1. 분석할 데이터의 feature 확인하기\n",
    "    2. 데이터의 성질에 따라 어떤 플롯 쓸지 고민하기\n",
    "        1. 시간변화 : line / area / bar\n",
    "        2. 비교와 랭킹 : bar\n",
    "        3. 연관성 : scatter\n",
    "        4. 분호 : box plot / histrogram\n",
    "        5. 부분이 전체에 차지하는 정도 : pie / bar\n",
    "\n",
    "4. 시각화 할 때 쓰는 라이브러리들\n",
    "    1. Matplotlib ~ 일반적인 EDa\n",
    "    2. Seaborn ~ 시각화에 보다 최적화\n",
    "    3. Matplotlib vs Seaborn\n",
    "    \n",
    "II. 데이터 시각화\n",
    "1. 수치형 데이터 시각화\n",
    "- 히스토그램 (data=data는 왜 쓰는걸까?)\n",
    "df.histplot(x='x축 이름', data=data)\n",
    "df.histplot(x='x축 이름', hue='보고 싶은 특정범주', data=data)\n",
    "\n",
    "밑에 나머지 다 df.어쩌구plot(x='', y='', hue = '', data=data)\n",
    "\n",
    "- 커널밀도추정 함수 그래프 kdeplot\n",
    "\n",
    "- 막대 그래프 barplot\n",
    "\n",
    "- 포인트플롯 pointplot\n",
    "\n",
    "- 박스 플롯 boxplot\n",
    "\n",
    "- 바이올린 플롯 violin plot\n",
    "\n",
    "- 카운트 플롯 count plot\n",
    "\n",
    "- 파이 그래프 pie"
   ]
  }
 ],
 "metadata": {
  "kernelspec": {
   "display_name": "Python 3 (ipykernel)",
   "language": "python",
   "name": "python3"
  },
  "language_info": {
   "codemirror_mode": {
    "name": "ipython",
    "version": 3
   },
   "file_extension": ".py",
   "mimetype": "text/x-python",
   "name": "python",
   "nbconvert_exporter": "python",
   "pygments_lexer": "ipython3",
   "version": "3.9.13"
  }
 },
 "nbformat": 4,
 "nbformat_minor": 5
}
