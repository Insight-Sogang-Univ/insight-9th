{
 "cells": [
  {
   "cell_type": "markdown",
   "id": "bddfa2e9",
   "metadata": {},
   "source": [
    "1. 절대경로 / 상대경로\n",
    "절대경로 : 처음부터 시작하여, 목적지까지의 전체적인 경로 url\n",
    "특징은, 최상위 \\를 포함하고 있다(?)\n",
    "\n",
    "상대경로 : 현재 위치를 기준으로 하여 목적지까지의 상대적인 경로를 의미함\n",
    "아아 지금의 디렉토리 기준이 ./이고, 그에 따라 위치 다른 것 같다!\n",
    "\n",
    "\n",
    "2. read file in python\n",
    "데이터 ~ 읽고 쓰기\n",
    "- 파일 형식에 따른 읽고 쓰는 함수의 변화\n",
    "csv텍스트 / 엑셀 / html / sql 등\n",
    "read_ / to_\n",
    "\n",
    "\n",
    "\n",
    "3. preprocessing in data science(데이터 과학에서의 전처리)\n",
    "데이터 품질 향상하고 목적에 맞기 위해 변형하는 과정\n",
    "시간 80% 전처리에 들일 정도로 중요한 작업,,\n",
    "순서 : 데이터 셋 확인 ~ 결측값 처리 ~ 이상값 처리 ~ feature engineering\n",
    "- 누락 데이터 확인\n",
    "info() ~ NaN값 개수 확인\n",
    "isnull / notnull\n",
    "\n",
    "- 결측값 처리\n",
    "결측값 전체 삭제 / 부분 삭제 / 대체 (평균값 / 최빈값 / 치환)\n",
    "\n",
    "- 중복 데이터 처리 \n"
   ]
  }
 ],
 "metadata": {
  "kernelspec": {
   "display_name": "Python 3 (ipykernel)",
   "language": "python",
   "name": "python3"
  },
  "language_info": {
   "codemirror_mode": {
    "name": "ipython",
    "version": 3
   },
   "file_extension": ".py",
   "mimetype": "text/x-python",
   "name": "python",
   "nbconvert_exporter": "python",
   "pygments_lexer": "ipython3",
   "version": "3.9.13"
  }
 },
 "nbformat": 4,
 "nbformat_minor": 5
}
