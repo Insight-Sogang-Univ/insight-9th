{
 "cells": [
  {
   "cell_type": "markdown",
   "id": "5fcc94e4",
   "metadata": {},
   "source": [
    "회귀분석 : 관찰된 연속형 변수들에 대해 두 변수 사이의 모형을 구한 뒤 적합도를 측정해내는 분석방법이다.\n",
    "- 연속형 두 변수 간의 관계를 분석한다\n",
    "- 무언가를 예측하려고 사용함.\n",
    "\n",
    "선형회귀 Linear Regression\n",
    "기계학습 ~ 아마도 대략적으로 맞는 타겟 함수 학습하는 과정 \n",
    " 선형회귀 : 해당 타겟함수를, 선형의 함수로서 근사하는 방법이다.\n",
    "하고자 하는 것 : 데이터 포인트들을 이용하여 => 선형함수를 만드는 것\n",
    "=> 새로운 데이터 생겼을 때 그 데이터는 어디에 위치할 것인가(예측)\n",
    "=> 적절한 선형의 함수를 만들면, 그 언저리에 있을 것이다!\n",
    "\n",
    "단순 선형 회귀 Simple Linear Regression\n",
    "연속형 반응 변수 y\n",
    "설명 변수 x 하나\n",
    "두 변수 ~ 인과관계 있고, x에 따라 y가 변한다 / f(x)=y\n",
    "오차 / 회귀계수?\n",
    "\n",
    "단순 선형 회귀 만들기\n",
    "1. 산점도 그리기\n",
    "2. 회귀계수 추정\n",
    "3. 오차 구하기\n",
    "4. 유의성 검정\n",
    "5. 평가\n",
    "\n",
    "다중 선형 회귀 Multiple Linear Regression\n",
    "단순 선형 회귀모형의 확장 ~ \n",
    "연속형 반응 변수 y 하나에\n",
    "설명 변수 x가 둘 이상인 모형\n",
    "=> 설명 변수가 늘어나기에 검토해야할 문제가 생긴다.\n",
    "- 다중공산성 ~ 설명 변수의 정보 중첩\n",
    "- 차원의 저주 ~ 너무 많은 설명 변수 포함해 발생\n",
    "\n",
    "내용이,, 많이,, 어렵네요,, ^^"
   ]
  }
 ],
 "metadata": {
  "kernelspec": {
   "display_name": "Python 3 (ipykernel)",
   "language": "python",
   "name": "python3"
  },
  "language_info": {
   "codemirror_mode": {
    "name": "ipython",
    "version": 3
   },
   "file_extension": ".py",
   "mimetype": "text/x-python",
   "name": "python",
   "nbconvert_exporter": "python",
   "pygments_lexer": "ipython3",
   "version": "3.9.13"
  }
 },
 "nbformat": 4,
 "nbformat_minor": 5
}
