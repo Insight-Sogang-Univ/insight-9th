{
 "cells": [
  {
   "cell_type": "code",
   "execution_count": 1,
   "id": "07c8ccbd",
   "metadata": {},
   "outputs": [
    {
     "name": "stdout",
     "output_type": "stream",
     "text": [
      "Writing inverseIn.py\n"
     ]
    }
   ],
   "source": [
    "%%writefile inverseIn.py\n",
    "word=input('Input:')\n",
    "reverse_word=''\n",
    "print()\n",
    "for x in word:\n",
    "    reverse_word=x+reverse_word\n",
    "    print(reverse_word)\n"
   ]
  },
  {
   "cell_type": "code",
   "execution_count": 2,
   "id": "92c44d4f",
   "metadata": {},
   "outputs": [
    {
     "name": "stdout",
     "output_type": "stream",
     "text": [
      "Input:sogang university\n",
      "\n",
      "s\n",
      "os\n",
      "gos\n",
      "agos\n",
      "nagos\n",
      "gnagos\n",
      " gnagos\n",
      "u gnagos\n",
      "nu gnagos\n",
      "inu gnagos\n",
      "vinu gnagos\n",
      "evinu gnagos\n",
      "revinu gnagos\n",
      "srevinu gnagos\n",
      "isrevinu gnagos\n",
      "tisrevinu gnagos\n",
      "ytisrevinu gnagos\n"
     ]
    }
   ],
   "source": [
    "%run inverseIn.py"
   ]
  },
  {
   "cell_type": "code",
   "execution_count": null,
   "id": "504f7469",
   "metadata": {},
   "outputs": [],
   "source": []
  }
 ],
 "metadata": {
  "kernelspec": {
   "display_name": "Python 3 (ipykernel)",
   "language": "python",
   "name": "python3"
  },
  "language_info": {
   "codemirror_mode": {
    "name": "ipython",
    "version": 3
   },
   "file_extension": ".py",
   "mimetype": "text/x-python",
   "name": "python",
   "nbconvert_exporter": "python",
   "pygments_lexer": "ipython3",
   "version": "3.9.12"
  }
 },
 "nbformat": 4,
 "nbformat_minor": 5
}
