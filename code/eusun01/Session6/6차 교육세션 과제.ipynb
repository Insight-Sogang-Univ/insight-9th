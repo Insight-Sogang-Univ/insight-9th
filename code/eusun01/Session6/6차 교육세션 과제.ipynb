{
 "cells": [
  {
   "cell_type": "markdown",
   "id": "6dd2a750",
   "metadata": {},
   "source": [
    "# 6차 교육세션 과제"
   ]
  },
  {
   "cell_type": "markdown",
   "id": "6a57b08c",
   "metadata": {},
   "source": [
    "느낀점\n",
    "- 6차 교육세션 과제를 하며 새로 접하는 내용이 많다고 느꼈다. 새로운 함수들을 배우는 것이 흥미로웠다. \n",
    "- 회귀이론이 이때까지 배웠던 데이터 분석 기법들에 비해서 통계와 가장 관련이 있다는 생각이 들었고 기본적인 통계지식을 아는 것이 회귀이론을 공부하는 데에 더욱 도움이 될 것 같다. "
   ]
  },
  {
   "cell_type": "markdown",
   "id": "24c57378",
   "metadata": {},
   "source": [
    "새로 알게 된 점\n",
    "- 자연로그를 취해서 종속 변수의 분포가 정규분포 형태를 띄는 것을 확인할 수 있다는 것\n",
    "- 종속 변수와 선형 관계가 있을 것 같은 독립 변수들을 선정하여 산점도 그래프 그리기\n",
    "- add_constant 함수를 사용해서 상수항을 추가하는 방법\n",
    "- fit() 함수를 통해 선형 모델에 적합시킬 수 있음\n",
    "- 단순 선형 회귀와 달리 다중 선형 회귀분석에서는 모든 변수의 경우 다중공선성문제를 확인해야 함"
   ]
  },
  {
   "cell_type": "markdown",
   "id": "2fbd3bbe",
   "metadata": {},
   "source": [
    "# 7차 교육세션 사전과제\n",
    "분류\n",
    "\n",
    "머신러닝\n",
    "- 지도학습, 비지도학습, 강화학습으로 나뉨\n",
    "\n",
    "지도학습\n",
    "- 정답을 알고 있는 데이터를 이용해 컴퓨터를 학습시킴\n",
    "- 회귀, 분류 등의 머신러닝 기법들이 해당\n",
    "비지도학습 \n",
    "- 정답이 있지 않음 (<->지도학습)\n",
    "- 군집화, 밀도추정, 차원축소 등이 해당\n",
    "강화학습\n",
    "\n",
    "분류\n",
    "- 기존 데이터가 어떤 레이블에 속하는지 패턴을 알고리즘으로 확인한 뒤 새롭게 관측된 데이터에 대한 레이블을 판별하는 것\n",
    "- n차원으로 확장된 자료를 분류하기 위해서는 머신러닝을 이용하는 것이 효과적임\n",
    "- 분류의 대표적인 머신러닝 알고리즘\n",
    "  : 로지스틱 회귀\n",
    "  : 결정 트리\n",
    "  : 서포트 벡터 머신\n",
    "  : 최소 근접 알고리즘"
   ]
  }
 ],
 "metadata": {
  "kernelspec": {
   "display_name": "Python 3 (ipykernel)",
   "language": "python",
   "name": "python3"
  },
  "language_info": {
   "codemirror_mode": {
    "name": "ipython",
    "version": 3
   },
   "file_extension": ".py",
   "mimetype": "text/x-python",
   "name": "python",
   "nbconvert_exporter": "python",
   "pygments_lexer": "ipython3",
   "version": "3.9.13"
  },
  "toc": {
   "base_numbering": 1,
   "nav_menu": {},
   "number_sections": true,
   "sideBar": true,
   "skip_h1_title": false,
   "title_cell": "Table of Contents",
   "title_sidebar": "Contents",
   "toc_cell": false,
   "toc_position": {},
   "toc_section_display": true,
   "toc_window_display": false
  }
 },
 "nbformat": 4,
 "nbformat_minor": 5
}
