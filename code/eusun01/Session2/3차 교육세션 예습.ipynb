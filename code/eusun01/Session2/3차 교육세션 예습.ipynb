{
 "cells": [
  {
   "cell_type": "markdown",
   "id": "e3d71ae1",
   "metadata": {},
   "source": [
    "# 3차 교육세션 예습"
   ]
  },
  {
   "cell_type": "markdown",
   "id": "2ac08fa8",
   "metadata": {},
   "source": [
    "데이터 입출력\n",
    "- 파일(Format)에 따라 데이터를 읽고 쓰는 함수가 다름\n",
    "\n",
    "csv파일\n",
    "- csv파일은 데이터 값을 쉼표로 구분하고 있는 텍스트 파일\n",
    "- 데이터 크기가 작고 압축이 용이함\n",
    "\n",
    "excel 파일\n",
    "- 행과 열의 데이터프레임\n",
    "- 행, 열로 일대일 대응됨\n",
    "- 데이터를 불러올 때 시트를 설정할 수 있음\n",
    "- 여러 시트를 불러올 때는 list로 받기"
   ]
  },
  {
   "cell_type": "markdown",
   "id": "11b0823c",
   "metadata": {},
   "source": [
    "전처리\n",
    "- 누락된 데이터, 중복된 데이터 등의 오류를 수정하고 목적에 맞게 변형하는 과정\n",
    "- 순서: 데이터 셋 확인 -> 결측값 처리 -> 이상값 처리 -> feature engineering\n",
    "\n",
    "결측치(누락데이터) 확인\n",
    "- info()로 데이터의 요약정보 출력하면 각 열에 속하는 유효한 값의 개수를 보여줌\n",
    "- value_counts를 이용하면 각 열의 NaN의 개수를 알 수 있음\n",
    "- insull() 는 df.insull().sum()의 형식으로 자주 사용되며 누락데이터면 True, 유효한 데이터면 False를 반환\n",
    "- notnull()은 유효데이터면 True, 누락데이터면 False 반환\n",
    "\n",
    "결측값 처리\n",
    "- 삭제: 전체 삭제 & 부분 삭제\n",
    "- 전체 삭제: 모델의 유효성이 낮아질 수 있음\n",
    "- 부분 삭제: 관리 cost가 늘어남\n",
    "- 열 삭제: 분석대상의 특성을 삭제\n",
    "- 행 삭제: 분석 대상의 관측값을 삭제\n",
    "\n",
    "대체\n",
    "- fillna() 메소드를 이용 \n",
    "- 평균값, 최빈값 등을 활용\n",
    "\n",
    "이상치(기존 데이터들과 거리가 먼 데이터)처리\n",
    "- df.describe()를 통해 이상치 확인\n",
    "- 전체 삭제, 다른값으로 대체, 변수화, 리샘플링\n",
    "\n",
    "정규화 \n",
    "- 정규화는 결과 왜곡의 방지를 위해 각 열에 속하는 데이터값을 동일한 크기 기준으로 나눈 배율로 나타내는 것\n",
    "- StandardScaler: 각 특징의 평균을 0, 분산을 1로 변경, 모든 특성들이 같은 스케일을 가지게 됨\n",
    "- MInMaxScaler: 모든 특징을 0과 1사이에 위치하게 만듦\n",
    "- RobustScaler: 모든 특성들이 같은 크기를 가지며, 평균과 분산 대신 중간값과 사분위수를 사용한다는 특징이 있음"
   ]
  }
 ],
 "metadata": {
  "kernelspec": {
   "display_name": "Python 3 (ipykernel)",
   "language": "python",
   "name": "python3"
  },
  "language_info": {
   "codemirror_mode": {
    "name": "ipython",
    "version": 3
   },
   "file_extension": ".py",
   "mimetype": "text/x-python",
   "name": "python",
   "nbconvert_exporter": "python",
   "pygments_lexer": "ipython3",
   "version": "3.9.13"
  },
  "toc": {
   "base_numbering": 1,
   "nav_menu": {},
   "number_sections": true,
   "sideBar": true,
   "skip_h1_title": false,
   "title_cell": "Table of Contents",
   "title_sidebar": "Contents",
   "toc_cell": false,
   "toc_position": {},
   "toc_section_display": true,
   "toc_window_display": false
  }
 },
 "nbformat": 4,
 "nbformat_minor": 5
}
