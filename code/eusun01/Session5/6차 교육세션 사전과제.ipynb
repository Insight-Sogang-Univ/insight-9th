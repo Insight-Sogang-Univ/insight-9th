{
 "cells": [
  {
   "cell_type": "markdown",
   "id": "5fa541ec",
   "metadata": {},
   "source": [
    "# 6차 교육세션 사전과제 정리"
   ]
  },
  {
   "cell_type": "markdown",
   "id": "3fd0d9d7",
   "metadata": {},
   "source": [
    "선형 회귀\n",
    "- 해당 타겟 함수를 선형의 함수로서 근사하는 방법\n",
    "- 타겟 함수를 각 특징변수들의 선형 가중합이라고 생각할 수 있음\n",
    "- Data points들로 Linear regression하는 것이 목표\n",
    "- 어떻게 적절한 linear function을 만들 것인가가 핵심"
   ]
  },
  {
   "cell_type": "markdown",
   "id": "e2fdd048",
   "metadata": {},
   "source": [
    "단순 선형 회귀\n",
    "- 설명 변수 x, 연속형 반응 변수 y\n",
    "- 두 변수는 인과관계가 있고 x에 따라 y값이 변한다고 가정\n",
    "- 산점도 그리기\n",
    "- 회귀계수 추정\n",
    "- 유의성 검정\n",
    "- 회귀모형의 평가"
   ]
  },
  {
   "cell_type": "markdown",
   "id": "90d26d99",
   "metadata": {},
   "source": [
    "다중 선형 회귀\n",
    "- 단순 선형 회귀모형의 확장\n",
    "- 연속형 반응 변수 하나에 설명 변수가 둘 이상인 모형\n",
    "- 1차식\n",
    "- 각 특성에 따라 가중치가 달라서 최종예측하려는 output이 달라짐\n",
    "- 가중치 구하기\n",
    "- 제약 조건이 많음(다중공선성, 범주형 설명변수, 변수선택)"
   ]
  }
 ],
 "metadata": {
  "kernelspec": {
   "display_name": "Python 3 (ipykernel)",
   "language": "python",
   "name": "python3"
  },
  "language_info": {
   "codemirror_mode": {
    "name": "ipython",
    "version": 3
   },
   "file_extension": ".py",
   "mimetype": "text/x-python",
   "name": "python",
   "nbconvert_exporter": "python",
   "pygments_lexer": "ipython3",
   "version": "3.9.13"
  },
  "toc": {
   "base_numbering": 1,
   "nav_menu": {},
   "number_sections": true,
   "sideBar": true,
   "skip_h1_title": false,
   "title_cell": "Table of Contents",
   "title_sidebar": "Contents",
   "toc_cell": false,
   "toc_position": {},
   "toc_section_display": true,
   "toc_window_display": false
  }
 },
 "nbformat": 4,
 "nbformat_minor": 5
}
