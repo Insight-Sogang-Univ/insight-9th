{
 "cells": [
  {
   "cell_type": "markdown",
   "id": "b1755916",
   "metadata": {},
   "source": [
    "# Jupiter notebook \n",
    "\n",
    "웹 브라우저에서 파이썬 코드를 입력해 실행해볼 수 있는 소프트웨어\n",
    "\n",
    "1. '셀'의 단위로 실행한다.  \n",
    "\n",
    "2. markdown, code의 두 가지 타입으로 지정할 수 있다.\n",
    " - 마크다운의 장점 : 목차들을 관리하기가 쉽다. 데이터 시각화에 용이하다.\n",
    " - 마크다운의 단점 : 표준이 없어서 사용자마다 다른 문법을 사용할 수 있다.\n",
    " "
   ]
  },
  {
   "cell_type": "markdown",
   "id": "79d25d97",
   "metadata": {},
   "source": [
    "# Github\n",
    "\n",
    "분산 버전 관리 툴인 깃 저장소 호스팅을 지원하는 웹 서비스\n",
    "\n",
    "1. 사용하는 이유?  \n",
    "\n",
    " - 일반 문서의 경우 과거의 자료를 저장해야할 필요가 거의 없지만, 코딩은 다르다.  \n",
    "   이전에 작성한 내용을 추가하거나 편집하는 경우가 많아 과거의 상태를 저장해야할 필요가 있다  \n",
    "   Git의 핵심은 과거의 데이터를 백업,버전관리 하는 것  \n",
    "   \n",
    "   \n",
    "2. 주요 용어 정리  \n",
    "\n",
    " - repository : Github 계정에 파일이나 폴더를 저장해두는 저장소\n",
    " - local : 인터넷 없이 사용할 수 있는 컴퓨터\n",
    " - remote : 인터넷, 네트워크를 통해 접속하는 것\n",
    " - server : 정보나 서비스를 제공하는 컴퓨터 시스템\n",
    " - os : 운영체제에 따라 소통하는 방식이 다름  \n",
    " \n",
    " \n",
    "3. 주요 함수 정리  \n",
    "\n",
    " - **_git init_** : 저장소 만들기\n",
    " - **_git status_** : git의 현재 상태를 확인\n",
    " - **_git commit -m\"\"_** : 새로운 버전을 생성\n",
    " - **_git push_** : 업로드 하기  \n",
    "   push : remote에 있는 파일을 local에 있는 파일로 맞춘다.\n",
    "     \n",
    " - **_git pull_** : 다운로드 하기  \n",
    " pull : local에 있는 파일을 remote에 있는 파일로 맞춘다."
   ]
  }
 ],
 "metadata": {
  "kernelspec": {
   "display_name": "Python 3 (ipykernel)",
   "language": "python",
   "name": "python3"
  },
  "language_info": {
   "codemirror_mode": {
    "name": "ipython",
    "version": 3
   },
   "file_extension": ".py",
   "mimetype": "text/x-python",
   "name": "python",
   "nbconvert_exporter": "python",
   "pygments_lexer": "ipython3",
   "version": "3.9.13"
  },
  "toc": {
   "base_numbering": 1,
   "nav_menu": {},
   "number_sections": true,
   "sideBar": true,
   "skip_h1_title": false,
   "title_cell": "Table of Contents",
   "title_sidebar": "Contents",
   "toc_cell": false,
   "toc_position": {},
   "toc_section_display": true,
   "toc_window_display": false
  }
 },
 "nbformat": 4,
 "nbformat_minor": 5
}
