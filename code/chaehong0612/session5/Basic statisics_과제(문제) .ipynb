{
 "cells": [
  {
   "cell_type": "markdown",
   "id": "39ecc0b2",
   "metadata": {},
   "source": [
    "# 통계 세션 과제!"
   ]
  },
  {
   "cell_type": "markdown",
   "id": "6133a28a",
   "metadata": {},
   "source": [
    "## 과제 1\n",
    "- list_A와 list_B 각각의 평균, 분산, 중간값을 구하시오\n",
    "- list_A와 list_B의 공분산, 상관계수를 구하시오\n",
    "<br><br>HINT!\n",
    "<br>1. 공분산, 상관계수 구할때 둘을 합쳐서 데이터프레임으로 만들고 해보세요!\n",
    "<br>2. 공분산과 상관계수는 어떤 값이지 데이터프레임 형태가 아닙니다!"
   ]
  },
  {
   "cell_type": "code",
   "execution_count": 20,
   "id": "8c274c72",
   "metadata": {
    "ExecuteTime": {
     "end_time": "2023-03-28T04:13:00.766719Z",
     "start_time": "2023-03-28T04:13:00.750641Z"
    }
   },
   "outputs": [],
   "source": [
    "list_A = [10, 3, 6, 17, 12, 1, 14, 19, 7, 15, 3, 4, 15, 8, 5, 13, 11, 2, 20, 16]\n",
    "list_B = [17, 2, 6, 14, 10, 16, 1, 8, 3, 7, 7, 12, 20, 18, 4, 11, 5, 19, 15, 9]"
   ]
  },
  {
   "cell_type": "code",
   "execution_count": 21,
   "id": "8a21ee55",
   "metadata": {
    "ExecuteTime": {
     "end_time": "2023-03-28T04:13:04.355503Z",
     "start_time": "2023-03-28T04:13:04.340527Z"
    },
    "scrolled": true
   },
   "outputs": [
    {
     "name": "stdout",
     "output_type": "stream",
     "text": [
      "list_A\n",
      "평균 : 10.05\n",
      "분산 : 35.73421052631579\n",
      "중간값 :  10.5\n",
      "\n",
      "\n",
      "list_B\n",
      "평균 : 10.2\n",
      "분산 : 35.22105263157895\n",
      "중간값 :  9.5\n"
     ]
    }
   ],
   "source": [
    "from statistics import mean, variance, median\n",
    "\n",
    "print('list_A')\n",
    "print('평균 :', mean(list_A))\n",
    "print('분산 :', variance(list_A))\n",
    "print('중간값 : ', median(list_A))\n",
    "\n",
    "print('\\n')\n",
    "\n",
    "print('list_B')\n",
    "print('평균 :', mean(list_B))\n",
    "print('분산 :', variance(list_B))\n",
    "print('중간값 : ', median(list_B))"
   ]
  },
  {
   "cell_type": "code",
   "execution_count": 33,
   "id": "f7fce644",
   "metadata": {
    "ExecuteTime": {
     "end_time": "2023-03-28T12:34:06.775427Z",
     "start_time": "2023-03-28T12:34:06.726861Z"
    },
    "scrolled": true
   },
   "outputs": [
    {
     "data": {
      "text/html": [
       "<div>\n",
       "<style scoped>\n",
       "    .dataframe tbody tr th:only-of-type {\n",
       "        vertical-align: middle;\n",
       "    }\n",
       "\n",
       "    .dataframe tbody tr th {\n",
       "        vertical-align: top;\n",
       "    }\n",
       "\n",
       "    .dataframe thead th {\n",
       "        text-align: right;\n",
       "    }\n",
       "</style>\n",
       "<table border=\"1\" class=\"dataframe\">\n",
       "  <thead>\n",
       "    <tr style=\"text-align: right;\">\n",
       "      <th></th>\n",
       "      <th>list_A</th>\n",
       "      <th>list_B</th>\n",
       "    </tr>\n",
       "  </thead>\n",
       "  <tbody>\n",
       "    <tr>\n",
       "      <th>0</th>\n",
       "      <td>10</td>\n",
       "      <td>17</td>\n",
       "    </tr>\n",
       "    <tr>\n",
       "      <th>1</th>\n",
       "      <td>3</td>\n",
       "      <td>2</td>\n",
       "    </tr>\n",
       "    <tr>\n",
       "      <th>2</th>\n",
       "      <td>6</td>\n",
       "      <td>6</td>\n",
       "    </tr>\n",
       "    <tr>\n",
       "      <th>3</th>\n",
       "      <td>17</td>\n",
       "      <td>14</td>\n",
       "    </tr>\n",
       "    <tr>\n",
       "      <th>4</th>\n",
       "      <td>12</td>\n",
       "      <td>10</td>\n",
       "    </tr>\n",
       "    <tr>\n",
       "      <th>5</th>\n",
       "      <td>1</td>\n",
       "      <td>16</td>\n",
       "    </tr>\n",
       "    <tr>\n",
       "      <th>6</th>\n",
       "      <td>14</td>\n",
       "      <td>1</td>\n",
       "    </tr>\n",
       "    <tr>\n",
       "      <th>7</th>\n",
       "      <td>19</td>\n",
       "      <td>8</td>\n",
       "    </tr>\n",
       "    <tr>\n",
       "      <th>8</th>\n",
       "      <td>7</td>\n",
       "      <td>3</td>\n",
       "    </tr>\n",
       "    <tr>\n",
       "      <th>9</th>\n",
       "      <td>15</td>\n",
       "      <td>7</td>\n",
       "    </tr>\n",
       "    <tr>\n",
       "      <th>10</th>\n",
       "      <td>3</td>\n",
       "      <td>7</td>\n",
       "    </tr>\n",
       "    <tr>\n",
       "      <th>11</th>\n",
       "      <td>4</td>\n",
       "      <td>12</td>\n",
       "    </tr>\n",
       "    <tr>\n",
       "      <th>12</th>\n",
       "      <td>15</td>\n",
       "      <td>20</td>\n",
       "    </tr>\n",
       "    <tr>\n",
       "      <th>13</th>\n",
       "      <td>8</td>\n",
       "      <td>18</td>\n",
       "    </tr>\n",
       "    <tr>\n",
       "      <th>14</th>\n",
       "      <td>5</td>\n",
       "      <td>4</td>\n",
       "    </tr>\n",
       "    <tr>\n",
       "      <th>15</th>\n",
       "      <td>13</td>\n",
       "      <td>11</td>\n",
       "    </tr>\n",
       "    <tr>\n",
       "      <th>16</th>\n",
       "      <td>11</td>\n",
       "      <td>5</td>\n",
       "    </tr>\n",
       "    <tr>\n",
       "      <th>17</th>\n",
       "      <td>2</td>\n",
       "      <td>19</td>\n",
       "    </tr>\n",
       "    <tr>\n",
       "      <th>18</th>\n",
       "      <td>20</td>\n",
       "      <td>15</td>\n",
       "    </tr>\n",
       "    <tr>\n",
       "      <th>19</th>\n",
       "      <td>16</td>\n",
       "      <td>9</td>\n",
       "    </tr>\n",
       "  </tbody>\n",
       "</table>\n",
       "</div>"
      ],
      "text/plain": [
       "    list_A  list_B\n",
       "0       10      17\n",
       "1        3       2\n",
       "2        6       6\n",
       "3       17      14\n",
       "4       12      10\n",
       "5        1      16\n",
       "6       14       1\n",
       "7       19       8\n",
       "8        7       3\n",
       "9       15       7\n",
       "10       3       7\n",
       "11       4      12\n",
       "12      15      20\n",
       "13       8      18\n",
       "14       5       4\n",
       "15      13      11\n",
       "16      11       5\n",
       "17       2      19\n",
       "18      20      15\n",
       "19      16       9"
      ]
     },
     "execution_count": 33,
     "metadata": {},
     "output_type": "execute_result"
    }
   ],
   "source": [
    "import pandas as pd\n",
    "\n",
    "df = pd.DataFrame([[10, 3, 6, 17, 12, 1, 14, 19, 7, 15, 3, 4, 15, 8, 5, 13, 11, 2, 20, 16],\n",
    "                  [17, 2, 6, 14, 10, 16, 1, 8, 3, 7, 7, 12, 20, 18, 4, 11, 5, 19, 15, 9]], index=['list_A', 'list_B']).T\n",
    "df"
   ]
  },
  {
   "cell_type": "code",
   "execution_count": 38,
   "id": "221eb313",
   "metadata": {
    "ExecuteTime": {
     "end_time": "2023-03-28T12:43:58.844262Z",
     "start_time": "2023-03-28T12:43:58.825293Z"
    }
   },
   "outputs": [
    {
     "name": "stdout",
     "output_type": "stream",
     "text": [
      "상관계수 :  0.060528972352169544\n",
      "공분산 :  2.147368421052631\n"
     ]
    }
   ],
   "source": [
    "print('상관계수 : ', df['list_A'].corr(df['list_B']))\n",
    "print('공분산 : ', df['list_A'].cov(df['list_B']))"
   ]
  },
  {
   "cell_type": "markdown",
   "id": "6e13ebc5",
   "metadata": {},
   "source": [
    "## 과제 2\n",
    "- 표본집단의 크기가 커지면 그 표본평균이 모평균에 가까워지는 현상을 무엇이라고 하나요?"
   ]
  },
  {
   "cell_type": "markdown",
   "id": "69649f78",
   "metadata": {
    "ExecuteTime": {
     "end_time": "2023-03-28T04:03:34.073978Z",
     "start_time": "2023-03-28T04:03:34.057283Z"
    }
   },
   "source": [
    "**대수의 법칙**"
   ]
  },
  {
   "cell_type": "markdown",
   "id": "1607fd28",
   "metadata": {},
   "source": [
    "## 과제 3\n",
    "- 이산확률분포 예시 1개, 연속확률분포 예시 1개를 적어주세요!"
   ]
  },
  {
   "cell_type": "markdown",
   "id": "46cc22ff",
   "metadata": {},
   "source": [
    "**이산확률분포** : 베르누이분포, 이항분포, 포아송분포  \n",
    "**연속확률분포** : 정규분포"
   ]
  },
  {
   "cell_type": "markdown",
   "id": "cdfbc28d",
   "metadata": {},
   "source": [
    "## 과제 4\n",
    "OX문제\n",
    "- 3-(1)번 : 귀무가설이 참임에도 거짓이라고 판단하는 오류를 제 2종 오류라고 한다 (O / X)\n",
    "- 3-(2)번 : 모집단이 이항 분포일때 그 모집단에서 추출한 표본 10000개의 각 평균들이 이루는 분포는 이항분포이다. (O / X)\n",
    "- 3-(3)번 : 검정 통계량 T가 매우 크면 귀무가설을 기각한다 (O / X)\n",
    "- 3-(4)번 : 1종 오류를 작게끔 설정하면 2종 오류가 커진다 (O / X)\n",
    "- 3-(5)번 : p-value가 유의수준보다 크면 귀무가설을 기각한다  (O / X)"
   ]
  },
  {
   "cell_type": "markdown",
   "id": "148cc552",
   "metadata": {},
   "source": [
    "**1. X => 위의 설명은 1종 오류**  \n",
    "**2. X => 관계없이 정규분포에 가까워짐**  \n",
    "**3. O**  \n",
    "**4. O**  \n",
    "**5. X => 귀무가설을 채택한다.**  "
   ]
  },
  {
   "cell_type": "markdown",
   "id": "f0d8b9ca",
   "metadata": {},
   "source": [
    "## 과제 5\n",
    "- 아래 코드의 결과대로면 광고 전략은 실패했는지, 실패하지 않았는지 검정하시오"
   ]
  },
  {
   "cell_type": "code",
   "execution_count": 55,
   "id": "ba4bf1ae",
   "metadata": {
    "ExecuteTime": {
     "end_time": "2023-03-19T16:31:49.926579Z",
     "start_time": "2023-03-19T16:31:49.906631Z"
    }
   },
   "outputs": [
    {
     "name": "stdout",
     "output_type": "stream",
     "text": [
      "t_stat : 2.079102000331699, p_value : 0.042863871998196565\n"
     ]
    }
   ],
   "source": [
    "import numpy as np\n",
    "import scipy.stats as stats\n",
    "\n",
    "# 실험 데이터 생성 \n",
    "np.random.seed(42)\n",
    "data = np.random.normal(loc=2, scale=1, size=50)\n",
    "\n",
    "# 귀무가설(H0) : 광고 전략이 실패한 것이 아니다\n",
    "# 대립가설(H1) : 광고 전략이 실패했다\n",
    "\n",
    "# 유의수준 설정\n",
    "alpha = 0.01\n",
    "\n",
    "# 검정 통계량 계산\n",
    "t_stat, p_value = stats.ttest_1samp(data, 1.5)\n",
    "print(f't_stat : {t_stat}, p_value : {p_value}')"
   ]
  },
  {
   "cell_type": "markdown",
   "id": "752be8ae",
   "metadata": {},
   "source": [
    "가설 검증 시에는 유의 확률 p-value가 유의 수준(alpha)보다 클 때 귀무가설을 채택하고, 작을 때 귀무가설을 기각한다.  \n",
    "코드의 결과를 살펴봤을 때 p-value가 유의 수준보다 크기 때문에 (0.042~ > 0.01) 귀무가설을 채택한다.  \n",
    "\n",
    "_**H0 : 광고 전략이 실패한 것이 아니다** 가 참이므로 광고 전략은 실패하지 않았다._"
   ]
  }
 ],
 "metadata": {
  "kernelspec": {
   "display_name": "Python 3 (ipykernel)",
   "language": "python",
   "name": "python3"
  },
  "language_info": {
   "codemirror_mode": {
    "name": "ipython",
    "version": 3
   },
   "file_extension": ".py",
   "mimetype": "text/x-python",
   "name": "python",
   "nbconvert_exporter": "python",
   "pygments_lexer": "ipython3",
   "version": "3.9.13"
  },
  "toc": {
   "base_numbering": 1,
   "nav_menu": {},
   "number_sections": true,
   "sideBar": true,
   "skip_h1_title": false,
   "title_cell": "Table of Contents",
   "title_sidebar": "Contents",
   "toc_cell": false,
   "toc_position": {},
   "toc_section_display": true,
   "toc_window_display": false
  }
 },
 "nbformat": 4,
 "nbformat_minor": 5
}
