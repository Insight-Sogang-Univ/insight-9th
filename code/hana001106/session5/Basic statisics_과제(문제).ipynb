{
 "cells": [
  {
   "cell_type": "markdown",
   "id": "6d7c4f1b",
   "metadata": {},
   "source": [
    "# 통계 세션 과제!"
   ]
  },
  {
   "cell_type": "markdown",
   "id": "c6e5c27c",
   "metadata": {},
   "source": [
    "## 과제 1\n",
    "- list_A와 list_B 각각의 평균, 분산, 중간값을 구하시오\n",
    "- list_A와 list_B의 공분산, 상관계수를 구하시오\n",
    "<br><br>HINT!\n",
    "<br>1. 공분산, 상관계수 구할때 둘을 합쳐서 데이터프레임으로 만들고 해보세요!\n",
    "<br>2. 공분산과 상관계수는 어떤 값이지 데이터프레임 형태가 아닙니다!"
   ]
  },
  {
   "cell_type": "code",
   "execution_count": 1,
   "id": "04db41a8",
   "metadata": {},
   "outputs": [],
   "source": [
    "from statistics import mean, median, variance"
   ]
  },
  {
   "cell_type": "code",
   "execution_count": 2,
   "id": "f7294686",
   "metadata": {
    "ExecuteTime": {
     "end_time": "2023-03-19T16:03:52.663039Z",
     "start_time": "2023-03-19T16:03:52.649072Z"
    }
   },
   "outputs": [],
   "source": [
    "list_A = [10, 3, 6, 17, 12, 1, 14, 19, 7, 15, 3, 4, 15, 8, 5, 13, 11, 2, 20, 16]\n",
    "list_B = [17, 2, 6, 14, 10, 16, 1, 8, 3, 7, 7, 12, 20, 18, 4, 11, 5, 19, 15, 9]"
   ]
  },
  {
   "cell_type": "code",
   "execution_count": 4,
   "id": "045ad7f0",
   "metadata": {},
   "outputs": [
    {
     "name": "stdout",
     "output_type": "stream",
     "text": [
      "list_A의 평균:  10.05\n",
      "list_B의 평균:  10.2\n",
      "list_A의 분산:  35.73421052631579\n",
      "list_B의 분산:  35.22105263157895\n",
      "list_A의 중간값:  10.5\n",
      "list_B의 중간값:  9.5\n"
     ]
    }
   ],
   "source": [
    "print(\"list_A의 평균: \", mean(list_A))\n",
    "print(\"list_B의 평균: \", mean(list_B))\n",
    "print(\"list_A의 분산: \", variance(list_A))\n",
    "print(\"list_B의 분산: \", variance(list_B))\n",
    "print(\"list_A의 중간값: \", median(list_A))\n",
    "print(\"list_B의 중간값: \", median(list_B))"
   ]
  },
  {
   "cell_type": "code",
   "execution_count": 5,
   "id": "abd9a667",
   "metadata": {},
   "outputs": [],
   "source": [
    "import pandas as pd"
   ]
  },
  {
   "cell_type": "code",
   "execution_count": 6,
   "id": "f74fbb73",
   "metadata": {},
   "outputs": [],
   "source": [
    "df = pd.DataFrame({'list_A':list_A, \"list_B\":list_B})"
   ]
  },
  {
   "cell_type": "code",
   "execution_count": 9,
   "id": "c3ca8560",
   "metadata": {},
   "outputs": [
    {
     "data": {
      "text/html": [
       "<div>\n",
       "<style scoped>\n",
       "    .dataframe tbody tr th:only-of-type {\n",
       "        vertical-align: middle;\n",
       "    }\n",
       "\n",
       "    .dataframe tbody tr th {\n",
       "        vertical-align: top;\n",
       "    }\n",
       "\n",
       "    .dataframe thead th {\n",
       "        text-align: right;\n",
       "    }\n",
       "</style>\n",
       "<table border=\"1\" class=\"dataframe\">\n",
       "  <thead>\n",
       "    <tr style=\"text-align: right;\">\n",
       "      <th></th>\n",
       "      <th>list_A</th>\n",
       "      <th>list_B</th>\n",
       "    </tr>\n",
       "  </thead>\n",
       "  <tbody>\n",
       "    <tr>\n",
       "      <th>list_A</th>\n",
       "      <td>35.734211</td>\n",
       "      <td>2.147368</td>\n",
       "    </tr>\n",
       "    <tr>\n",
       "      <th>list_B</th>\n",
       "      <td>2.147368</td>\n",
       "      <td>35.221053</td>\n",
       "    </tr>\n",
       "  </tbody>\n",
       "</table>\n",
       "</div>"
      ],
      "text/plain": [
       "           list_A     list_B\n",
       "list_A  35.734211   2.147368\n",
       "list_B   2.147368  35.221053"
      ]
     },
     "metadata": {},
     "output_type": "display_data"
    },
    {
     "data": {
      "text/html": [
       "<div>\n",
       "<style scoped>\n",
       "    .dataframe tbody tr th:only-of-type {\n",
       "        vertical-align: middle;\n",
       "    }\n",
       "\n",
       "    .dataframe tbody tr th {\n",
       "        vertical-align: top;\n",
       "    }\n",
       "\n",
       "    .dataframe thead th {\n",
       "        text-align: right;\n",
       "    }\n",
       "</style>\n",
       "<table border=\"1\" class=\"dataframe\">\n",
       "  <thead>\n",
       "    <tr style=\"text-align: right;\">\n",
       "      <th></th>\n",
       "      <th>list_A</th>\n",
       "      <th>list_B</th>\n",
       "    </tr>\n",
       "  </thead>\n",
       "  <tbody>\n",
       "    <tr>\n",
       "      <th>list_A</th>\n",
       "      <td>1.000000</td>\n",
       "      <td>0.060529</td>\n",
       "    </tr>\n",
       "    <tr>\n",
       "      <th>list_B</th>\n",
       "      <td>0.060529</td>\n",
       "      <td>1.000000</td>\n",
       "    </tr>\n",
       "  </tbody>\n",
       "</table>\n",
       "</div>"
      ],
      "text/plain": [
       "          list_A    list_B\n",
       "list_A  1.000000  0.060529\n",
       "list_B  0.060529  1.000000"
      ]
     },
     "metadata": {},
     "output_type": "display_data"
    }
   ],
   "source": [
    "display(df.cov())\n",
    "display(df.corr())"
   ]
  },
  {
   "cell_type": "code",
   "execution_count": 14,
   "id": "116a522f",
   "metadata": {},
   "outputs": [
    {
     "name": "stdout",
     "output_type": "stream",
     "text": [
      "list_A와 list_B의 공분산:  2.147368421052631\n",
      "list_A와 list_B의 상관계수:  0.06052897235216952\n"
     ]
    }
   ],
   "source": [
    "print(\"list_A와 list_B의 공분산: \", df.cov().loc[\"list_B\",\"list_A\"])\n",
    "print(\"list_A와 list_B의 상관계수: \", df.corr().loc[\"list_B\",\"list_A\"])"
   ]
  },
  {
   "cell_type": "markdown",
   "id": "9003dd60",
   "metadata": {},
   "source": [
    "## 과제 2\n",
    "- 표본집단의 크기가 커지면 그 표본평균이 모평균에 가까워지는 현상을 무엇이라고 하나요?"
   ]
  },
  {
   "cell_type": "code",
   "execution_count": 16,
   "id": "3a7ed926",
   "metadata": {},
   "outputs": [
    {
     "name": "stdout",
     "output_type": "stream",
     "text": [
      "대수의 법칙 or 라플라스 정리 (LLN)\n"
     ]
    }
   ],
   "source": [
    "print(\"대수의 법칙 or 라플라스 정리 (LLN)\")"
   ]
  },
  {
   "cell_type": "markdown",
   "id": "7a55ab0e",
   "metadata": {},
   "source": [
    "## 과제 3\n",
    "- 이산확률분포 예시 1개, 연속확률분포 예시 1개를 적어주세요!"
   ]
  },
  {
   "cell_type": "code",
   "execution_count": 17,
   "id": "40ed4d1d",
   "metadata": {},
   "outputs": [
    {
     "name": "stdout",
     "output_type": "stream",
     "text": [
      "이산확률분포: 포아송분포\n",
      "연속확률분포: 정규분포\n"
     ]
    }
   ],
   "source": [
    "print(\"이산확률분포: 포아송분포\")\n",
    "print(\"연속확률분포: 정규분포\")"
   ]
  },
  {
   "cell_type": "markdown",
   "id": "ea76a4e2",
   "metadata": {},
   "source": [
    "## 과제 4\n",
    "OX문제\n",
    "- 3-(1)번 : 귀무가설이 참임에도 거짓이라고 판단하는 오류를 제 2종 오류라고 한다 (O / X)\n",
    "- 3-(2)번 : 모집단이 이항 분포일때 그 모집단에서 추출한 표본 10000개의 각 평균들이 이루는 분포는 이항분포이다. (O / X)\n",
    "- 3-(3)번 : 검정 통계량 T가 매우 크면 귀무가설을 기각한다 (O / X)\n",
    "- 3-(4)번 : 1종 오류를 작게끔 설정하면 2종 오류가 커진다 (O / X)\n",
    "- 3-(5)번 : p-value가 유의수준보다 크면 귀무가설을 기각한다  (O / X)"
   ]
  },
  {
   "cell_type": "markdown",
   "id": "d297bd4b",
   "metadata": {},
   "source": [
    "##### 3-1\n",
    "X, 제1종 오류\n",
    "##### 3-2\n",
    "X, 꼭 그렇지는 않다\n",
    "##### 3-3\n",
    "O\n",
    "##### 3-5\n",
    "O\n",
    "##### 3-6\n",
    "X, 반대"
   ]
  },
  {
   "cell_type": "markdown",
   "id": "f71c8f1e",
   "metadata": {},
   "source": [
    "## 과제 5\n",
    "- 아래 코드의 결과대로면 광고 전략은 실패했는지, 실패하지 않았는지 검정하시오"
   ]
  },
  {
   "cell_type": "code",
   "execution_count": 55,
   "id": "a33dae49",
   "metadata": {
    "ExecuteTime": {
     "end_time": "2023-03-19T16:31:49.926579Z",
     "start_time": "2023-03-19T16:31:49.906631Z"
    }
   },
   "outputs": [
    {
     "name": "stdout",
     "output_type": "stream",
     "text": [
      "t_stat : 2.079102000331699, p_value : 0.042863871998196565\n"
     ]
    }
   ],
   "source": [
    "import numpy as np\n",
    "import scipy.stats as stats\n",
    "\n",
    "# 실험 데이터 생성 \n",
    "np.random.seed(42)\n",
    "data = np.random.normal(loc=2, scale=1, size=50)\n",
    "\n",
    "# 귀무가설(H0) : 광고 전략이 실패한 것이 아니다\n",
    "# 대립가설(H1) : 광고 전략이 실패했다\n",
    "\n",
    "# 유의수준 설정\n",
    "alpha = 0.01\n",
    "\n",
    "# 검정 통계량 계산\n",
    "t_stat, p_value = stats.ttest_1samp(data, 1.5)\n",
    "print(f't_stat : {t_stat}, p_value : {p_value}')"
   ]
  },
  {
   "cell_type": "markdown",
   "id": "8121aa30",
   "metadata": {},
   "source": [
    "광고 전략은 실패하지 않았다"
   ]
  },
  {
   "cell_type": "code",
   "execution_count": null,
   "id": "f7b4e5dc",
   "metadata": {},
   "outputs": [],
   "source": []
  }
 ],
 "metadata": {
  "kernelspec": {
   "display_name": "Python 3 (ipykernel)",
   "language": "python",
   "name": "python3"
  },
  "language_info": {
   "codemirror_mode": {
    "name": "ipython",
    "version": 3
   },
   "file_extension": ".py",
   "mimetype": "text/x-python",
   "name": "python",
   "nbconvert_exporter": "python",
   "pygments_lexer": "ipython3",
   "version": "3.9.16"
  },
  "toc": {
   "base_numbering": 1,
   "nav_menu": {},
   "number_sections": true,
   "sideBar": true,
   "skip_h1_title": false,
   "title_cell": "Table of Contents",
   "title_sidebar": "Contents",
   "toc_cell": false,
   "toc_position": {},
   "toc_section_display": true,
   "toc_window_display": false
  }
 },
 "nbformat": 4,
 "nbformat_minor": 5
}
