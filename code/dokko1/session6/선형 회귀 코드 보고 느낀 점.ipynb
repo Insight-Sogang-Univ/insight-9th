{
 "cells": [
  {
   "cell_type": "markdown",
   "id": "bfe6e1f6",
   "metadata": {},
   "source": [
    "# 느낀 점\n",
    "   - 처음에 전처리 하는 과정을 보고 진짜 기가 막히다는 생각을 했습니다. 아직 전처리 능력이 부족하다고 생각했는데 이번 과제를 돌려보면서 더더욱 부족하다고 느끼게 되었습니다. 이번주는 너무 바빠서 다른 곳에다가 적용시켜볼 수 없겠지만 인사이콘이 끝나면 이번 과제를 여러 번 복습해야겠다고 느꼈습니다. 그리고 이번 전처리할 때도 그렇구 저번에 규환이가 코드 짜는 것을 봤을 때도 그렇구 lamda x 함수를 많이 사용하는 것 같아서 이 부분을 좀 더 익혀야 될 것 같다고 느꼈습니다. \n",
    "    \n",
    "\n",
    "\n",
    "\n",
    "\n",
    "\n",
    "# 알게 된 점\n",
    "   - 왜도와 첨도에 대해 알게 되었습니다. 처음에 데이터의 분포를 볼 때 항상 정규분포처럼 이쁜 모양의 데이터만 처리해야 하는 것은 아니기 때문에 처음에 한 것처럼 왜도, 첨도를 알아보는 작업의 필요성을 알게 되었습니다.\n",
    "   \n",
    "   - 왜도 값에 따라 log 값을 적용하여 분포를 바꿔주여야 한다는 것을 알게 되었습니다.\n",
    "   \n",
    "   - heatmap 에서 반쪽만 보이게 하는 방법도 좋은 것 같습니다.\n",
    "   \n",
    "   - 그리고 그 밑에 줄에 있는 관심있는 변수와 상관계수가 높은 변수를 내림차순으로 정렬하는 것도 굉장히 인상적이었습니다.\n",
    "   \n",
    "   - from scipy import stats,\n",
    "     import statsmodels.api as sm,\n",
    "     from statsmodels.formula.api import ols, 같은 통계 library도 처음 알게 되었습니다.\n",
    "   "
   ]
  }
 ],
 "metadata": {
  "kernelspec": {
   "display_name": "Python 3 (ipykernel)",
   "language": "python",
   "name": "python3"
  },
  "language_info": {
   "codemirror_mode": {
    "name": "ipython",
    "version": 3
   },
   "file_extension": ".py",
   "mimetype": "text/x-python",
   "name": "python",
   "nbconvert_exporter": "python",
   "pygments_lexer": "ipython3",
   "version": "3.9.13"
  },
  "toc": {
   "base_numbering": 1,
   "nav_menu": {},
   "number_sections": true,
   "sideBar": true,
   "skip_h1_title": false,
   "title_cell": "Table of Contents",
   "title_sidebar": "Contents",
   "toc_cell": false,
   "toc_position": {},
   "toc_section_display": true,
   "toc_window_display": false
  }
 },
 "nbformat": 4,
 "nbformat_minor": 5
}
