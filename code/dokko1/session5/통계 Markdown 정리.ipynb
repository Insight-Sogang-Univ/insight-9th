{
 "cells": [
  {
   "cell_type": "markdown",
   "id": "35652e51",
   "metadata": {},
   "source": [
    "# 통계 MarkDown 정리\n",
    "\n",
    "## 새로 알게 된 것 복습\n",
    "- 사분의 수 : 데이터 표본을 4개의 동일한 부분으로 나눈 값\n",
    "     - Q1 = 1 + (n-1) x 0.25\n",
    "     - Q2 = 중앙값\n",
    "     - Q3 = 1 + (n-1) x 0.75\n",
    "\n",
    "\n",
    "- 공분산(covariance) : 두 변수가 각자의 평균으로부터 떨어진 값을 서로 곱한 후 평균을 낸 값, 즉 두 변수가 어느 방향으로 얼만큼 변동한지를ㄹ 나타냄 \n",
    "\n",
    "- 상관계수(correaltion) : 각 변수의 변동성을 이용하여 표준화한 값, -1~1 사이의 값을 가짐.\n",
    "    - 1에 가까울수록 양의 상관관계\n",
    "    - -1에 가까울수록 음의 상관관계 \n",
    "        \n",
    "\n",
    "## 앞으로 더 공부할 것\n",
    "\n",
    "- t 분포 및 t-test : 독립변수 하나의 게수가 통계적으로 유의미한지 판단, 주로 소표본에서 검정할 때 사용<br> --- 추가 공부 필요\n",
    "\n",
    "\n",
    "- 대수의 법칙 or 라플라스 정리(LLN : Low of Large Numbers) : 표본의 갯수가 증가할수록 모집단에 가까워진다, 표본의 크기가 커지면 표본평균이 모평균과 가까워져 정확도가 올라간다.\n",
    "\n",
    "\n",
    "- 중심 극한 정리(CLT : Central Limit Theorem) : 한 번 추출할 때 뽑는 횟수에 상관없이 많은 표본을 취할수록(size가 클수록) 표본들의 평균 분포가 정규분포에 가까워진다.\n",
    "\n",
    "\n",
    "- 가설검정의 절차(추가 공부 필수)\n",
    "    1. 가설 설정\n",
    "    2. 유의수준 설정\n",
    "    3. 검정통계랑 산출\n",
    "    4. 기각/채택 판단\n",
    "\n",
    "- 최근 Bayes 정리를 활용하여 처리하는 일들이 많기 때문에 Bayes 정리에 대한 공부도 필수 \n",
    "\n",
    "## 질문\n",
    "- 1종 오류, 2종 오류가 성능 지표 평가에 사용하는 정확도 및 재현률 정도로 치환해서 이해하면 되는지 궁금합니다! "
   ]
  },
  {
   "cell_type": "code",
   "execution_count": null,
   "id": "a0e3db34",
   "metadata": {},
   "outputs": [],
   "source": []
  }
 ],
 "metadata": {
  "kernelspec": {
   "display_name": "Python 3 (ipykernel)",
   "language": "python",
   "name": "python3"
  },
  "language_info": {
   "codemirror_mode": {
    "name": "ipython",
    "version": 3
   },
   "file_extension": ".py",
   "mimetype": "text/x-python",
   "name": "python",
   "nbconvert_exporter": "python",
   "pygments_lexer": "ipython3",
   "version": "3.9.13"
  },
  "toc": {
   "base_numbering": 1,
   "nav_menu": {},
   "number_sections": true,
   "sideBar": true,
   "skip_h1_title": false,
   "title_cell": "Table of Contents",
   "title_sidebar": "Contents",
   "toc_cell": false,
   "toc_position": {},
   "toc_section_display": true,
   "toc_window_display": false
  }
 },
 "nbformat": 4,
 "nbformat_minor": 5
}
