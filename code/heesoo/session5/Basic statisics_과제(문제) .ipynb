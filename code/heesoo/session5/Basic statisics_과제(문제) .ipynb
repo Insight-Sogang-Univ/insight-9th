{
 "cells": [
  {
   "cell_type": "markdown",
   "id": "39ecc0b2",
   "metadata": {},
   "source": [
    "# 통계 세션 과제!"
   ]
  },
  {
   "cell_type": "markdown",
   "id": "6133a28a",
   "metadata": {},
   "source": [
    "## 과제 1\n",
    "- list_A와 list_B 각각의 평균, 분산, 중간값을 구하시오\n",
    "- list_A와 list_B의 공분산, 상관계수를 구하시오\n",
    "<br><br>HINT!\n",
    "<br>1. 공분산, 상관계수 구할때 둘을 합쳐서 데이터프레임으로 만들고 해보세요!\n",
    "<br>2. 공분산과 상관계수는 어떤 값이지 데이터프레임 형태가 아닙니다!"
   ]
  },
  {
   "cell_type": "code",
   "execution_count": 9,
   "id": "8c274c72",
   "metadata": {
    "ExecuteTime": {
     "end_time": "2023-03-19T16:03:52.663039Z",
     "start_time": "2023-03-19T16:03:52.649072Z"
    }
   },
   "outputs": [],
   "source": [
    "list_A = [10, 3, 6, 17, 12, 1, 14, 19, 7, 15, 3, 4, 15, 8, 5, 13, 11, 2, 20, 16]\n",
    "list_B = [17, 2, 6, 14, 10, 16, 1, 8, 3, 7, 7, 12, 20, 18, 4, 11, 5, 19, 15, 9]"
   ]
  },
  {
   "cell_type": "code",
   "execution_count": 36,
   "id": "c2c6e9d2",
   "metadata": {},
   "outputs": [
    {
     "name": "stdout",
     "output_type": "stream",
     "text": [
      "10.05\n",
      "10.2\n",
      "10.5\n",
      "9.5\n",
      "35.73421052631579\n",
      "35.22105263157895\n"
     ]
    }
   ],
   "source": [
    "import statistics\n",
    "\n",
    "print(statistics.mean(list_A))\n",
    "print(statistics.mean(list_B))\n",
    "print(statistics.median(list_A))\n",
    "print(statistics.median(list_B))\n",
    "print(statistics.variance(list_A))\n",
    "print(statistics.variance(list_B))"
   ]
  },
  {
   "cell_type": "code",
   "execution_count": 42,
   "id": "f1949c46",
   "metadata": {},
   "outputs": [
    {
     "data": {
      "text/html": [
       "<div>\n",
       "<style scoped>\n",
       "    .dataframe tbody tr th:only-of-type {\n",
       "        vertical-align: middle;\n",
       "    }\n",
       "\n",
       "    .dataframe tbody tr th {\n",
       "        vertical-align: top;\n",
       "    }\n",
       "\n",
       "    .dataframe thead th {\n",
       "        text-align: right;\n",
       "    }\n",
       "</style>\n",
       "<table border=\"1\" class=\"dataframe\">\n",
       "  <thead>\n",
       "    <tr style=\"text-align: right;\">\n",
       "      <th></th>\n",
       "      <th>0</th>\n",
       "    </tr>\n",
       "  </thead>\n",
       "  <tbody>\n",
       "    <tr>\n",
       "      <th>0</th>\n",
       "      <td>1.0</td>\n",
       "    </tr>\n",
       "  </tbody>\n",
       "</table>\n",
       "</div>"
      ],
      "text/plain": [
       "     0\n",
       "0  1.0"
      ]
     },
     "execution_count": 42,
     "metadata": {},
     "output_type": "execute_result"
    }
   ],
   "source": [
    "import pandas as pd\n",
    "\n",
    "list_A = [10, 3, 6, 17, 12, 1, 14, 19, 7, 15, 3, 4, 15, 8, 5, 13, 11, 2, 20, 16]\n",
    "list_B = [17, 2, 6, 14, 10, 16, 1, 8, 3, 7, 7, 12, 20, 18, 4, 11, 5, 19, 15, 9]\n",
    "\n",
    "df1 = pd.DataFrame(list_A)\n",
    "df2 = pd.DataFrame(list_B)\n",
    "\n",
    "result1 = pd.concat([df1,df2])\n",
    "result1.corr()\n",
    "\n",
    "\n",
    "*오류*"
   ]
  },
  {
   "cell_type": "code",
   "execution_count": 44,
   "id": "322ed87b",
   "metadata": {},
   "outputs": [
    {
     "name": "stdout",
     "output_type": "stream",
     "text": [
      "공분산\n",
      "            a          b\n",
      "a  35.734211   2.147368\n",
      "b   2.147368  35.221053\n",
      "\n",
      "\n",
      "상관계수\n",
      "           a         b\n",
      "a  1.000000  0.060529\n",
      "b  0.060529  1.000000\n"
     ]
    }
   ],
   "source": [
    "df = pd.DataFrame({'a': list_A, 'b': list_B})\n",
    "\n",
    "print('공분산\\n', df.cov())\n",
    "print('\\n')\n",
    "print('상관계수\\n', df.corr())"
   ]
  },
  {
   "cell_type": "markdown",
   "id": "6e13ebc5",
   "metadata": {},
   "source": [
    "## 과제 2\n",
    "- 표본집단의 크기가 커지면 그 표본평균이 모평균에 가까워지는 현상을 무엇이라고 하나요?"
   ]
  },
  {
   "cell_type": "markdown",
   "id": "2ba56101",
   "metadata": {},
   "source": [
    "-> 라플라스 정리"
   ]
  },
  {
   "cell_type": "markdown",
   "id": "5a36da28",
   "metadata": {},
   "source": [
    "-> 대수의 법칙"
   ]
  },
  {
   "cell_type": "markdown",
   "id": "1607fd28",
   "metadata": {},
   "source": [
    "## 과제 3\n",
    "- 이산확률분포 예시 1개, 연속확률분포 예시 1개를 적어주세요!"
   ]
  },
  {
   "cell_type": "markdown",
   "id": "52158b8a",
   "metadata": {},
   "source": [
    "-> 베르누이 분포\n",
    "\n",
    "-> 정규분포"
   ]
  },
  {
   "cell_type": "markdown",
   "id": "cdfbc28d",
   "metadata": {},
   "source": [
    "## 과제 4\n",
    "OX문제\n",
    "- 3-(1)번 : 귀무가설이 참임에도 거짓이라고 판단하는 오류를 제 2종 오류라고 한다 (O / X)\n",
    "- 3-(2)번 : 모집단이 이항 분포일때 그 모집단에서 추출한 표본 10000개의 각 평균들이 이루는 분포는 이항분포이다. (O / X)\n",
    "- 3-(3)번 : 검정 통계량 T가 매우 크면 귀무가설을 기각한다 (O / X)\n",
    "- 3-(4)번 : 1종 오류를 작게끔 설정하면 2종 오류가 커진다 (O / X)\n",
    "- 3-(5)번 : p-value가 유의수준보다 크면 귀무가설을 기각한다  (O / X)"
   ]
  },
  {
   "cell_type": "markdown",
   "id": "0b2ad4eb",
   "metadata": {},
   "source": [
    "3-(1) : x \n",
    "\n",
    "3-(2) : o\n",
    "\n",
    "3-(3) : o\n",
    "\n",
    "3-(4) : x\n",
    "\n",
    "3-(5) : x"
   ]
  },
  {
   "cell_type": "markdown",
   "id": "f0d8b9ca",
   "metadata": {},
   "source": [
    "## 과제 5\n",
    "- 아래 코드의 결과대로면 광고 전략은 실패했는지, 실패하지 않았는지 검정하시오"
   ]
  },
  {
   "cell_type": "code",
   "execution_count": 6,
   "id": "ba4bf1ae",
   "metadata": {
    "ExecuteTime": {
     "end_time": "2023-03-19T16:31:49.926579Z",
     "start_time": "2023-03-19T16:31:49.906631Z"
    }
   },
   "outputs": [
    {
     "name": "stdout",
     "output_type": "stream",
     "text": [
      "t_stat : 2.079102000331699, p_value : 0.042863871998196565\n"
     ]
    }
   ],
   "source": [
    "import numpy as np\n",
    "import scipy.stats as stats\n",
    "\n",
    "# 실험 데이터 생성 \n",
    "np.random.seed(42)\n",
    "data = np.random.normal(loc=2, scale=1, size=50)\n",
    "\n",
    "# 귀무가설(H0) : 광고 전략이 실패한 것이 아니다\n",
    "# 대립가설(H1) : 광고 전략이 실패했다\n",
    "\n",
    "# 유의수준 설정\n",
    "alpha = 0.01\n",
    "\n",
    "# 검정 통계량 계산\n",
    "t_stat, p_value = stats.ttest_1samp(data, 1.5)\n",
    "print(f't_stat : {t_stat}, p_value : {p_value}')"
   ]
  },
  {
   "cell_type": "markdown",
   "id": "71733e86",
   "metadata": {},
   "source": [
    "p-value가 유의수준 즉, 알파보다 크거나 같으므로, 광고 전략은 실패하지 않았다. 귀무가설이 채택된 것이다. "
   ]
  },
  {
   "cell_type": "code",
   "execution_count": null,
   "id": "9bdd5e90",
   "metadata": {},
   "outputs": [],
   "source": []
  }
 ],
 "metadata": {
  "kernelspec": {
   "display_name": "Python 3 (ipykernel)",
   "language": "python",
   "name": "python3"
  },
  "language_info": {
   "codemirror_mode": {
    "name": "ipython",
    "version": 3
   },
   "file_extension": ".py",
   "mimetype": "text/x-python",
   "name": "python",
   "nbconvert_exporter": "python",
   "pygments_lexer": "ipython3",
   "version": "3.9.13"
  },
  "toc": {
   "base_numbering": 1,
   "nav_menu": {},
   "number_sections": true,
   "sideBar": true,
   "skip_h1_title": false,
   "title_cell": "Table of Contents",
   "title_sidebar": "Contents",
   "toc_cell": false,
   "toc_position": {},
   "toc_section_display": true,
   "toc_window_display": false
  }
 },
 "nbformat": 4,
 "nbformat_minor": 5
}
