{
 "cells": [
  {
   "cell_type": "markdown",
   "id": "5c34c8cc",
   "metadata": {},
   "source": [
    "# 코드"
   ]
  },
  {
   "cell_type": "code",
   "execution_count": 4,
   "id": "2441eebd",
   "metadata": {
    "ExecuteTime": {
     "end_time": "2022-11-07T16:07:44.712363Z",
     "start_time": "2022-11-07T16:07:37.858161Z"
    }
   },
   "outputs": [
    {
     "ename": "ModuleNotFoundError",
     "evalue": "No module named 'sklearn'",
     "output_type": "error",
     "traceback": [
      "\u001b[1;31m---------------------------------------------------------------------------\u001b[0m",
      "\u001b[1;31mModuleNotFoundError\u001b[0m                       Traceback (most recent call last)",
      "Cell \u001b[1;32mIn[4], line 2\u001b[0m\n\u001b[0;32m      1\u001b[0m \u001b[38;5;66;03m# 필요 라이브러리 호출\u001b[39;00m\n\u001b[1;32m----> 2\u001b[0m \u001b[38;5;28;01mimport\u001b[39;00m \u001b[38;5;21;01msklearn\u001b[39;00m\u001b[38;5;21;01m.\u001b[39;00m\u001b[38;5;21;01mdatasets\u001b[39;00m \u001b[38;5;28;01mas\u001b[39;00m \u001b[38;5;21;01md\u001b[39;00m\n\u001b[0;32m      3\u001b[0m \u001b[38;5;28;01mimport\u001b[39;00m \u001b[38;5;21;01mpandas\u001b[39;00m \u001b[38;5;28;01mas\u001b[39;00m \u001b[38;5;21;01mpd\u001b[39;00m\n\u001b[0;32m      4\u001b[0m \u001b[38;5;28;01mimport\u001b[39;00m \u001b[38;5;21;01mnumpy\u001b[39;00m \u001b[38;5;28;01mas\u001b[39;00m \u001b[38;5;21;01mnp\u001b[39;00m\n",
      "\u001b[1;31mModuleNotFoundError\u001b[0m: No module named 'sklearn'"
     ]
    }
   ],
   "source": [
    "# 필요 라이브러리 호출\n",
    "import sklearn.datasets as d\n",
    "import pandas as pd\n",
    "import numpy as np\n",
    "import matplotlib.pyplot as plt\n",
    "import warnings\n",
    "warnings.filterwarnings('ignore')\n",
    "\n",
    "# 머신러닝 알고리즘 호출\n",
    "from sklearn.svm import SVC\n",
    "from sklearn.tree import DecisionTreeClassifier\n",
    "from sklearn.linear_model import LogisticRegression\n",
    "from sklearn.naive_bayes import GaussianNB\n",
    "from sklearn.model_selection import train_test_split \n",
    "from sklearn.metrics import accuracy_score, precision_score, recall_score, f1_score\n",
    "\n",
    "# 평가지표 호출\n",
    "from sklearn.metrics import confusion_matrix, ConfusionMatrixDisplay\n",
    "\n",
    "# 정규화\n",
    "from sklearn.preprocessing import MinMaxScaler\n",
    "from sklearn.preprocessing import Binarizer"
   ]
  },
  {
   "cell_type": "code",
   "execution_count": 5,
   "id": "c9dec9d1",
   "metadata": {
    "ExecuteTime": {
     "end_time": "2022-11-07T16:07:44.803204Z",
     "start_time": "2022-11-07T16:07:44.719137Z"
    }
   },
   "outputs": [
    {
     "ename": "NameError",
     "evalue": "name 'd' is not defined",
     "output_type": "error",
     "traceback": [
      "\u001b[1;31m---------------------------------------------------------------------------\u001b[0m",
      "\u001b[1;31mNameError\u001b[0m                                 Traceback (most recent call last)",
      "Cell \u001b[1;32mIn[5], line 2\u001b[0m\n\u001b[0;32m      1\u001b[0m \u001b[38;5;66;03m# 데이터 불러오기\u001b[39;00m\n\u001b[1;32m----> 2\u001b[0m cancer_data \u001b[38;5;241m=\u001b[39m \u001b[43md\u001b[49m\u001b[38;5;241m.\u001b[39mload_breast_cancer()\n\u001b[0;32m      4\u001b[0m X_data \u001b[38;5;241m=\u001b[39m pd\u001b[38;5;241m.\u001b[39mDataFrame(cancer_data\u001b[38;5;241m.\u001b[39mdata, columns\u001b[38;5;241m=\u001b[39mcancer_data\u001b[38;5;241m.\u001b[39mfeature_names)\n\u001b[0;32m      5\u001b[0m X_data \u001b[38;5;241m=\u001b[39m MinMaxScaler()\u001b[38;5;241m.\u001b[39mfit_transform(X_data)\n",
      "\u001b[1;31mNameError\u001b[0m: name 'd' is not defined"
     ]
    }
   ],
   "source": [
    "# 데이터 불러오기\n",
    "cancer_data = d.load_breast_cancer()\n",
    "\n",
    "X_data = pd.DataFrame(cancer_data.data, columns=cancer_data.feature_names)\n",
    "X_data = MinMaxScaler().fit_transform(X_data)\n",
    "y_label = pd.DataFrame(cancer_data.target)\n",
    "\n",
    "X_train, X_test, y_train, y_test = train_test_split(X_data, y_label, test_size=0.2, random_state=0)"
   ]
  },
  {
   "cell_type": "markdown",
   "id": "f589f3b6",
   "metadata": {},
   "source": [
    "# 과제 1"
   ]
  },
  {
   "cell_type": "code",
   "execution_count": 6,
   "id": "5552607f",
   "metadata": {
    "ExecuteTime": {
     "end_time": "2022-11-07T16:07:45.539905Z",
     "start_time": "2022-11-07T16:07:44.808890Z"
    }
   },
   "outputs": [
    {
     "ename": "NameError",
     "evalue": "name 'LogisticRegression' is not defined",
     "output_type": "error",
     "traceback": [
      "\u001b[1;31m---------------------------------------------------------------------------\u001b[0m",
      "\u001b[1;31mNameError\u001b[0m                                 Traceback (most recent call last)",
      "Cell \u001b[1;32mIn[6], line 1\u001b[0m\n\u001b[1;32m----> 1\u001b[0m lr_clf \u001b[38;5;241m=\u001b[39m \u001b[43mLogisticRegression\u001b[49m(solver\u001b[38;5;241m=\u001b[39m\u001b[38;5;124m'\u001b[39m\u001b[38;5;124mnewton-cg\u001b[39m\u001b[38;5;124m'\u001b[39m, random_state\u001b[38;5;241m=\u001b[39m\u001b[38;5;241m0\u001b[39m)\u001b[38;5;241m.\u001b[39mfit(X_train, y_train)\n\u001b[0;32m      3\u001b[0m ConfusionMatrixDisplay\u001b[38;5;241m.\u001b[39mfrom_estimator(lr_clf, X_train, y_train)\n\u001b[0;32m      4\u001b[0m \u001b[38;5;28mprint\u001b[39m(\u001b[38;5;124m'\u001b[39m\u001b[38;5;124m로지스틱 회귀의 Training data의 confusion matrix\u001b[39m\u001b[38;5;124m'\u001b[39m)\n",
      "\u001b[1;31mNameError\u001b[0m: name 'LogisticRegression' is not defined"
     ]
    }
   ],
   "source": [
    "lr_clf = LogisticRegression(solver='newton-cg', random_state=0).fit(X_train, y_train)\n",
    "\n",
    "ConfusionMatrixDisplay.from_estimator(lr_clf, X_train, y_train)\n",
    "print('로지스틱 회귀의 Training data의 confusion matrix')\n",
    "plt.show()"
   ]
  },
  {
   "cell_type": "code",
   "execution_count": 7,
   "id": "f6be8f62",
   "metadata": {
    "ExecuteTime": {
     "end_time": "2022-11-07T16:07:46.027796Z",
     "start_time": "2022-11-07T16:07:45.545886Z"
    },
    "scrolled": true
   },
   "outputs": [
    {
     "ename": "NameError",
     "evalue": "name 'lr_clf' is not defined",
     "output_type": "error",
     "traceback": [
      "\u001b[1;31m---------------------------------------------------------------------------\u001b[0m",
      "\u001b[1;31mNameError\u001b[0m                                 Traceback (most recent call last)",
      "Cell \u001b[1;32mIn[7], line 4\u001b[0m\n\u001b[0;32m      1\u001b[0m \u001b[38;5;66;03m# 과제 1\u001b[39;00m\n\u001b[0;32m      2\u001b[0m \u001b[38;5;66;03m# 아래 Confusion Matrix의 accuracy, precision, recall, f1-score를 계산하라\u001b[39;00m\n\u001b[1;32m----> 4\u001b[0m y_pred \u001b[38;5;241m=\u001b[39m \u001b[43mlr_clf\u001b[49m\u001b[38;5;241m.\u001b[39mpredict(X_test)\n\u001b[0;32m      6\u001b[0m \u001b[38;5;28mprint\u001b[39m(\u001b[38;5;124m'\u001b[39m\u001b[38;5;124m로지스틱 회귀의 Test data의 confusion matrix\u001b[39m\u001b[38;5;124m'\u001b[39m)\n\u001b[0;32m      7\u001b[0m ConfusionMatrixDisplay\u001b[38;5;241m.\u001b[39mfrom_estimator(lr_clf, X_test, y_test)\n",
      "\u001b[1;31mNameError\u001b[0m: name 'lr_clf' is not defined"
     ]
    }
   ],
   "source": [
    "# 과제 1\n",
    "# 아래 Confusion Matrix의 accuracy, precision, recall, f1-score를 계산하라\n",
    "\n",
    "y_pred = lr_clf.predict(X_test)\n",
    "\n",
    "print('로지스틱 회귀의 Test data의 confusion matrix')\n",
    "ConfusionMatrixDisplay.from_estimator(lr_clf, X_test, y_test)\n",
    "plt.show()"
   ]
  },
  {
   "cell_type": "markdown",
   "id": "9fda2b89",
   "metadata": {},
   "source": [
    "## 과제 1\n",
    "\n",
    "- Accuracy: \\~\\~\\~\\~\\~\\~\\~\\~\\~\\~\n",
    "- Precision: \\~\\~\\~\\~\\~\\~\\~\\~\\~\\~\n",
    "- Recall: \\~\\~\\~\\~\\~\\~\\~\\~\\~\\~\n",
    "- F1-score: \\~\\~\\~\\~\\~\\~\\~\\~\\~\\~"
   ]
  },
  {
   "cell_type": "code",
   "execution_count": 8,
   "id": "1fc96c06",
   "metadata": {},
   "outputs": [
    {
     "name": "stdout",
     "output_type": "stream",
     "text": [
      "Accuracy: 0.9649122807017544\n",
      "Precision: 0.9148936170212766\n",
      "Recall: 1.0\n",
      "F1-score: 0.9555555555555556\n"
     ]
    }
   ],
   "source": [
    "TP = 43\n",
    "FP = 4\n",
    "FN = 0\n",
    "TN = 67\n",
    "Accuracy = (TP+TN)/(TP+TN+FP+FN)\n",
    "Precision = (TP)/(TP+FP)\n",
    "Recall = TP/(TP+FN)\n",
    "F1 = 2*Recall*Precision/(Recall+Precision)\n",
    "print(\"Accuracy:\", Accuracy)\n",
    "print(\"Precision:\", Precision)\n",
    "print(\"Recall:\", Recall)\n",
    "print(\"F1-score:\", F1)"
   ]
  },
  {
   "cell_type": "markdown",
   "id": "0cd95be5",
   "metadata": {},
   "source": [
    "# 과제 2"
   ]
  },
  {
   "cell_type": "code",
   "execution_count": 9,
   "id": "ff900f4a",
   "metadata": {
    "ExecuteTime": {
     "end_time": "2022-11-07T16:07:46.119659Z",
     "start_time": "2022-11-07T16:07:46.033957Z"
    }
   },
   "outputs": [
    {
     "ename": "NameError",
     "evalue": "name 'DecisionTreeClassifier' is not defined",
     "output_type": "error",
     "traceback": [
      "\u001b[1;31m---------------------------------------------------------------------------\u001b[0m",
      "\u001b[1;31mNameError\u001b[0m                                 Traceback (most recent call last)",
      "Cell \u001b[1;32mIn[9], line 1\u001b[0m\n\u001b[1;32m----> 1\u001b[0m dt_clf \u001b[38;5;241m=\u001b[39m \u001b[43mDecisionTreeClassifier\u001b[49m(random_state\u001b[38;5;241m=\u001b[39m\u001b[38;5;241m0\u001b[39m)\u001b[38;5;241m.\u001b[39mfit(X_train, y_train)\n\u001b[0;32m      2\u001b[0m svm_clf \u001b[38;5;241m=\u001b[39m SVC(kernel\u001b[38;5;241m=\u001b[39m\u001b[38;5;124m'\u001b[39m\u001b[38;5;124mrbf\u001b[39m\u001b[38;5;124m'\u001b[39m, random_state\u001b[38;5;241m=\u001b[39m\u001b[38;5;241m0\u001b[39m)\u001b[38;5;241m.\u001b[39mfit(X_train, y_train)\n\u001b[0;32m      3\u001b[0m lr_clf \u001b[38;5;241m=\u001b[39m LogisticRegression(random_state\u001b[38;5;241m=\u001b[39m\u001b[38;5;241m0\u001b[39m)\u001b[38;5;241m.\u001b[39mfit(X_train, y_train)\n",
      "\u001b[1;31mNameError\u001b[0m: name 'DecisionTreeClassifier' is not defined"
     ]
    }
   ],
   "source": [
    "dt_clf = DecisionTreeClassifier(random_state=0).fit(X_train, y_train)\n",
    "svm_clf = SVC(kernel='rbf', random_state=0).fit(X_train, y_train)\n",
    "lr_clf = LogisticRegression(random_state=0).fit(X_train, y_train)\n",
    "\n",
    "dt_pred = dt_clf.predict(X_test)\n",
    "svm_pred = svm_clf.predict(X_test)\n",
    "lr_pred = lr_clf.predict(X_test)"
   ]
  },
  {
   "cell_type": "code",
   "execution_count": 10,
   "id": "e00abc8c",
   "metadata": {
    "ExecuteTime": {
     "end_time": "2022-11-07T16:07:48.195104Z",
     "start_time": "2022-11-07T16:07:46.124646Z"
    }
   },
   "outputs": [
    {
     "ename": "NameError",
     "evalue": "name 'dt_clf' is not defined",
     "output_type": "error",
     "traceback": [
      "\u001b[1;31m---------------------------------------------------------------------------\u001b[0m",
      "\u001b[1;31mNameError\u001b[0m                                 Traceback (most recent call last)",
      "Cell \u001b[1;32mIn[10], line 6\u001b[0m\n\u001b[0;32m      1\u001b[0m \u001b[38;5;66;03m# 과제 2\u001b[39;00m\n\u001b[0;32m      2\u001b[0m \u001b[38;5;66;03m# 다음 confusion matrix는 여러 알고리즘이 유방암 데이터를 학습하고 예측한 결과이다.\u001b[39;00m\n\u001b[0;32m      3\u001b[0m \u001b[38;5;66;03m# 본인이 유방암을 분류하기 위한 모형을 만들 때, 어떤 모형을 선택할지와 근거를 제시하라.\u001b[39;00m\n\u001b[0;32m      4\u001b[0m \u001b[38;5;66;03m# 단, 양성 판정을 Positive, 음성 판정을 Negative로 가정한다.\u001b[39;00m\n\u001b[1;32m----> 6\u001b[0m \u001b[38;5;28;01mfor\u001b[39;00m i \u001b[38;5;129;01min\u001b[39;00m [\u001b[43mdt_clf\u001b[49m, svm_clf, lr_clf]:\n\u001b[0;32m      7\u001b[0m     \u001b[38;5;28mprint\u001b[39m(i)\n\u001b[0;32m      8\u001b[0m     ConfusionMatrixDisplay\u001b[38;5;241m.\u001b[39mfrom_estimator(i, X_test, y_test)\n",
      "\u001b[1;31mNameError\u001b[0m: name 'dt_clf' is not defined"
     ]
    }
   ],
   "source": [
    "# 과제 2\n",
    "# 다음 confusion matrix는 여러 알고리즘이 유방암 데이터를 학습하고 예측한 결과이다.\n",
    "# 본인이 유방암을 분류하기 위한 모형을 만들 때, 어떤 모형을 선택할지와 근거를 제시하라.\n",
    "# 단, 양성 판정을 Positive, 음성 판정을 Negative로 가정한다.\n",
    "\n",
    "for i in [dt_clf, svm_clf, lr_clf]:\n",
    "    print(i)\n",
    "    ConfusionMatrixDisplay.from_estimator(i, X_test, y_test)\n",
    "    plt.show()\n",
    "    \n",
    "    print(f'{i}의 precision: {round(precision_score(y_test, i.predict(X_test)), 3)}')\n",
    "    print(f'{i}의 recall: {round(recall_score(y_test, i.predict(X_test)), 3)}')\n",
    "    \n",
    "    print('-'*50)"
   ]
  },
  {
   "cell_type": "markdown",
   "id": "06488815",
   "metadata": {},
   "source": [
    "## 과제 2\n",
    "\n",
    "- 선택하는 모형: \\~\\~\\~\\~\\~\\~\\~\\~\\~\\~\n",
    "- 선택한 이유: \\~\\~\\~\\~\\~\\~\\~\\~\\~\\~"
   ]
  },
  {
   "cell_type": "markdown",
   "id": "2f2e86d0",
   "metadata": {},
   "source": [
    "* 선택하는 모형: SVC모형(모형1)\n",
    "* 선택한 이유: "
   ]
  },
  {
   "cell_type": "markdown",
   "id": "7ef37323",
   "metadata": {},
   "source": [
    "# 과제 3, 4"
   ]
  },
  {
   "cell_type": "code",
   "execution_count": 11,
   "id": "a9163ff9",
   "metadata": {
    "ExecuteTime": {
     "end_time": "2022-11-07T16:07:48.225533Z",
     "start_time": "2022-11-07T16:07:48.202086Z"
    }
   },
   "outputs": [],
   "source": [
    "def get_clf_eval(y_test, pred):\n",
    "    confusion = confusion_matrix(y_test, pred)\n",
    "    accuracy = accuracy_score(y_test,pred)\n",
    "    precision = precision_score(y_test, pred)\n",
    "    recall = recall_score(y_test, pred)\n",
    "    print('오차 행렬')\n",
    "    print(confusion)\n",
    "    print('정확도: {0:.4f}, 정밀도: {1:.4f}, 재현율: {2:.4f}'\\\n",
    "          .format(accuracy , precision ,recall))"
   ]
  },
  {
   "cell_type": "code",
   "execution_count": 8,
   "id": "0993dfbd",
   "metadata": {
    "ExecuteTime": {
     "end_time": "2022-11-07T16:07:48.255311Z",
     "start_time": "2022-11-07T16:07:48.229885Z"
    }
   },
   "outputs": [
    {
     "name": "stdout",
     "output_type": "stream",
     "text": [
      "[[1.56203080e-01]\n",
      " [8.88929350e-01]\n",
      " [9.63214177e-01]\n",
      " [9.24748356e-01]\n",
      " [9.80921077e-01]\n",
      " [9.49360597e-01]\n",
      " [9.51766668e-01]\n",
      " [9.70383985e-01]\n",
      " [9.95567605e-01]\n",
      " [9.93800975e-01]\n",
      " [6.74248577e-01]\n",
      " [8.31765087e-01]\n",
      " [9.94249495e-01]\n",
      " [6.75725041e-01]\n",
      " [6.09711919e-01]\n",
      " [1.60356908e-01]\n",
      " [9.38108152e-01]\n",
      " [1.11485523e-02]\n",
      " [2.70518845e-02]\n",
      " [1.74117248e-03]\n",
      " [2.35424734e-01]\n",
      " [1.28340474e-01]\n",
      " [8.59245574e-01]\n",
      " [9.67372395e-01]\n",
      " [2.42871847e-02]\n",
      " [9.76465257e-01]\n",
      " [9.94177525e-01]\n",
      " [7.88838318e-02]\n",
      " [9.57865726e-01]\n",
      " [1.05176401e-02]\n",
      " [9.91640133e-01]\n",
      " [4.46255658e-02]\n",
      " [7.59409253e-01]\n",
      " [1.58635264e-01]\n",
      " [9.98001793e-01]\n",
      " [1.76306173e-01]\n",
      " [9.21818444e-01]\n",
      " [1.34877579e-01]\n",
      " [9.10282579e-01]\n",
      " [1.53173833e-01]\n",
      " [5.63007922e-01]\n",
      " [9.95208495e-01]\n",
      " [4.95772371e-01]\n",
      " [9.92944675e-01]\n",
      " [6.75313547e-01]\n",
      " [2.03112326e-03]\n",
      " [9.98766982e-01]\n",
      " [8.93262184e-01]\n",
      " [9.72253011e-01]\n",
      " [3.45766559e-02]\n",
      " [1.55326590e-02]\n",
      " [2.10264755e-01]\n",
      " [5.18131096e-02]\n",
      " [9.62613358e-01]\n",
      " [9.49753156e-01]\n",
      " [9.78286457e-01]\n",
      " [9.76196514e-01]\n",
      " [9.64202272e-01]\n",
      " [9.45855054e-01]\n",
      " [1.33478182e-03]\n",
      " [1.93399137e-01]\n",
      " [2.13262606e-01]\n",
      " [9.94035262e-01]\n",
      " [9.44465237e-01]\n",
      " [2.99639828e-02]\n",
      " [9.11127449e-01]\n",
      " [2.15708164e-05]\n",
      " [7.27993029e-03]\n",
      " [1.17535483e-02]\n",
      " [9.75513425e-01]\n",
      " [6.48529035e-01]\n",
      " [1.84028179e-02]\n",
      " [9.59112278e-01]\n",
      " [5.51418530e-01]\n",
      " [8.28713851e-03]\n",
      " [9.22723010e-01]\n",
      " [9.91745943e-01]\n",
      " [7.73149553e-01]\n",
      " [9.88887505e-01]\n",
      " [9.96015392e-01]\n",
      " [2.09558808e-01]\n",
      " [1.88104756e-04]\n",
      " [1.94822568e-02]\n",
      " [9.92087900e-01]\n",
      " [1.98496990e-01]\n",
      " [9.62912865e-01]\n",
      " [9.91279014e-01]\n",
      " [9.96827797e-01]\n",
      " [5.41076987e-02]\n",
      " [6.91566162e-05]\n",
      " [9.94864624e-01]\n",
      " [5.99952423e-01]\n",
      " [5.15584188e-01]\n",
      " [5.37872485e-03]\n",
      " [9.77111742e-01]\n",
      " [9.50694934e-01]\n",
      " [1.45823868e-02]\n",
      " [7.74579014e-01]\n",
      " [9.48215759e-01]\n",
      " [9.65338175e-01]\n",
      " [9.97522186e-01]\n",
      " [9.48399687e-01]\n",
      " [9.21313107e-01]\n",
      " [7.10047924e-01]\n",
      " [3.41607865e-02]\n",
      " [9.54616800e-01]\n",
      " [4.81219525e-03]\n",
      " [8.04857394e-01]\n",
      " [7.19279379e-01]\n",
      " [4.69754635e-01]\n",
      " [9.02471390e-01]\n",
      " [1.01570421e-02]\n",
      " [4.78626241e-02]\n",
      " [8.00834519e-01]]\n"
     ]
    }
   ],
   "source": [
    "# Threshold 결정\n",
    "custom_threshold = 0.5\n",
    "\n",
    "# pred_proba: lr.predict()와 유사 / 반환 결과는 예측 확률 결과\n",
    "pred_proba = lr_clf.predict_proba(X_test)\n",
    "pred_proba_1 = pred_proba[:,1].reshape(-1,1)\n",
    "print(pred_proba_1)"
   ]
  },
  {
   "cell_type": "code",
   "execution_count": 3,
   "id": "165d0858",
   "metadata": {
    "ExecuteTime": {
     "end_time": "2022-11-07T16:07:48.285432Z",
     "start_time": "2022-11-07T16:07:48.260298Z"
    }
   },
   "outputs": [
    {
     "ename": "NameError",
     "evalue": "name 'Binarizer' is not defined",
     "output_type": "error",
     "traceback": [
      "\u001b[1;31m---------------------------------------------------------------------------\u001b[0m",
      "\u001b[1;31mNameError\u001b[0m                                 Traceback (most recent call last)",
      "Cell \u001b[1;32mIn[3], line 2\u001b[0m\n\u001b[0;32m      1\u001b[0m \u001b[38;5;66;03m# threshold 기준값보다 같거나 작으면 0, 크면 1을 반환\u001b[39;00m\n\u001b[1;32m----> 2\u001b[0m binarizer \u001b[38;5;241m=\u001b[39m \u001b[43mBinarizer\u001b[49m(threshold \u001b[38;5;241m=\u001b[39m custom_threshold)\u001b[38;5;241m.\u001b[39mfit(pred_proba_1)\n\u001b[0;32m      4\u001b[0m custom_predict \u001b[38;5;241m=\u001b[39m binarizer\u001b[38;5;241m.\u001b[39mtransform(pred_proba_1)\n\u001b[0;32m      5\u001b[0m get_clf_eval(y_test, custom_predict)\n",
      "\u001b[1;31mNameError\u001b[0m: name 'Binarizer' is not defined"
     ]
    }
   ],
   "source": [
    "# threshold 기준값보다 같거나 작으면 0, 크면 1을 반환\n",
    "binarizer = Binarizer(threshold = custom_threshold).fit(pred_proba_1)\n",
    "\n",
    "custom_predict = binarizer.transform(pred_proba_1)\n",
    "get_clf_eval(y_test, custom_predict)"
   ]
  },
  {
   "cell_type": "markdown",
   "id": "b542a473",
   "metadata": {},
   "source": [
    "## 과제 3"
   ]
  },
  {
   "cell_type": "code",
   "execution_count": 10,
   "id": "0bfc0943",
   "metadata": {
    "ExecuteTime": {
     "end_time": "2022-11-07T16:07:48.423220Z",
     "start_time": "2022-11-07T16:07:48.290404Z"
    }
   },
   "outputs": [
    {
     "name": "stdout",
     "output_type": "stream",
     "text": [
      "Threshold: 0.35일 때, 결과값\n",
      "오차 행렬\n",
      "[[41  6]\n",
      " [ 0 67]]\n",
      "정확도: 0.9474, 정밀도: 0.9178, 재현율: 1.0000\n",
      "--------------------------------------------------\n",
      "Threshold: 0.4일 때, 결과값\n",
      "오차 행렬\n",
      "[[41  6]\n",
      " [ 0 67]]\n",
      "정확도: 0.9474, 정밀도: 0.9178, 재현율: 1.0000\n",
      "--------------------------------------------------\n",
      "Threshold: 0.45일 때, 결과값\n",
      "오차 행렬\n",
      "[[41  6]\n",
      " [ 0 67]]\n",
      "정확도: 0.9474, 정밀도: 0.9178, 재현율: 1.0000\n",
      "--------------------------------------------------\n",
      "Threshold: 0.5일 때, 결과값\n",
      "오차 행렬\n",
      "[[43  4]\n",
      " [ 0 67]]\n",
      "정확도: 0.9649, 정밀도: 0.9437, 재현율: 1.0000\n",
      "--------------------------------------------------\n",
      "Threshold: 0.55일 때, 결과값\n",
      "오차 행렬\n",
      "[[43  4]\n",
      " [ 1 66]]\n",
      "정확도: 0.9561, 정밀도: 0.9429, 재현율: 0.9851\n",
      "--------------------------------------------------\n",
      "Threshold: 0.6일 때, 결과값\n",
      "오차 행렬\n",
      "[[46  1]\n",
      " [ 1 66]]\n",
      "정확도: 0.9825, 정밀도: 0.9851, 재현율: 0.9851\n",
      "--------------------------------------------------\n",
      "Threshold: 0.65일 때, 결과값\n",
      "오차 행렬\n",
      "[[46  1]\n",
      " [ 3 64]]\n",
      "정확도: 0.9649, 정밀도: 0.9846, 재현율: 0.9552\n",
      "--------------------------------------------------\n",
      "Threshold: 0.7일 때, 결과값\n",
      "오차 행렬\n",
      "[[46  1]\n",
      " [ 6 61]]\n",
      "정확도: 0.9386, 정밀도: 0.9839, 재현율: 0.9104\n",
      "--------------------------------------------------\n"
     ]
    }
   ],
   "source": [
    "# 과제 3\n",
    "# threshold를 0.35, 0.4, 0.45, 0.5, 0.55, 0.6, 0.65, 0.7으로 설정해서 결과값을 보이시오\n",
    "\n",
    "******************"
   ]
  },
  {
   "cell_type": "code",
   "execution_count": 2,
   "id": "6a238f01",
   "metadata": {},
   "outputs": [
    {
     "ename": "NameError",
     "evalue": "name 'Binarizer' is not defined",
     "output_type": "error",
     "traceback": [
      "\u001b[1;31m---------------------------------------------------------------------------\u001b[0m",
      "\u001b[1;31mNameError\u001b[0m                                 Traceback (most recent call last)",
      "Cell \u001b[1;32mIn[2], line 4\u001b[0m\n\u001b[0;32m      1\u001b[0m A \u001b[38;5;241m=\u001b[39m [\u001b[38;5;241m0.35\u001b[39m, \u001b[38;5;241m0.4\u001b[39m, \u001b[38;5;241m0.45\u001b[39m, \u001b[38;5;241m0.5\u001b[39m, \u001b[38;5;241m0.55\u001b[39m, \u001b[38;5;241m0.6\u001b[39m, \u001b[38;5;241m0.65\u001b[39m, \u001b[38;5;241m0.7\u001b[39m]\n\u001b[0;32m      3\u001b[0m \u001b[38;5;28;01mfor\u001b[39;00m i \u001b[38;5;129;01min\u001b[39;00m A:\n\u001b[1;32m----> 4\u001b[0m     binarizer \u001b[38;5;241m=\u001b[39m \u001b[43mBinarizer\u001b[49m(threshold \u001b[38;5;241m=\u001b[39m i)\u001b[38;5;241m.\u001b[39mfit(pred_proba_1)\n\u001b[0;32m      6\u001b[0m     custom_predict \u001b[38;5;241m=\u001b[39m binarizer\u001b[38;5;241m.\u001b[39mtransform(pred_proba_1)\n\u001b[0;32m      8\u001b[0m     \u001b[38;5;28mprint\u001b[39m (\u001b[38;5;124m'\u001b[39m\u001b[38;5;124mThreshold: \u001b[39m\u001b[38;5;132;01m{0}\u001b[39;00m\u001b[38;5;124m일 때, 결과값\u001b[39m\u001b[38;5;124m'\u001b[39m \u001b[38;5;241m.\u001b[39mformat(i))\n",
      "\u001b[1;31mNameError\u001b[0m: name 'Binarizer' is not defined"
     ]
    }
   ],
   "source": [
    "A = [0.35, 0.4, 0.45, 0.5, 0.55, 0.6, 0.65, 0.7]\n",
    "\n",
    "for i in A:\n",
    "    binarizer = Binarizer(threshold = i).fit(pred_proba_1)\n",
    "\n",
    "    custom_predict = binarizer.transform(pred_proba_1)\n",
    "    \n",
    "    print ('Threshold: {0}일 때, 결과값' .format(i))\n",
    "    get_clf_eval(y_test, custom_predict)\n",
    "    print('------------------------------------------')"
   ]
  },
  {
   "cell_type": "markdown",
   "id": "c2ad2bc3",
   "metadata": {
    "ExecuteTime": {
     "end_time": "2022-11-07T15:49:32.971691Z",
     "start_time": "2022-11-07T15:49:32.959742Z"
    }
   },
   "source": [
    "## 과제 4 (선택)\n",
    "\n",
    "- 보험사가 위 모형에 기초한 유방암 보험을 만든다고 생각하자. \n",
    "- 이 경우, 보험사는 어떤 Threshold를 선택해야 할까?\n",
    "\n",
    "- Hint: 보험사가 음성인 사람을 양성으로 예측하는 경우가 많아지면(FP ↑) 지급준비금이 증가한다.\\\n",
    "반면 양성인 사람을 음성으로 예측하는 경우가 많아지면(FN ↑) 예기치 못한 지출이 많아진다.\n",
    "\n",
    "- 단, 유방암이 양성일 때 Positive, 음성일 때 Negative이다"
   ]
  },
  {
   "cell_type": "markdown",
   "id": "a7882f04",
   "metadata": {},
   "source": [
    "- 선택한 Threshold: \\~\\~\\~\\~\\~\\~\\~\\~\\~\\~\n",
    "- 해당 Threshold를 선택한 이유: \\~\\~\\~\\~\\~\\~\\~\\~\\~\\~\\~\\~\\~\\~\\~\\~"
   ]
  }
 ],
 "metadata": {
  "kernelspec": {
   "display_name": "Python 3 (ipykernel)",
   "language": "python",
   "name": "python3"
  },
  "language_info": {
   "codemirror_mode": {
    "name": "ipython",
    "version": 3
   },
   "file_extension": ".py",
   "mimetype": "text/x-python",
   "name": "python",
   "nbconvert_exporter": "python",
   "pygments_lexer": "ipython3",
   "version": "3.10.10"
  },
  "toc": {
   "base_numbering": 1,
   "nav_menu": {},
   "number_sections": true,
   "sideBar": true,
   "skip_h1_title": true,
   "title_cell": "Table of Contents",
   "title_sidebar": "Contents",
   "toc_cell": false,
   "toc_position": {
    "height": "calc(100% - 180px)",
    "left": "10px",
    "top": "150px",
    "width": "167.825px"
   },
   "toc_section_display": true,
   "toc_window_display": true
  }
 },
 "nbformat": 4,
 "nbformat_minor": 5
}
