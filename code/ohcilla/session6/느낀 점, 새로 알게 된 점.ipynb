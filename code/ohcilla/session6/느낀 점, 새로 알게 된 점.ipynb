{
 "cells": [
  {
   "cell_type": "markdown",
   "id": "57435b37",
   "metadata": {},
   "source": [
    "## 느낀점\n",
    "- 그래플를 해석할 때 skew라는 것을 고려해서 편향적으로 그려져 있다면 자연로그를 취해서 정규분포로 만드는 것이 신기했다. 인사이콘을 할 때 그래프가 한쪽으로 너무 치우쳐져 있어서 시각적으로 무언가를 도출해내기가 어려웠는데, 좋은 방법 하나를 알게된 것 같다.\n",
    "\n",
    "- 두 변수 간의 관계에 대해 코딩적으로 생각하고 분석하는 방법에 대해 그 과정을 쭉 따라가보는 것이 의미 있었다. 인사이콘을 준비하면서 처음으로 데이터를 다루다보니까 어떻게 처리해야할지 모르겠고, 두 변수 간의 인사이트를 도출하기 어려웠는데, 분석의 또다른 툴에 대해 접해보면서 차곡차곡 경험이 쌓여가는 것 같아 기쁘다!\n",
    "\n",
    "\n",
    "## 새로 알게 된 점\n",
    "- 다중공선성 문제를 항상 생각하고 있어야 한다는 것을 알게 되었다. 특히 다중선형회귀에서는 모든 변수를 체크해줘야하기 때문에, 더욱 중요해 보인다. \n",
    "\n",
    "- 산점도를 통해서 독립 변수와 종속변수 간의 선형성에 대해 대략적으로 파악할 수 있다.\n",
    "\n",
    "- 코딩에서 상수항을 추가하는 방법, summary 하는 방법"
   ]
  },
  {
   "cell_type": "code",
   "execution_count": null,
   "id": "4885d231",
   "metadata": {},
   "outputs": [],
   "source": []
  }
 ],
 "metadata": {
  "kernelspec": {
   "display_name": "Python 3 (ipykernel)",
   "language": "python",
   "name": "python3"
  },
  "language_info": {
   "codemirror_mode": {
    "name": "ipython",
    "version": 3
   },
   "file_extension": ".py",
   "mimetype": "text/x-python",
   "name": "python",
   "nbconvert_exporter": "python",
   "pygments_lexer": "ipython3",
   "version": "3.9.13"
  },
  "toc": {
   "base_numbering": 1,
   "nav_menu": {},
   "number_sections": true,
   "sideBar": true,
   "skip_h1_title": false,
   "title_cell": "Table of Contents",
   "title_sidebar": "Contents",
   "toc_cell": false,
   "toc_position": {},
   "toc_section_display": true,
   "toc_window_display": false
  }
 },
 "nbformat": 4,
 "nbformat_minor": 5
}
