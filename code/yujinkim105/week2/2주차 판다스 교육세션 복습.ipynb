{
 "cells": [
  {
   "cell_type": "markdown",
   "id": "639b6795",
   "metadata": {},
   "source": [
    "# 판다스란?"
   ]
  },
  {
   "cell_type": "markdown",
   "id": "67921301",
   "metadata": {},
   "source": [
    "- 행과 열로 이루어짐\n",
    "- 넘파이의 확장판\n",
    "- Series클래스와 Dataframe 클래스 제공"
   ]
  },
  {
   "cell_type": "markdown",
   "id": "6a46e12d",
   "metadata": {},
   "source": [
    "# import & DataFrame"
   ]
  },
  {
   "cell_type": "markdown",
   "id": "4d1c6ebd",
   "metadata": {},
   "source": [
    "import pandas as pd\n",
    "import numpy as np\n",
    "\n",
    "df = pd.read_csv(\"~~~.csv\")"
   ]
  },
  {
   "cell_type": "markdown",
   "id": "e29bfdba",
   "metadata": {},
   "source": [
    "# DataFrame 확인"
   ]
  },
  {
   "cell_type": "markdown",
   "id": "8acc2f50",
   "metadata": {},
   "source": [
    "- type(df)\n",
    "- df.dtypes\n",
    "- df.head(3)\n",
    "- df.tail()\n",
    "- df.shape : 행과 열의 크기를 알아봄\n",
    "- df.info(): 데이터, 칼럼의 타입, null 데이터 개수, 데이터 분포도 등 정보 나타냄\n",
    "- df.describe(): 숫자형 칼럼의 분포도만 조사"
   ]
  },
  {
   "cell_type": "markdown",
   "id": "c78165b6",
   "metadata": {},
   "source": [
    "#  DataFrame 추가& 삭제\n"
   ]
  },
  {
   "cell_type": "markdown",
   "id": "3dcb0748",
   "metadata": {},
   "source": [
    "## 추가"
   ]
  },
  {
   "cell_type": "markdown",
   "id": "a2a034b4",
   "metadata": {},
   "source": [
    "df.index.name = \"도시\"\n",
    "df.columns.name = \"특성\"\n",
    "df\n",
    "--> 열방향 인덱스와 행방향 인덱스에 이름 붙임"
   ]
  },
  {
   "cell_type": "markdown",
   "id": "70c42e0e",
   "metadata": {},
   "source": [
    "## 삭제"
   ]
  },
  {
   "cell_type": "markdown",
   "id": "7594cef1",
   "metadata": {},
   "source": [
    "### del"
   ]
  },
  {
   "cell_type": "markdown",
   "id": "0dde4610",
   "metadata": {},
   "source": [
    "del df[\"2010-2015 증가율\"]\n",
    "df"
   ]
  },
  {
   "cell_type": "markdown",
   "id": "89ef9d08",
   "metadata": {},
   "source": [
    "### drop() 이용"
   ]
  },
  {
   "cell_type": "markdown",
   "id": "e371e172",
   "metadata": {},
   "source": [
    "DataFrame.drop(labels=None, axis=0, index=None, columns=None, \n",
    "               level=None, inplace=False, errors='raise')"
   ]
  },
  {
   "cell_type": "markdown",
   "id": "8a1bc763",
   "metadata": {},
   "source": [
    "drop() 메서드에서는 labels, axis, inplace 가 중요"
   ]
  },
  {
   "cell_type": "markdown",
   "id": "78b753b0",
   "metadata": {},
   "source": [
    "- axis=0: 로우방향 \n",
    "- axis=1: 칼럼방향\n",
    "- labels에 원하는 칼럼명 지정 후 axis=1입력하면 지정된 칼럼 드롭\n",
    "- inplace 디폴트값은 False, 원본 데이터프레임 데이터 삭제 안됨"
   ]
  },
  {
   "cell_type": "markdown",
   "id": "4d7993fe",
   "metadata": {},
   "source": [
    "# 인덱싱"
   ]
  },
  {
   "cell_type": "markdown",
   "id": "f96d1415",
   "metadata": {},
   "source": [
    "## 열 인덱싱"
   ]
  },
  {
   "cell_type": "markdown",
   "id": "b4b2c2c0",
   "metadata": {},
   "source": [
    "열 라벨을 키값을 생각하여 인덱싱"
   ]
  },
  {
   "cell_type": "markdown",
   "id": "2ae33d05",
   "metadata": {},
   "source": [
    "## 행 인덱싱"
   ]
  },
  {
   "cell_type": "markdown",
   "id": "dec3ddd7",
   "metadata": {},
   "source": [
    "슬라이싱 해야함"
   ]
  },
  {
   "cell_type": "markdown",
   "id": "76fdcd4b",
   "metadata": {},
   "source": [
    "- DataFrame객체[\"열이름\"]\n",
    "- DataFrame객체.열이름\n",
    "- DataFrame객체[[열1,열2, ..., 열n]]\n",
    "df[:1]\n",
    "df[1:2]\n",
    "df[1:3]\n",
    "df[\"서울\":\"부산\"]"
   ]
  },
  {
   "cell_type": "markdown",
   "id": "ba31e8ee",
   "metadata": {},
   "source": [
    "## 개별 데이터 인덱싱"
   ]
  },
  {
   "cell_type": "markdown",
   "id": "ead09a05",
   "metadata": {},
   "source": [
    "df[\"학번\"][\"이름\"]"
   ]
  },
  {
   "cell_type": "markdown",
   "id": "9f4a0373",
   "metadata": {},
   "source": [
    "## 행명, 열명으로 접근: loc, iloc, 슬라이싱"
   ]
  },
  {
   "cell_type": "markdown",
   "id": "a559ca6a",
   "metadata": {},
   "source": [
    "df.loc[행 인덱싱값]\n",
    "\n",
    "df.loc[행 인덱싱값, 열 인덱싱값]"
   ]
  },
  {
   "cell_type": "markdown",
   "id": "56261e97",
   "metadata": {},
   "source": [
    "DataFrame.iloc[시작 인덱스: 끝인덱스: 슬라이싱간격]"
   ]
  },
  {
   "cell_type": "markdown",
   "id": "a20ddb6f",
   "metadata": {},
   "source": [
    "## 인덱스 조작"
   ]
  },
  {
   "cell_type": "markdown",
   "id": "cc9ef545",
   "metadata": {},
   "source": [
    "- set_index: 기존의 행 인덱스를 제거하고 데이터 열 중 하나를 인덱스로 설정\n",
    "- reset_index:기존의 행 인덱스를 제거하고 인덱스를 데이터 열로 추가\n",
    "- DataFrame객체.reindex(새로운 인덱스 배열):행 인덱스를 새로운 배열로 재지정"
   ]
  },
  {
   "cell_type": "markdown",
   "id": "6bbd00dd",
   "metadata": {},
   "source": [
    "# DataFrame 접근, 병합, 그룹핑"
   ]
  },
  {
   "cell_type": "markdown",
   "id": "6a2f45d9",
   "metadata": {},
   "source": [
    "## 정렬"
   ]
  },
  {
   "cell_type": "markdown",
   "id": "336fecac",
   "metadata": {},
   "source": [
    "- sort_index: 인덱스 값을 기준으로 정렬\n",
    "- sort_values: 데이터 값을 기준으로 정렬\n",
    "- ascending: False: 내림차수, True: 오름차순\n"
   ]
  },
  {
   "cell_type": "markdown",
   "id": "b0940501",
   "metadata": {},
   "source": [
    "## 변환"
   ]
  },
  {
   "cell_type": "markdown",
   "id": "85c37578",
   "metadata": {},
   "source": [
    "astype:  전체 데이터의 자료형을 바꾸"
   ]
  },
  {
   "cell_type": "markdown",
   "id": "2381559e",
   "metadata": {},
   "source": [
    "## 데이터프레임 합치기"
   ]
  },
  {
   "cell_type": "markdown",
   "id": "dc2ba3ec",
   "metadata": {},
   "source": [
    "### 연결"
   ]
  },
  {
   "cell_type": "markdown",
   "id": "cb2c111a",
   "metadata": {},
   "source": [
    "concat() 함수 이용"
   ]
  },
  {
   "cell_type": "markdown",
   "id": "53f7dfa8",
   "metadata": {},
   "source": [
    "### 병합"
   ]
  },
  {
   "cell_type": "markdown",
   "id": "40bdb08a",
   "metadata": {},
   "source": [
    "merge() 함수 이용"
   ]
  },
  {
   "cell_type": "markdown",
   "id": "49bbb4ad",
   "metadata": {},
   "source": [
    "## 그룹연산"
   ]
  },
  {
   "cell_type": "markdown",
   "id": "0b43560d",
   "metadata": {},
   "source": [
    "groupby()메소드 이용"
   ]
  },
  {
   "cell_type": "code",
   "execution_count": null,
   "id": "7e80baa2",
   "metadata": {},
   "outputs": [],
   "source": []
  }
 ],
 "metadata": {
  "kernelspec": {
   "display_name": "Python 3 (ipykernel)",
   "language": "python",
   "name": "python3"
  },
  "language_info": {
   "codemirror_mode": {
    "name": "ipython",
    "version": 3
   },
   "file_extension": ".py",
   "mimetype": "text/x-python",
   "name": "python",
   "nbconvert_exporter": "python",
   "pygments_lexer": "ipython3",
   "version": "3.9.7"
  },
  "toc": {
   "base_numbering": 1,
   "nav_menu": {},
   "number_sections": true,
   "sideBar": true,
   "skip_h1_title": false,
   "title_cell": "Table of Contents",
   "title_sidebar": "Contents",
   "toc_cell": false,
   "toc_position": {},
   "toc_section_display": true,
   "toc_window_display": false
  }
 },
 "nbformat": 4,
 "nbformat_minor": 5
}
