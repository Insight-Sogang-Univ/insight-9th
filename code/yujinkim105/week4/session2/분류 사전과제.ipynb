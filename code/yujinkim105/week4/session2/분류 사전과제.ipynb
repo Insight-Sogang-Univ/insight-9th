{
 "cells": [
  {
   "cell_type": "markdown",
   "id": "6f880087",
   "metadata": {},
   "source": [
    "# 머신러닝 개요"
   ]
  },
  {
   "cell_type": "markdown",
   "id": "38af61ba",
   "metadata": {},
   "source": [
    "## 지도학습"
   ]
  },
  {
   "cell_type": "markdown",
   "id": "d51c7641",
   "metadata": {},
   "source": [
    "- \"정답\"을 알고 있는 데이터를 이용해 컴퓨터를 학습 이때 컴퓨터는 자신의 답과 정답과 차이를 통해 지속해서 학습\n",
    "- 회귀, 분류"
   ]
  },
  {
   "cell_type": "markdown",
   "id": "4c7156db",
   "metadata": {},
   "source": [
    "## 비지도학습"
   ]
  },
  {
   "cell_type": "markdown",
   "id": "5965032c",
   "metadata": {},
   "source": [
    "- 정답 없음. 주어진 데이터로만 학습\n",
    "- 군집화, 밀도추정, 차원 축소"
   ]
  },
  {
   "cell_type": "markdown",
   "id": "7ae4115c",
   "metadata": {},
   "source": [
    "## 강화학습"
   ]
  },
  {
   "cell_type": "markdown",
   "id": "5deb3df1",
   "metadata": {},
   "source": [
    "# 분류"
   ]
  },
  {
   "cell_type": "markdown",
   "id": "09217c70",
   "metadata": {},
   "source": [
    "기존 데이터가 어떤 레이블에 속하는지 패턴을 알고리즘으로 인지한 뒤에 새롭게 관측된 데이터에 대한 레이블을 판별하는 것"
   ]
  },
  {
   "cell_type": "markdown",
   "id": "c231c28e",
   "metadata": {},
   "source": [
    "## 로지스틱 회귀"
   ]
  },
  {
   "cell_type": "markdown",
   "id": "5d432cbb",
   "metadata": {},
   "source": [
    "- X 데이터와 Y 데이터의 선형 관계성이 보장\n",
    "- 연속형 변수가 아닌 범주형 변수로 사용하는 회귀이기 때문에 하나의 분류 과정\n",
    "- z=logit(odds) = log(\\frac{p(A)}{1-p(A)})\n",
    "- 정의역은 0부터 1사이이고, 치역은 음의 무한대에서 양의 무한대"
   ]
  },
  {
   "cell_type": "markdown",
   "id": "48794c72",
   "metadata": {},
   "source": [
    "## 결정트리"
   ]
  },
  {
   "cell_type": "markdown",
   "id": "9be35eb8",
   "metadata": {},
   "source": [
    "- 트리 기반의 분류 알고리즘\n",
    "- . 규칙 노드(Decision Node)에서 규칙에 따라 분할되며 각각의 서브 트리(Sub Tree)를 생성\n"
   ]
  },
  {
   "cell_type": "markdown",
   "id": "5cef2f81",
   "metadata": {},
   "source": [
    "## 서포트 백터 머신"
   ]
  },
  {
   "cell_type": "markdown",
   "id": "e064adb5",
   "metadata": {},
   "source": [
    "- SVM의 궁극적인 목적은 두 데이터 사이의 직선을 놓는 것이다.  그런 직선을 마진(Margin) 이라고 한다. "
   ]
  },
  {
   "cell_type": "markdown",
   "id": "8ff90b21",
   "metadata": {},
   "source": [
    "## 최소 근접"
   ]
  },
  {
   "cell_type": "markdown",
   "id": "62a1bffc",
   "metadata": {},
   "source": [
    "- 데이터들 간의 유사한 특징을 기준으로 분류하는 알고리즘\n",
    "- 매우 빠른 훈련 속도, 복잡한 target 함수 학습, 정보 손실 없음\n",
    "- 쿼리하는 시간이 느림. 테스트함에 있어서 느림, 매우 큰 용량 필요, "
   ]
  }
 ],
 "metadata": {
  "kernelspec": {
   "display_name": "Python 3 (ipykernel)",
   "language": "python",
   "name": "python3"
  },
  "language_info": {
   "codemirror_mode": {
    "name": "ipython",
    "version": 3
   },
   "file_extension": ".py",
   "mimetype": "text/x-python",
   "name": "python",
   "nbconvert_exporter": "python",
   "pygments_lexer": "ipython3",
   "version": "3.9.7"
  },
  "toc": {
   "base_numbering": 1,
   "nav_menu": {},
   "number_sections": true,
   "sideBar": true,
   "skip_h1_title": false,
   "title_cell": "Table of Contents",
   "title_sidebar": "Contents",
   "toc_cell": false,
   "toc_position": {},
   "toc_section_display": true,
   "toc_window_display": false
  }
 },
 "nbformat": 4,
 "nbformat_minor": 5
}
