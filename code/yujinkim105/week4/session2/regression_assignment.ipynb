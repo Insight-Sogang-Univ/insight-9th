{
 "cells": [
  {
   "cell_type": "markdown",
   "id": "9bb47cac",
   "metadata": {},
   "source": [
    "# 느낀 점"
   ]
  },
  {
   "cell_type": "markdown",
   "id": "f1ce9fe4",
   "metadata": {},
   "source": [
    "계량 경제학 수업을 들을 때 통계 문제를 손으로 일일이 계산해서 풀었었는데 이렇게 코드를 통해 문제를 푸는 법을 배우게 되어 굉장히 효율적인 인간이 된 것 같습니디. 데이터 분석을 할 때 굉장히 유용하게 쓰일 것 같고 관련 통꼐 공부를 더 하여 자유자재로 회귀 코드를 사용할 수 있도록 연습할 필요성을 느꼈습니다."
   ]
  },
  {
   "cell_type": "markdown",
   "id": "f6dd5c8f",
   "metadata": {},
   "source": [
    "# 새로 알게된 점"
   ]
  },
  {
   "cell_type": "markdown",
   "id": "a5d4f172",
   "metadata": {},
   "source": [
    "- 왜도: skew_results = []\n",
    "- 첨도: kurtosis_results = [] "
   ]
  },
  {
   "cell_type": "markdown",
   "id": "4cdf49c9",
   "metadata": {},
   "source": [
    "- heatmap을 삼각형 모양으로 그릴 수 있다"
   ]
  },
  {
   "cell_type": "markdown",
   "id": "a2e07d6a",
   "metadata": {},
   "source": [
    "- 회귀분석을 할 때는 상수항을 항상 추가해야 함(add_constant함수 이용)"
   ]
  },
  {
   "cell_type": "markdown",
   "id": "799323f8",
   "metadata": {},
   "source": [
    "- 다중 선형 회귀에서는 다중공선성 문제를 확인해야 한다"
   ]
  },
  {
   "cell_type": "markdown",
   "id": "2d300961",
   "metadata": {},
   "source": [
    "Q-Q 도표, 샤피로 - 월크 검정, 잔차 패턴 통해 정규성 확인"
   ]
  },
  {
   "cell_type": "markdown",
   "id": "b6feefe6",
   "metadata": {},
   "source": [
    "잔차 그래프와 ACF를 이용해 독립성 만족 여부를 확인"
   ]
  }
 ],
 "metadata": {
  "kernelspec": {
   "display_name": "Python 3 (ipykernel)",
   "language": "python",
   "name": "python3"
  },
  "language_info": {
   "codemirror_mode": {
    "name": "ipython",
    "version": 3
   },
   "file_extension": ".py",
   "mimetype": "text/x-python",
   "name": "python",
   "nbconvert_exporter": "python",
   "pygments_lexer": "ipython3",
   "version": "3.9.7"
  },
  "toc": {
   "base_numbering": 1,
   "nav_menu": {},
   "number_sections": true,
   "sideBar": true,
   "skip_h1_title": false,
   "title_cell": "Table of Contents",
   "title_sidebar": "Contents",
   "toc_cell": false,
   "toc_position": {},
   "toc_section_display": true,
   "toc_window_display": false
  }
 },
 "nbformat": 4,
 "nbformat_minor": 5
}
