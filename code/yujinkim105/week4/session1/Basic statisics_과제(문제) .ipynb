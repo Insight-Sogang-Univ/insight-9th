{
 "cells": [
  {
   "cell_type": "markdown",
   "id": "39ecc0b2",
   "metadata": {},
   "source": [
    "# 통계 세션 과제!"
   ]
  },
  {
   "cell_type": "markdown",
   "id": "6133a28a",
   "metadata": {},
   "source": [
    "## 과제 1\n",
    "- list_A와 list_B 각각의 평균, 분산, 중간값을 구하시오\n",
    "- list_A와 list_B의 공분산, 상관계수를 구하시오\n",
    "<br><br>HINT!\n",
    "<br>1. 공분산, 상관계수 구할때 둘을 합쳐서 데이터프레임으로 만들고 해보세요!\n",
    "<br>2. 공분산과 상관계수는 어떤 값이지 데이터프레임 형태가 아닙니다!"
   ]
  },
  {
   "cell_type": "code",
   "execution_count": 20,
   "id": "7ae6dd0f",
   "metadata": {},
   "outputs": [],
   "source": [
    "import pandas as pd"
   ]
  },
  {
   "cell_type": "code",
   "execution_count": 21,
   "id": "8c274c72",
   "metadata": {
    "ExecuteTime": {
     "end_time": "2023-03-19T16:03:52.663039Z",
     "start_time": "2023-03-19T16:03:52.649072Z"
    }
   },
   "outputs": [],
   "source": [
    "list_A = [10, 3, 6, 17, 12, 1, 14, 19, 7, 15, 3, 4, 15, 8, 5, 13, 11, 2, 20, 16]\n",
    "list_B = [17, 2, 6, 14, 10, 16, 1, 8, 3, 7, 7, 12, 20, 18, 4, 11, 5, 19, 15, 9]"
   ]
  },
  {
   "cell_type": "code",
   "execution_count": 22,
   "id": "46ae5152",
   "metadata": {},
   "outputs": [],
   "source": [
    "df1=pd.DataFrame(list_A)"
   ]
  },
  {
   "cell_type": "code",
   "execution_count": 23,
   "id": "c2c6e9d2",
   "metadata": {},
   "outputs": [],
   "source": [
    "df2=pd.DataFrame(list_B)"
   ]
  },
  {
   "cell_type": "code",
   "execution_count": 25,
   "id": "6940f5a2",
   "metadata": {
    "scrolled": true
   },
   "outputs": [
    {
     "data": {
      "text/plain": [
       "0    10.05\n",
       "dtype: float64"
      ]
     },
     "execution_count": 25,
     "metadata": {},
     "output_type": "execute_result"
    }
   ],
   "source": [
    "df1.mean() #리스트 a 평균"
   ]
  },
  {
   "cell_type": "code",
   "execution_count": 26,
   "id": "9ed4c893",
   "metadata": {},
   "outputs": [
    {
     "data": {
      "text/plain": [
       "0    10.2\n",
       "dtype: float64"
      ]
     },
     "execution_count": 26,
     "metadata": {},
     "output_type": "execute_result"
    }
   ],
   "source": [
    "df2.mean() #리스트 b 평균"
   ]
  },
  {
   "cell_type": "code",
   "execution_count": 27,
   "id": "9dcfa8b6",
   "metadata": {},
   "outputs": [
    {
     "data": {
      "text/plain": [
       "0    35.734211\n",
       "dtype: float64"
      ]
     },
     "execution_count": 27,
     "metadata": {},
     "output_type": "execute_result"
    }
   ],
   "source": [
    "df1.var() #리스트a 분산"
   ]
  },
  {
   "cell_type": "code",
   "execution_count": 28,
   "id": "bf2ed907",
   "metadata": {},
   "outputs": [
    {
     "data": {
      "text/plain": [
       "0    35.221053\n",
       "dtype: float64"
      ]
     },
     "execution_count": 28,
     "metadata": {},
     "output_type": "execute_result"
    }
   ],
   "source": [
    "df2.var()#리스트b분산"
   ]
  },
  {
   "cell_type": "code",
   "execution_count": 29,
   "id": "bdee815b",
   "metadata": {},
   "outputs": [
    {
     "data": {
      "text/plain": [
       "0    10.5\n",
       "dtype: float64"
      ]
     },
     "execution_count": 29,
     "metadata": {},
     "output_type": "execute_result"
    }
   ],
   "source": [
    "df1.median() #리스트a중앙값"
   ]
  },
  {
   "cell_type": "code",
   "execution_count": 30,
   "id": "7b836f88",
   "metadata": {},
   "outputs": [
    {
     "data": {
      "text/plain": [
       "0    9.5\n",
       "dtype: float64"
      ]
     },
     "execution_count": 30,
     "metadata": {},
     "output_type": "execute_result"
    }
   ],
   "source": [
    "df2.median() #리스트b중앙값"
   ]
  },
  {
   "cell_type": "code",
   "execution_count": 33,
   "id": "b2ffd034",
   "metadata": {},
   "outputs": [],
   "source": [
    "num=pd.merge(df1,df2) # 두 데이터프레임 합치기"
   ]
  },
  {
   "cell_type": "code",
   "execution_count": 34,
   "id": "641ebff3",
   "metadata": {},
   "outputs": [
    {
     "data": {
      "text/html": [
       "<div>\n",
       "<style scoped>\n",
       "    .dataframe tbody tr th:only-of-type {\n",
       "        vertical-align: middle;\n",
       "    }\n",
       "\n",
       "    .dataframe tbody tr th {\n",
       "        vertical-align: top;\n",
       "    }\n",
       "\n",
       "    .dataframe thead th {\n",
       "        text-align: right;\n",
       "    }\n",
       "</style>\n",
       "<table border=\"1\" class=\"dataframe\">\n",
       "  <thead>\n",
       "    <tr style=\"text-align: right;\">\n",
       "      <th></th>\n",
       "      <th>0</th>\n",
       "    </tr>\n",
       "  </thead>\n",
       "  <tbody>\n",
       "    <tr>\n",
       "      <th>0</th>\n",
       "      <td>35.671053</td>\n",
       "    </tr>\n",
       "  </tbody>\n",
       "</table>\n",
       "</div>"
      ],
      "text/plain": [
       "           0\n",
       "0  35.671053"
      ]
     },
     "execution_count": 34,
     "metadata": {},
     "output_type": "execute_result"
    }
   ],
   "source": [
    "num.cov() # 공분산 구하기"
   ]
  },
  {
   "cell_type": "code",
   "execution_count": 35,
   "id": "8f77dd8f",
   "metadata": {},
   "outputs": [
    {
     "data": {
      "text/html": [
       "<div>\n",
       "<style scoped>\n",
       "    .dataframe tbody tr th:only-of-type {\n",
       "        vertical-align: middle;\n",
       "    }\n",
       "\n",
       "    .dataframe tbody tr th {\n",
       "        vertical-align: top;\n",
       "    }\n",
       "\n",
       "    .dataframe thead th {\n",
       "        text-align: right;\n",
       "    }\n",
       "</style>\n",
       "<table border=\"1\" class=\"dataframe\">\n",
       "  <thead>\n",
       "    <tr style=\"text-align: right;\">\n",
       "      <th></th>\n",
       "      <th>0</th>\n",
       "    </tr>\n",
       "  </thead>\n",
       "  <tbody>\n",
       "    <tr>\n",
       "      <th>0</th>\n",
       "      <td>1.0</td>\n",
       "    </tr>\n",
       "  </tbody>\n",
       "</table>\n",
       "</div>"
      ],
      "text/plain": [
       "     0\n",
       "0  1.0"
      ]
     },
     "execution_count": 35,
     "metadata": {},
     "output_type": "execute_result"
    }
   ],
   "source": [
    "num.corr() #상관계수 구하기"
   ]
  },
  {
   "cell_type": "markdown",
   "id": "6e13ebc5",
   "metadata": {},
   "source": [
    "## 과제 2\n",
    "- 표본집단의 크기가 커지면 그 표본평균이 모평균에 가까워지는 현상을 무엇이라고 하나요?"
   ]
  },
  {
   "cell_type": "markdown",
   "id": "aa965c68",
   "metadata": {},
   "source": [
    "대수의 법칙"
   ]
  },
  {
   "cell_type": "markdown",
   "id": "1607fd28",
   "metadata": {},
   "source": [
    "## 과제 3\n",
    "- 이산확률분포 예시 1개, 연속확률분포 예시 1개를 적어주세요!"
   ]
  },
  {
   "cell_type": "markdown",
   "id": "775cb063",
   "metadata": {},
   "source": [
    "- 이산확률분포: 이항분포(동전던지기)\n",
    "- 연속확률분포: 정규분포"
   ]
  },
  {
   "cell_type": "markdown",
   "id": "cdfbc28d",
   "metadata": {},
   "source": [
    "## 과제 4\n",
    "OX문제\n",
    "- 3-(1)번 : 귀무가설이 참임에도 거짓이라고 판단하는 오류를 제 2종 오류라고 한다 (O / X)\n",
    "- 3-(2)번 : 모집단이 이항 분포일때 그 모집단에서 추출한 표본 10000개의 각 평균들이 이루는 분포는 이항분포이다. (O / X)\n",
    "- 3-(3)번 : 검정 통계량 T가 매우 크면 귀무가설을 기각한다 (O / X)\n",
    "- 3-(4)번 : 1종 오류를 작게끔 설정하면 2종 오류가 커진다 (O / X)\n",
    "- 3-(5)번 : p-value가 유의수준보다 크면 귀무가설을 기각한다  (O / X)"
   ]
  },
  {
   "cell_type": "markdown",
   "id": "e8caa116",
   "metadata": {},
   "source": [
    "x x o o o"
   ]
  },
  {
   "cell_type": "markdown",
   "id": "f0d8b9ca",
   "metadata": {},
   "source": [
    "## 과제 5\n",
    "- 아래 코드의 결과대로면 광고 전략은 실패했는지, 실패하지 않았는지 검정하시오"
   ]
  },
  {
   "cell_type": "code",
   "execution_count": 31,
   "id": "ba4bf1ae",
   "metadata": {
    "ExecuteTime": {
     "end_time": "2023-03-19T16:31:49.926579Z",
     "start_time": "2023-03-19T16:31:49.906631Z"
    }
   },
   "outputs": [
    {
     "name": "stdout",
     "output_type": "stream",
     "text": [
      "t_stat : 2.079102000331699, p_value : 0.042863871998196565\n"
     ]
    }
   ],
   "source": [
    "import numpy as np\n",
    "import scipy.stats as stats\n",
    "\n",
    "# 실험 데이터 생성 \n",
    "np.random.seed(42)\n",
    "data = np.random.normal(loc=2, scale=1, size=50)\n",
    "\n",
    "# 귀무가설(H0) : 광고 전략이 실패한 것이 아니다\n",
    "# 대립가설(H1) : 광고 전략이 실패했다\n",
    "\n",
    "# 유의수준 설정\n",
    "alpha = 0.01\n",
    "\n",
    "# 검정 통계량 계산\n",
    "t_stat, p_value = stats.ttest_1samp(data, 1.5)\n",
    "print(f't_stat : {t_stat}, p_value : {p_value}')"
   ]
  },
  {
   "cell_type": "markdown",
   "id": "31d7f8dd",
   "metadata": {},
   "source": [
    "p값이 유의수준 0.01보다 크므로 귀무가설을 기각하지 않는다. 따라서 광고 전략이 실패한 것은 아니다. "
   ]
  }
 ],
 "metadata": {
  "kernelspec": {
   "display_name": "Python 3 (ipykernel)",
   "language": "python",
   "name": "python3"
  },
  "language_info": {
   "codemirror_mode": {
    "name": "ipython",
    "version": 3
   },
   "file_extension": ".py",
   "mimetype": "text/x-python",
   "name": "python",
   "nbconvert_exporter": "python",
   "pygments_lexer": "ipython3",
   "version": "3.9.7"
  },
  "toc": {
   "base_numbering": 1,
   "nav_menu": {},
   "number_sections": true,
   "sideBar": true,
   "skip_h1_title": false,
   "title_cell": "Table of Contents",
   "title_sidebar": "Contents",
   "toc_cell": false,
   "toc_position": {},
   "toc_section_display": true,
   "toc_window_display": false
  }
 },
 "nbformat": 4,
 "nbformat_minor": 5
}
