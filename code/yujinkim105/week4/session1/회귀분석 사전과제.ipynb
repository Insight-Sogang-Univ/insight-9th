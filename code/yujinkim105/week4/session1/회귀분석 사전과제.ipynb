{
 "cells": [
  {
   "cell_type": "markdown",
   "id": "e8c9e9b1",
   "metadata": {},
   "source": [
    "# 선형회귀"
   ]
  },
  {
   "cell_type": "markdown",
   "id": "0b504495",
   "metadata": {},
   "source": [
    "- 계학습이란 본질적으로 ‘probably approximately correct’한 target 함수를 학습하는 과정\n",
    "- 선형 회귀 (Linear Regression)은 해당 target 함수를 선형의 함수로서 근사하는 방법"
   ]
  },
  {
   "cell_type": "markdown",
   "id": "d627f8c8",
   "metadata": {},
   "source": [
    "## 단순 선형 회귀"
   ]
  },
  {
   "cell_type": "markdown",
   "id": "edaf4ee4",
   "metadata": {},
   "source": [
    "연속형 반응 변수 $y$ 와 설명 변수 $x$ 하나를 갖는 모형"
   ]
  },
  {
   "cell_type": "markdown",
   "id": "91154f4b",
   "metadata": {},
   "source": [
    "가정 : 두 변수는 인과관계가 있고, x에 따라 y 값이 변한다. $f(x) = y$"
   ]
  },
  {
   "cell_type": "markdown",
   "id": "d1b03065",
   "metadata": {},
   "source": [
    "- $e_i$ 오차 (i번째 관측치의 오차)\n",
    "- $\\beta_0, \\beta_1$ : 회귀계수"
   ]
  },
  {
   "cell_type": "markdown",
   "id": "b869b4fd",
   "metadata": {},
   "source": [
    "회귀모형은 오차항을 확률 변수로 가정하고 오차항에 대해 독립성, 정규성, 등분산성 가정을 전제로 한다. b1은 x가 한 단위 변할 때 y의 변화를 의미하고, b0는 x=0일 때 y의 기댓값을 나타낸다"
   ]
  },
  {
   "cell_type": "markdown",
   "id": "353a4917",
   "metadata": {},
   "source": [
    "### 산점도 그리기"
   ]
  },
  {
   "cell_type": "markdown",
   "id": "73edf108",
   "metadata": {},
   "source": [
    "비선형 관계를 갖는다면 변수 변환(variable transformation) 방법을 적용하여 선형 모형으로 적합하는 것이 가능하다. 이렇게 해야 linear regression을 사용하는 의미가 있다"
   ]
  },
  {
   "cell_type": "markdown",
   "id": "2a8f55e6",
   "metadata": {},
   "source": [
    "### 회귀계수 추정"
   ]
  },
  {
   "cell_type": "markdown",
   "id": "b6b1d8d9",
   "metadata": {},
   "source": [
    "#### 최대 우도 추정"
   ]
  },
  {
   "cell_type": "markdown",
   "id": "6551f65b",
   "metadata": {},
   "source": [
    "최대 우도 추정 MLE ; Maximum Likelihood Estimation"
   ]
  },
  {
   "cell_type": "markdown",
   "id": "0a3e5bdb",
   "metadata": {},
   "source": [
    "- 관측된 Data들의 확률 $P(D|\\theta)$을 최대화하는 $\\theta$를 찾는다. : $\\hat \\theta = \\argmax_{\\theta} P(D|\\theta)$\n",
    "- = 쉽게 설명하면 $\\theta$가 주어졌을 때 data D를 관측할 확률 $P(D|\\theta)$을 알 수 있고 이를 $\\hat \\theta$ 라 한다\n",
    "- 관측값에 의해 define되기에 outlier (이상치)들에 의해 확률이 왜곡될 수 있다."
   ]
  },
  {
   "cell_type": "markdown",
   "id": "f87cd176",
   "metadata": {},
   "source": [
    "MAP ; Maximum a Posteriori Estimation"
   ]
  },
  {
   "cell_type": "markdown",
   "id": "c7422691",
   "metadata": {},
   "source": [
    "- Posteriori $P(\\theta|D)$을 최대화하는 $\\theta$를 찾는다. : $\\hat \\theta = \\argmax_{\\theta} P(\\theta|D)$\n",
    "- Bayes Theorem (베이즈 정리)에 의해 사전 확률을 알고 있다면, 사후확률은 realisitic한 추론이 가능해진다. 단, 사전확률을 알고 있어야 하며 표본의 수 N이 작다면 잘못된 결과가 나올 수 있다."
   ]
  },
  {
   "cell_type": "markdown",
   "id": "42369efc",
   "metadata": {},
   "source": [
    "### 유의성 검정"
   ]
  },
  {
   "cell_type": "markdown",
   "id": "0ebc0457",
   "metadata": {},
   "source": [
    "- 모형 유의성\n",
    "    \n",
    "    모형 유의성은 모형에 포함된 모든 기울기가 0인지 검정하는 분산 분석 문제.\n",
    "    \n",
    "- 계수 유의성\n",
    "    \n",
    "    각 계수 값이 0인지 검정하는 T-검정 문제."
   ]
  },
  {
   "cell_type": "markdown",
   "id": "e8a52941",
   "metadata": {},
   "source": [
    "- **회귀모형 유의성**\n",
    "    \n",
    "    회귀모형 유의성은 (모든 기울기) = 0 을 검정하는 것과 같다. \n",
    "    \n",
    "    단순 선형 회귀모형은 $p=1$ 인 경우로 $\\beta_1=0$ 인지 검정한다.\n",
    "        \n",
    "        - 회귀모형 유의성 검정을 위한 분산 분해 과정\n",
    "        - 반응 변수 전체 변동을 나타내는 총제곱합(total sum ofsquares : TSS) 은 회귀모형으로 설명되는 변동과 설명되지 않는 변동으로 나눌 수 있다(분산 분석과 같다).\n",
    "          - 모형이 설명하는 변동은 회귀 제곱합 (regression sum of squares : SSR) 로 표현하고 설명되지 않는 변동은 잔차 제곱합(residual sum of squares : SSE)로 표현한다."
   ]
  },
  {
   "cell_type": "markdown",
   "id": "bf7f49e0",
   "metadata": {},
   "source": [
    "모형 유의성은 분산 분석과 같이 각각을 자유도로 나눈 평균 변동을 기준으로 평가한다. 회귀 모형으로 설명되는 평균 변동이 오차로 설명되는 평균 변동보다 통계학적으로 유의한 수준으로 클수록 모형의 유의성은 높아진다."
   ]
  },
  {
   "cell_type": "markdown",
   "id": "e98da857",
   "metadata": {},
   "source": [
    "회귀모형 유의성은 **모형에 속한 모든 기울기가 0인지 아닌지**를 검증했다. 하지만 모형이 유의하다고 해도 각 기울기가 모두 유의미하다고 말할 수 없다. (두 번의 검증 과정)\n",
    "\n",
    "따라서 각 회귀계소에 대한 유의성 검정을 통해 각 변수의 중요도 및 유의성을 확인할 수 있다. 이때 각 기울기 유의성은 T-검정을 통해 얻을 수 있다."
   ]
  },
  {
   "cell_type": "markdown",
   "id": "1316803a",
   "metadata": {},
   "source": [
    "### 회귀 모형의 평가"
   ]
  },
  {
   "cell_type": "markdown",
   "id": "352762ac",
   "metadata": {},
   "source": [
    "평균제곱근 오차(Root Mean Square Error) RMSE 는 추정 모형의 예측 정확도 평가를 위한 지표이다. \n",
    "\n",
    "예측치와 실측치의 차인 잔차를 이용해 만든다. (ground truth ↔ predict 와의 error)\n",
    "\n",
    "RMSE → 회귀선을 기준으로 실측치(ground truth) 가 얼마나 벗어나 있는지 나타내는 값이다. (작을수록 잘 회귀선이 fit 되어 있다는 뜻)\n",
    "\n",
    "그러나 y 값의 단위에 영향을 받기 때문에 절대적인 측도로는 부족하고, 다른 측도가 필요하다."
   ]
  },
  {
   "cell_type": "markdown",
   "id": "3edfad3a",
   "metadata": {},
   "source": [
    "## 다중 선형 회귀"
   ]
  },
  {
   "cell_type": "markdown",
   "id": "e854da2e",
   "metadata": {},
   "source": [
    "단순 선형 회귀모형의 확장으로 연속형 반응 변수 하나에 설명 변수가 둘 이상인 모형을 말한다.\n",
    "\n",
    "당연히 설명 변수가 늘어나기 때문에 추가로 검토해야 할 문제가 생긴다"
   ]
  },
  {
   "cell_type": "markdown",
   "id": "07783f1b",
   "metadata": {},
   "source": [
    "- 다중공선성: 모형에 포함된 설명 변수의 정보 중첩(상관관계를 가짐) 으로 발생\n",
    "\n",
    "공선성 확인을 통해 변수를 선택하거나 주성분 분석 등을 통한 차원 축소 방법으로 해결"
   ]
  },
  {
   "cell_type": "markdown",
   "id": "0a6fabec",
   "metadata": {},
   "source": [
    "- 범주형 설명 변수: 다수의 설명 변수를 사용하면 범주형 설명 변수가 모형에 포함되는 경우가 존재\n",
    "\n",
    "범주형 설명 변수를 어떻게 다룰 것인가와 관련한 문제"
   ]
  },
  {
   "cell_type": "markdown",
   "id": "65d78675",
   "metadata": {},
   "source": [
    "- 변수 선택: 너무 많은 변수는 모형 과적합(overfitting) 야기\n",
    "\n",
    "불필요한 변수를 제거하여 과적합을 막고 모형을 보다 강건(robust)하게 만드는 방법"
   ]
  }
 ],
 "metadata": {
  "kernelspec": {
   "display_name": "Python 3 (ipykernel)",
   "language": "python",
   "name": "python3"
  },
  "language_info": {
   "codemirror_mode": {
    "name": "ipython",
    "version": 3
   },
   "file_extension": ".py",
   "mimetype": "text/x-python",
   "name": "python",
   "nbconvert_exporter": "python",
   "pygments_lexer": "ipython3",
   "version": "3.9.7"
  },
  "toc": {
   "base_numbering": 1,
   "nav_menu": {},
   "number_sections": true,
   "sideBar": true,
   "skip_h1_title": false,
   "title_cell": "Table of Contents",
   "title_sidebar": "Contents",
   "toc_cell": false,
   "toc_position": {},
   "toc_section_display": true,
   "toc_window_display": false
  }
 },
 "nbformat": 4,
 "nbformat_minor": 5
}
