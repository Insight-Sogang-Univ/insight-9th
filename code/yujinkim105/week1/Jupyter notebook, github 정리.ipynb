{
 "cells": [
  {
   "cell_type": "markdown",
   "id": "aa0a75c6",
   "metadata": {},
   "source": [
    "# Jupyter Notebook"
   ]
  },
  {
   "cell_type": "markdown",
   "id": "0c89aa24",
   "metadata": {},
   "source": [
    "- 셀 단위로 실행\n",
    "- print하지 않아도 출력 가능\n"
   ]
  },
  {
   "cell_type": "markdown",
   "id": "01a48e2b",
   "metadata": {},
   "source": [
    "# Github"
   ]
  },
  {
   "cell_type": "markdown",
   "id": "10a5d6d9",
   "metadata": {},
   "source": [
    "- repository: 파일이나 폴더를 저장해 두는 곳\n",
    "- local: 깃허브와 같은 사이트가 아닌 내 컴퓨터에 있는 저장소\n",
    "- remote: 외부의 깃헙 저장소가 있는 url에 대한 alias(별칭)를 만들어 관리하기 위한 명령어\n",
    "- server\n",
    "- os\n",
    "- add: 작업 디렉토리 상의 변경 내용을 스테이징 영역에 추가하기 위하여 사용하는 git 명령어\n",
    "- commit: 파일 및 폴더의 추가/변경 사항을 저장소에 기록\n",
    "- push: 업로드\n",
    "- pull: 다운로드\n",
    "- branch:제대로 동작하는 소스코드는 그대로 둔 채 새 소스코드를 추가한 버전을 따로 만들어 관리하고, 완벽하게 완성한 다음 원래 소스에 더하는 것을 가능하게 함\n",
    "- fork:해당 원격 저장소를 자신의 원격 저장소에 저장\n",
    "- pull request:내가 수정한 코드가 있으니 내 branch를 가져가 검토 후 병합해주라고 요청 해주는 것"
   ]
  },
  {
   "cell_type": "markdown",
   "id": "0ef0a982",
   "metadata": {},
   "source": [
    "## 깃허브 사용 이유"
   ]
  },
  {
   "cell_type": "markdown",
   "id": "afdbbc2a",
   "metadata": {},
   "source": [
    "git의 본질은 '버전관리'이다.== 과거의 데이터를 백업한다는 뜻 == 원격저장소에 저장함으로써 진정한 의미의 백업과 버전관리를 한다는 것"
   ]
  }
 ],
 "metadata": {
  "kernelspec": {
   "display_name": "Python 3 (ipykernel)",
   "language": "python",
   "name": "python3"
  },
  "language_info": {
   "codemirror_mode": {
    "name": "ipython",
    "version": 3
   },
   "file_extension": ".py",
   "mimetype": "text/x-python",
   "name": "python",
   "nbconvert_exporter": "python",
   "pygments_lexer": "ipython3",
   "version": "3.9.7"
  },
  "toc": {
   "base_numbering": 1,
   "nav_menu": {},
   "number_sections": true,
   "sideBar": true,
   "skip_h1_title": false,
   "title_cell": "Table of Contents",
   "title_sidebar": "Contents",
   "toc_cell": false,
   "toc_position": {},
   "toc_section_display": true,
   "toc_window_display": false
  }
 },
 "nbformat": 4,
 "nbformat_minor": 5
}
