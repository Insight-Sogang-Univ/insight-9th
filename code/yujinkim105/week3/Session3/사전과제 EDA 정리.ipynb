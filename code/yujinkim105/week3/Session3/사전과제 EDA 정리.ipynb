{
 "cells": [
  {
   "cell_type": "markdown",
   "id": "ff06e798",
   "metadata": {},
   "source": [
    "# Feature 분석 및 시각화"
   ]
  },
  {
   "cell_type": "markdown",
   "id": "9451e1b1",
   "metadata": {},
   "source": [
    "## Feature의 종류"
   ]
  },
  {
   "cell_type": "markdown",
   "id": "e47950fc",
   "metadata": {},
   "source": [
    "### Categorical Feature"
   ]
  },
  {
   "cell_type": "markdown",
   "id": "e01126f8",
   "metadata": {},
   "source": [
    "- 범주형 데이터: 종류를 표시\n",
    "- 범주형 데이터 중 명목형 데이터는 순서 없음"
   ]
  },
  {
   "cell_type": "markdown",
   "id": "8b00d19e",
   "metadata": {},
   "source": [
    "### Ordinal Features"
   ]
  },
  {
   "cell_type": "markdown",
   "id": "a3c3795f",
   "metadata": {},
   "source": [
    "- 범주형 데이터 중에서 순서를 가짐"
   ]
  },
  {
   "cell_type": "markdown",
   "id": "8702d5a9",
   "metadata": {},
   "source": [
    "### Continuous Features"
   ]
  },
  {
   "cell_type": "markdown",
   "id": "35e434a5",
   "metadata": {},
   "source": [
    "### Discrete Features"
   ]
  },
  {
   "cell_type": "markdown",
   "id": "65056bed",
   "metadata": {},
   "source": [
    "## 시각화 기본 표현"
   ]
  },
  {
   "cell_type": "markdown",
   "id": "a6b22fb8",
   "metadata": {},
   "source": [
    "- Figure: 그래프 그리는 바탕\n",
    "- fig.set_size_inches(18.5, 10.5)\n",
    "- plt.figure(figsize=(10,5))\n",
    "- plt.rcParams['figure.figsize'] = (10,7)\n",
    "\n",
    "- axes: plot이 그려지는 공간\n",
    "- axis: plot의 축"
   ]
  },
  {
   "cell_type": "markdown",
   "id": "25a5513a",
   "metadata": {},
   "source": [
    "## Matplotlib"
   ]
  },
  {
   "cell_type": "markdown",
   "id": "dd84a763",
   "metadata": {},
   "source": [
    "## Seaborn"
   ]
  },
  {
   "cell_type": "markdown",
   "id": "f8b94d95",
   "metadata": {},
   "source": [
    "# 수치형 데이터 시각화"
   ]
  },
  {
   "cell_type": "markdown",
   "id": "a11b78bb",
   "metadata": {},
   "source": [
    "## 히스토그램"
   ]
  },
  {
   "cell_type": "markdown",
   "id": "2ee1dfdf",
   "metadata": {},
   "source": [
    "sns.histplot(x='age',data = data) "
   ]
  },
  {
   "cell_type": "markdown",
   "id": "ef741615",
   "metadata": {},
   "source": [
    "sns.histplot(x='age', hue = 'alive', data=data)"
   ]
  },
  {
   "cell_type": "markdown",
   "id": "579a99da",
   "metadata": {},
   "source": [
    "특정 범주별로 보고 싶으면 hue파라미터에 해당 범주형 데이터 전달"
   ]
  },
  {
   "cell_type": "markdown",
   "id": "8df588f8",
   "metadata": {},
   "source": [
    "## 커널밀도추정함수그래프"
   ]
  },
  {
   "cell_type": "markdown",
   "id": "f87440e4",
   "metadata": {},
   "source": [
    "sns.kdeplot(x='age', data=data)"
   ]
  },
  {
   "cell_type": "markdown",
   "id": "a942f6c1",
   "metadata": {},
   "source": [
    "## 막대그래프"
   ]
  },
  {
   "cell_type": "markdown",
   "id": "65aef57d",
   "metadata": {},
   "source": [
    "sns.barplot(x='class',y='fare', data=data)"
   ]
  },
  {
   "cell_type": "markdown",
   "id": "9744bbde",
   "metadata": {},
   "source": [
    "## 포인트플롯"
   ]
  },
  {
   "cell_type": "markdown",
   "id": "4cb7c076",
   "metadata": {},
   "source": [
    "sns.pointplot(x='class', y='fare', data=data)"
   ]
  },
  {
   "cell_type": "markdown",
   "id": "d9e7111d",
   "metadata": {},
   "source": [
    "## 박스플롯"
   ]
  },
  {
   "cell_type": "markdown",
   "id": "09003e27",
   "metadata": {},
   "source": [
    "더 많은 정보를 구체적으로 5가지 요약 수치 제공\n",
    "Q1,Q2,Q3"
   ]
  },
  {
   "cell_type": "markdown",
   "id": "44683fc1",
   "metadata": {},
   "source": [
    "sns.boxplot(x='class', y='age', data=data)"
   ]
  },
  {
   "cell_type": "markdown",
   "id": "0376fd15",
   "metadata": {},
   "source": [
    "## 바이올린 플롯"
   ]
  },
  {
   "cell_type": "markdown",
   "id": "caf53697",
   "metadata": {},
   "source": [
    "박스플롯과 커널밀도추정함수 합쳐놓은 그래프"
   ]
  },
  {
   "cell_type": "markdown",
   "id": "aef54b2e",
   "metadata": {},
   "source": [
    "sns.violinplot(x='class', y='age', data=data)"
   ]
  },
  {
   "cell_type": "markdown",
   "id": "4cf49d14",
   "metadata": {},
   "source": [
    "sns.violinplot(x='class', y='age', hue='sex', data=data)"
   ]
  },
  {
   "cell_type": "markdown",
   "id": "0f25870a",
   "metadata": {},
   "source": [
    "--> 등급별 나이분포 살펴보기"
   ]
  },
  {
   "cell_type": "markdown",
   "id": "42e2b7b2",
   "metadata": {},
   "source": [
    "sns.violinplot(x='class', y='age', hue='sex', data=data, split=True)"
   ]
  },
  {
   "cell_type": "markdown",
   "id": "e8c4d12a",
   "metadata": {},
   "source": [
    "--> 데이터 합치기"
   ]
  },
  {
   "cell_type": "markdown",
   "id": "8be36ddf",
   "metadata": {},
   "source": [
    "## 카운트플롯"
   ]
  },
  {
   "cell_type": "markdown",
   "id": "5b8a7bca",
   "metadata": {},
   "source": [
    "sns.countplot(x='class', data=data)"
   ]
  },
  {
   "cell_type": "markdown",
   "id": "d119172f",
   "metadata": {},
   "source": [
    "sns.countplot(y='class', data=data)"
   ]
  },
  {
   "cell_type": "markdown",
   "id": "432c6bb9",
   "metadata": {},
   "source": [
    "## 파이그래프"
   ]
  }
 ],
 "metadata": {
  "kernelspec": {
   "display_name": "Python 3 (ipykernel)",
   "language": "python",
   "name": "python3"
  },
  "language_info": {
   "codemirror_mode": {
    "name": "ipython",
    "version": 3
   },
   "file_extension": ".py",
   "mimetype": "text/x-python",
   "name": "python",
   "nbconvert_exporter": "python",
   "pygments_lexer": "ipython3",
   "version": "3.9.7"
  },
  "toc": {
   "base_numbering": 1,
   "nav_menu": {},
   "number_sections": true,
   "sideBar": true,
   "skip_h1_title": false,
   "title_cell": "Table of Contents",
   "title_sidebar": "Contents",
   "toc_cell": false,
   "toc_position": {},
   "toc_section_display": true,
   "toc_window_display": false
  }
 },
 "nbformat": 4,
 "nbformat_minor": 5
}
