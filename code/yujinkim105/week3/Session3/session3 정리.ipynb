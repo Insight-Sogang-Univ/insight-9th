{
 "cells": [
  {
   "cell_type": "markdown",
   "id": "98f3d5d0",
   "metadata": {},
   "source": [
    "# 데이터 입출력"
   ]
  },
  {
   "cell_type": "markdown",
   "id": "f91391ec",
   "metadata": {},
   "source": [
    "## 절대경로"
   ]
  },
  {
   "cell_type": "markdown",
   "id": "8fcd7891",
   "metadata": {},
   "source": [
    "- 처음(파일의 root)부터 시작하여 목적지까지의 전체적인 경로(URL)\n",
    "- 최상위 /를 포함하고 있습니다."
   ]
  },
  {
   "cell_type": "markdown",
   "id": "7ede3b27",
   "metadata": {},
   "source": [
    "## 상대경로"
   ]
  },
  {
   "cell_type": "markdown",
   "id": "862e9c5f",
   "metadata": {},
   "source": [
    "- 현재 위치를 기준으로 하여 목적지까지의 상대적인 경로를 의미\n",
    "- 최상위 /를 거치지 않고도 이동이 가능합니다."
   ]
  },
  {
   "cell_type": "markdown",
   "id": "5bfabcfb",
   "metadata": {},
   "source": [
    "# 데이터 읽기"
   ]
  },
  {
   "cell_type": "markdown",
   "id": "c5e25cad",
   "metadata": {},
   "source": [
    "## csv 파일"
   ]
  },
  {
   "cell_type": "markdown",
   "id": "73743da9",
   "metadata": {},
   "source": [
    ": 데이터 값을 쉼표(,)로 구분하고 있는 텍스트 파일"
   ]
  },
  {
   "cell_type": "markdown",
   "id": "57999ccf",
   "metadata": {},
   "source": [
    "## 엑셀 파일"
   ]
  },
  {
   "cell_type": "markdown",
   "id": "797df3c0",
   "metadata": {},
   "source": [
    ": 행과 열이 데이터프레임의 행, 열로 일대일 대응"
   ]
  },
  {
   "cell_type": "markdown",
   "id": "7a994048",
   "metadata": {},
   "source": [
    "두 형식 모두 pandas를 통해 DataFrame 형식으로 읽어올 수 있음\n",
    "- index_col: 불러온 데이터중 하나의 칼럼을 인덱스로서 설정함\n",
    "- usecols: 데이터중 원하는 칼럼만 선별하여 불러옴"
   ]
  },
  {
   "cell_type": "markdown",
   "id": "ccb9367a",
   "metadata": {},
   "source": [
    "# 전처리"
   ]
  },
  {
   "cell_type": "markdown",
   "id": "aad6ef87",
   "metadata": {},
   "source": [
    "누락 데이터, 중복 데이터 등 오류를 수정하고, 분 목적에 맞게 변형하는 과정이 필요한데 이 과정을 전처리라고 함 "
   ]
  },
  {
   "cell_type": "markdown",
   "id": "b66ddefe",
   "metadata": {},
   "source": [
    "순서: 데이터 셋 확인 => 결측값 처리 => 이상값 처리 => Feature Engineering"
   ]
  },
  {
   "cell_type": "markdown",
   "id": "ace0ffec",
   "metadata": {},
   "source": [
    "## 누락데이터(결측치) 처리"
   ]
  },
  {
   "cell_type": "markdown",
   "id": "49fa3780",
   "metadata": {},
   "source": [
    "### 누락 데이터 확인"
   ]
  },
  {
   "cell_type": "markdown",
   "id": "2e58d60b",
   "metadata": {},
   "source": [
    "- info() 메소드 통해 데이터 프레임 요약정보 출력 --> 각 열의 유효값의 개수 보여줌\n",
    "-  value_counts(dropna=False) 메소드를 이용하면 각 열의 NaN 값 개수를 알 수 있다\n",
    "- isnull(): 누락데이터면 True, 유효한 데이터면 False 반환, df.isnull().sum()의 형식으로 자주 사용"
   ]
  },
  {
   "cell_type": "markdown",
   "id": "f91f1301",
   "metadata": {},
   "source": [
    "### 결측값 처리"
   ]
  },
  {
   "cell_type": "markdown",
   "id": "8f0ca8c7",
   "metadata": {},
   "source": [
    "#### 삭제"
   ]
  },
  {
   "cell_type": "markdown",
   "id": "c70c9579",
   "metadata": {},
   "source": [
    "- 전체삭제: 결측값이 발생한 모든 관측치를 삭제 \n",
    "- 부분삭제: 데이터 중 모델에 포함시킬 변수들 중 결측값이 발생한 모든 관측치를 삭제"
   ]
  },
  {
   "cell_type": "markdown",
   "id": "06881fb2",
   "metadata": {},
   "source": [
    "#### 대체"
   ]
  },
  {
   "cell_type": "markdown",
   "id": "db8e7414",
   "metadata": {},
   "source": [
    "누락 데이터를 대체할 값으로는 데이터의 분포와 특성을 잘 나타낼 수 있는 \n",
    "평균값, 최빈값 등을 활용한다. fillna() 메소드를 이용"
   ]
  },
  {
   "cell_type": "markdown",
   "id": "e101a53c",
   "metadata": {},
   "source": [
    "## 중복데이터 처리"
   ]
  },
  {
   "cell_type": "markdown",
   "id": "7076c008",
   "metadata": {},
   "source": [
    "각 행은 분석 대상이 갖고 있는 모든 속성(변수)에 대한 관측값(레코드)를 뜻합니다.\n",
    "하나의 데이터 셋에서 2개 이상 중복되는 경우 결과를 왜곡하기에 이를 확인해주어야 함"
   ]
  },
  {
   "cell_type": "markdown",
   "id": "4dfcda11",
   "metadata": {},
   "source": [
    "### 확인"
   ]
  },
  {
   "cell_type": "markdown",
   "id": "76fee18c",
   "metadata": {},
   "source": [
    "df[\"열1\"].duplicated()"
   ]
  },
  {
   "cell_type": "markdown",
   "id": "135e76fe",
   "metadata": {},
   "source": [
    "### 제거"
   ]
  },
  {
   "cell_type": "markdown",
   "id": "5e7f73dd",
   "metadata": {},
   "source": [
    "- df[\"열2\"].drop_duplicates()\n",
    "- df.drop_duplicates(subset=[\"열4\",\"열5\"]) "
   ]
  },
  {
   "cell_type": "markdown",
   "id": "ce16cf82",
   "metadata": {},
   "source": [
    "## 이상치 처리"
   ]
  },
  {
   "cell_type": "markdown",
   "id": "76bc9cb1",
   "metadata": {},
   "source": [
    "### 이상치 확인"
   ]
  },
  {
   "cell_type": "markdown",
   "id": "28f6efe3",
   "metadata": {},
   "source": [
    "- df.describe()\n",
    "- 시각화 통해 확인(Boxplot)"
   ]
  },
  {
   "cell_type": "markdown",
   "id": "34ffee0d",
   "metadata": {},
   "source": [
    "### 전체 삭제"
   ]
  },
  {
   "cell_type": "markdown",
   "id": "3c01a849",
   "metadata": {},
   "source": [
    "### 다른 값으로 대체"
   ]
  },
  {
   "cell_type": "markdown",
   "id": "42ae8d0c",
   "metadata": {},
   "source": [
    "### 변수화"
   ]
  },
  {
   "cell_type": "markdown",
   "id": "fe2271c7",
   "metadata": {},
   "source": [
    "### 리샘플링"
   ]
  },
  {
   "cell_type": "markdown",
   "id": "da9d21f7",
   "metadata": {},
   "source": [
    "## 범주형 데이터 처리"
   ]
  },
  {
   "cell_type": "markdown",
   "id": "b145ae04",
   "metadata": {},
   "source": [
    "### 구간분할"
   ]
  },
  {
   "cell_type": "markdown",
   "id": "60e490b0",
   "metadata": {},
   "source": [
    "### 더미변수"
   ]
  },
  {
   "cell_type": "markdown",
   "id": "8a9faec0",
   "metadata": {},
   "source": [
    "## 정규화"
   ]
  },
  {
   "cell_type": "markdown",
   "id": "01f1467e",
   "metadata": {},
   "source": [
    "## StandardScaler"
   ]
  },
  {
   "cell_type": "markdown",
   "id": "a59d4c27",
   "metadata": {},
   "source": [
    "## MinMaxScaler"
   ]
  },
  {
   "cell_type": "markdown",
   "id": "3104b97a",
   "metadata": {},
   "source": [
    "모든 feature가 0과 1사이에 위치하게 만듦.데이터가 2차원 셋일 경우, 모든 데이터는 x축의 0과 1 사이에, y축의 0과 1사이에 위치하게 됨"
   ]
  },
  {
   "cell_type": "markdown",
   "id": "43adcfaf",
   "metadata": {},
   "source": [
    "scaler = MinMaxScaler(feature_range=(0,1))"
   ]
  },
  {
   "cell_type": "markdown",
   "id": "4c2b6a1c",
   "metadata": {},
   "source": [
    "## RobustScaler"
   ]
  },
  {
   "cell_type": "markdown",
   "id": "25f1118c",
   "metadata": {},
   "source": [
    "모든 특성들이 같은 크기를 갖는다는 점에서 StandardScaler와 비슷하지만, 평균과 분산 대신 media(중간값)n과 quartile(사분위수)을 사용"
   ]
  }
 ],
 "metadata": {
  "kernelspec": {
   "display_name": "Python 3 (ipykernel)",
   "language": "python",
   "name": "python3"
  },
  "language_info": {
   "codemirror_mode": {
    "name": "ipython",
    "version": 3
   },
   "file_extension": ".py",
   "mimetype": "text/x-python",
   "name": "python",
   "nbconvert_exporter": "python",
   "pygments_lexer": "ipython3",
   "version": "3.9.7"
  },
  "toc": {
   "base_numbering": 1,
   "nav_menu": {},
   "number_sections": true,
   "sideBar": true,
   "skip_h1_title": false,
   "title_cell": "Table of Contents",
   "title_sidebar": "Contents",
   "toc_cell": false,
   "toc_position": {},
   "toc_section_display": true,
   "toc_window_display": false
  }
 },
 "nbformat": 4,
 "nbformat_minor": 5
}
