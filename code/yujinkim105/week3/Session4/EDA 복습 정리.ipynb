{
 "cells": [
  {
   "cell_type": "markdown",
   "id": "f6ccfdd1",
   "metadata": {},
   "source": [
    "# EDA"
   ]
  },
  {
   "cell_type": "markdown",
   "id": "e9a6b29c",
   "metadata": {},
   "source": [
    "## EDA란?"
   ]
  },
  {
   "cell_type": "markdown",
   "id": "2c607405",
   "metadata": {},
   "source": [
    "- EDA(Exploratory Data Analysis, 탐색적 데이터 분석)란, 데이터의 특징과 내재하는 구조적인 관계를 알아내기 위한 분석 기법\n",
    "- 수집한 데이터를 다양한 각도에서 관찰하고 이해하는 과정"
   ]
  },
  {
   "cell_type": "markdown",
   "id": "cfbcae74",
   "metadata": {},
   "source": [
    "# 데이터 및 결측치 확인"
   ]
  },
  {
   "cell_type": "markdown",
   "id": "eccae23e",
   "metadata": {},
   "source": [
    "- data.isnull().sum()"
   ]
  },
  {
   "cell_type": "markdown",
   "id": "ac4307ce",
   "metadata": {},
   "source": [
    "# Feature 분석 및 시각화"
   ]
  },
  {
   "cell_type": "markdown",
   "id": "0de27295",
   "metadata": {},
   "source": [
    "## Feature의 종류"
   ]
  },
  {
   "cell_type": "markdown",
   "id": "b1ff96e8",
   "metadata": {},
   "source": [
    "- 범주형, 명목형\n",
    "- 순서형\n",
    "- 연속형\n",
    "- 이산형"
   ]
  },
  {
   "cell_type": "markdown",
   "id": "dffd0862",
   "metadata": {},
   "source": [
    "## 피처별 시각화 및 결측값 채우기"
   ]
  },
  {
   "cell_type": "markdown",
   "id": "1218a5e8",
   "metadata": {},
   "source": [
    "- Pie Chart\n",
    "- Count Plot\n",
    "- Bar Plot\n",
    "- Count Plot"
   ]
  },
  {
   "cell_type": "markdown",
   "id": "765a762d",
   "metadata": {},
   "source": [
    "## Correlation between the Features(heatmap)"
   ]
  },
  {
   "cell_type": "markdown",
   "id": "cfafe807",
   "metadata": {},
   "source": [
    "1. heatmap\n",
    "    - 구체적인 수치 없이도 많은 데이터가 시사하는 바를 패턴으로 나타내는 데 매우 효과적인 시각화 차트\n",
    "    - 열분포 형태의 비쥬얼한 그래픽"
   ]
  },
  {
   "cell_type": "markdown",
   "id": "281835c0",
   "metadata": {},
   "source": [
    "# Feature Enginerring & Data Cleaning"
   ]
  },
  {
   "cell_type": "markdown",
   "id": "9818ad88",
   "metadata": {},
   "source": [
    "Feature Engineering: 초기 데이터로부터 특징을 가공하고 생산하여 모델의 입력 데이터를 생성하는 과정"
   ]
  },
  {
   "cell_type": "markdown",
   "id": "2a29aba5",
   "metadata": {},
   "source": [
    "# 시각화 기본 보충"
   ]
  },
  {
   "cell_type": "markdown",
   "id": "3abe4b2e",
   "metadata": {},
   "source": [
    "## Line Plot"
   ]
  },
  {
   "cell_type": "markdown",
   "id": "b65bce25",
   "metadata": {},
   "source": [
    "- 연속적으로 변화하는 값을 순서대로 점으로 나타내고, 이를 선으로 연결한 그래프\\\n",
    "- 시간/순서에 대한 변화에 적합하여 추세를 살피기 위해 활용"
   ]
  },
  {
   "cell_type": "markdown",
   "id": "b745f610",
   "metadata": {},
   "source": [
    "## IRIS Dataset"
   ]
  },
  {
   "cell_type": "markdown",
   "id": "f262ba0e",
   "metadata": {},
   "source": [
    "## Scatter Plot"
   ]
  },
  {
   "cell_type": "markdown",
   "id": "e01f9538",
   "metadata": {},
   "source": [
    "- 각각의 데이터 포인트들을 흩 뿌려놓은 (scatter)형태로,x축과 y축의 상관관계를 표현\n",
    "- 크게 양의 상관관계 (한 변수가 증가할 때 나머지 변수도 같이 증가) 또는 음의 상관관계 (한 변수가 증가할 때 나머지 변수는 감소) 그리고 무상관 (두 변수 간 상관성이 없음)을 나타냄"
   ]
  },
  {
   "cell_type": "markdown",
   "id": "5b5b0f82",
   "metadata": {},
   "source": [
    "## Pair Plot"
   ]
  },
  {
   "cell_type": "markdown",
   "id": "3037a10f",
   "metadata": {},
   "source": [
    "- 비교하려는 변수가 2개 이상일 때 유용함"
   ]
  }
 ],
 "metadata": {
  "kernelspec": {
   "display_name": "Python 3 (ipykernel)",
   "language": "python",
   "name": "python3"
  },
  "language_info": {
   "codemirror_mode": {
    "name": "ipython",
    "version": 3
   },
   "file_extension": ".py",
   "mimetype": "text/x-python",
   "name": "python",
   "nbconvert_exporter": "python",
   "pygments_lexer": "ipython3",
   "version": "3.9.7"
  },
  "toc": {
   "base_numbering": 1,
   "nav_menu": {},
   "number_sections": true,
   "sideBar": true,
   "skip_h1_title": false,
   "title_cell": "Table of Contents",
   "title_sidebar": "Contents",
   "toc_cell": false,
   "toc_position": {},
   "toc_section_display": true,
   "toc_window_display": false
  }
 },
 "nbformat": 4,
 "nbformat_minor": 5
}
