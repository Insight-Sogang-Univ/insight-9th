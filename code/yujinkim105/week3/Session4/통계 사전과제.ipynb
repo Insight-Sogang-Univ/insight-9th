{
 "cells": [
  {
   "cell_type": "markdown",
   "id": "8dca95a8",
   "metadata": {},
   "source": [
    "# 수치 기술 통계"
   ]
  },
  {
   "cell_type": "markdown",
   "id": "66368428",
   "metadata": {},
   "source": [
    "## 중심위치척도"
   ]
  },
  {
   "cell_type": "markdown",
   "id": "a828e030",
   "metadata": {},
   "source": [
    "- 평균\n",
    "- 중앙값\n",
    "- 최빈값"
   ]
  },
  {
   "cell_type": "markdown",
   "id": "75c7719a",
   "metadata": {},
   "source": [
    "## 변동성척도"
   ]
  },
  {
   "cell_type": "markdown",
   "id": "13c6f693",
   "metadata": {},
   "source": [
    "### 사분위수"
   ]
  },
  {
   "cell_type": "markdown",
   "id": "e864a4f1",
   "metadata": {},
   "source": [
    "- Q1\n",
    "- Q2: 중앙값\n",
    "- Q3"
   ]
  },
  {
   "cell_type": "markdown",
   "id": "254c4271",
   "metadata": {},
   "source": [
    "### 분산\n",
    "    - 자료 각각이 평균으로부터 떨어져 있는 정도"
   ]
  },
  {
   "cell_type": "markdown",
   "id": "bf1f3975",
   "metadata": {},
   "source": [
    "### 표준편차"
   ]
  },
  {
   "cell_type": "markdown",
   "id": "6146f6b3",
   "metadata": {},
   "source": [
    "### 변동계수\n",
    "    - 표준편차를 평균에 대한 상대적인 값으로 표현"
   ]
  },
  {
   "cell_type": "markdown",
   "id": "1ee31182",
   "metadata": {},
   "source": [
    "## 연관성척도"
   ]
  },
  {
   "cell_type": "markdown",
   "id": "4bdf1499",
   "metadata": {},
   "source": [
    "### 공분산"
   ]
  },
  {
   "cell_type": "markdown",
   "id": "cfe0bc15",
   "metadata": {},
   "source": [
    "- 두 변수가 각자의 평균으로부터 떨어진 값을 서로 곱한 후 평균 낸 값, 두 변수가 어느 방향으로 얼마나 변동하는지 나타냄"
   ]
  },
  {
   "cell_type": "markdown",
   "id": "0d005439",
   "metadata": {},
   "source": [
    "### 상관계수"
   ]
  },
  {
   "cell_type": "markdown",
   "id": "ac717f57",
   "metadata": {},
   "source": [
    "- 공분산을 각 변수의 변동성(표준편차)을 이용하여 표준화 한 값. -1과 1사이의 값을 가짐\n",
    "-공분산을 -1과 1사이로 표준화한 것이므로 다음과 같이 해석한다  \n",
    "   - Corr(X,Y) = 1에 가까울수록 양의 상관관계(1이면 완전한 양의 상관관계)\n",
    "   - Corr(X,Y) = -1에 가까울수록 양의 상관관계(-1이면 완전한 음의 상관관계)"
   ]
  },
  {
   "cell_type": "markdown",
   "id": "8fd583ec",
   "metadata": {},
   "source": [
    "### 기타 상관계수"
   ]
  },
  {
   "cell_type": "markdown",
   "id": "5285ce3b",
   "metadata": {},
   "source": [
    "- 파이계수\n",
    "    - 두 변수가 명목형일 때 적용되는 상관계수\n",
    "    - Pearson의 상관 계수와 동일하게 해석 "
   ]
  },
  {
   "cell_type": "markdown",
   "id": "3856ca4f",
   "metadata": {},
   "source": [
    "- 스피어만 상관계수\n",
    "   - 두 변수 관측값의 순위 (rank)를 이용한 상관계수\n",
    "   - 순위에 대한 Pearson 상관계수"
   ]
  },
  {
   "cell_type": "markdown",
   "id": "4c9e8950",
   "metadata": {},
   "source": [
    "- 점-양분 상관계수\n",
    "   - 하나의 변수는 숫자형이고 하나는 명목형인 경우에 적용\n",
    "   - 명목형 변수의 범주가 2개인 경우 Pearson 상관계수처럼 계산 가능    "
   ]
  },
  {
   "cell_type": "markdown",
   "id": "bea5c3e7",
   "metadata": {},
   "source": [
    "# 추측 통계"
   ]
  },
  {
   "cell_type": "markdown",
   "id": "3951582b",
   "metadata": {},
   "source": [
    "## 확률분포"
   ]
  },
  {
   "cell_type": "markdown",
   "id": "b8340309",
   "metadata": {},
   "source": [
    "### 연속확률분포의 종류"
   ]
  },
  {
   "cell_type": "markdown",
   "id": "01927a51",
   "metadata": {},
   "source": [
    "- 정규분포(Normal Distribution)\n",
    "- T분포/F분포\n",
    "- 감마분포(Gamma Distribution)\n",
    "- 지수분포(Exponential Distribution)\n",
    "- 카이제곱분포(Chi-squared Distribution)\n",
    "- 베타분포(Beta Distribution)\n",
    "- 균일분포(Uniform Distribution)"
   ]
  },
  {
   "cell_type": "markdown",
   "id": "0b7a9bdd",
   "metadata": {},
   "source": [
    "#### 정규분포"
   ]
  },
  {
   "cell_type": "markdown",
   "id": "9f8acad5",
   "metadata": {},
   "source": [
    "- 모든 정규분포는 종 모양을 나타내고 좌우 대칭이다.\n",
    "- 정규곡선의 위치는 평균 μ 에 의해서 정해지고, 그 모양은 표준편차 σ 크기에 의해서 결정된다"
   ]
  },
  {
   "cell_type": "markdown",
   "id": "9c779c83",
   "metadata": {},
   "source": [
    "#### T분포"
   ]
  },
  {
   "cell_type": "markdown",
   "id": "a46800b8",
   "metadata": {},
   "source": [
    "- t분포는 표준정규분포처럼 0을 중심으로 종형의 모습을 가진 대칭 분포이다.\n",
    "- t분포는 자유도 n에 따라 모습이 변하는데, 자유도 n이 커짐에 따라 표준정규분포 N(0,1)에 수렴한다."
   ]
  },
  {
   "cell_type": "markdown",
   "id": "7711a727",
   "metadata": {},
   "source": [
    "정규분포와 T분포의 차이"
   ]
  },
  {
   "cell_type": "markdown",
   "id": "8fe5b8fe",
   "metadata": {},
   "source": [
    "- 각 그래프의 색칠한 부분은 좌우 각각 데이터의 2.5% 씩, 합쳐서 5%의 영역"
   ]
  },
  {
   "cell_type": "markdown",
   "id": "c3cf442e",
   "metadata": {},
   "source": [
    "#### 카이스퀘어 분포"
   ]
  },
  {
   "cell_type": "markdown",
   "id": "62727f09",
   "metadata": {},
   "source": [
    "- k개의 서로 독립적인 표준정규 확률변수를 각각 제곱한 다음 합해서 얻어지는 분포\n",
    "- 정규분포의 제곱은 카이스퀘어 분포\n",
    "- 제곱이 되어서 음수의 값들이 없음\n",
    "- 비대칭\n",
    "- 모수(parameter, 매개변수)인 자유도에 따라 분포의 모양이 변하는데, 자유도가 커질수록 정규분포에 가까워짐"
   ]
  },
  {
   "cell_type": "markdown",
   "id": "579fb602",
   "metadata": {},
   "source": [
    "#### F분포"
   ]
  },
  {
   "cell_type": "markdown",
   "id": "d70993ce",
   "metadata": {},
   "source": [
    "- 정규분포를 이루는 모집단에서 독립적으로 추출한 표본들의 분산비율이 나타내는 연속 확률 분포.\n",
    "- 카이제곱분포와 마찬가지로 “분산”을 다룰 때 사용하는 분포인데, 카이제곱분포가 한 집단의 분산을 다뤘다면, F분포는 두 집단의 분산을 다룸\n",
    "- 회귀분석의 F-test를 이해하는데 필요한 분포(독립변수들의 변동과 종속변수의 변동을 확인해서 전체 회귀식이 유의한지 결정)  "
   ]
  },
  {
   "cell_type": "markdown",
   "id": "37eceaad",
   "metadata": {},
   "source": [
    "#### 이항분포"
   ]
  },
  {
   "cell_type": "markdown",
   "id": "38bda5e8",
   "metadata": {},
   "source": [
    "- 연속된 n번의 독립시행에서 각 시행이 성공할 (또는 일어날) 확률 p를 가질 때 만들어지는 이산 확률 분포"
   ]
  },
  {
   "cell_type": "markdown",
   "id": "581466ee",
   "metadata": {},
   "source": [
    "#### 포아송분포"
   ]
  },
  {
   "cell_type": "markdown",
   "id": "e7a281b0",
   "metadata": {},
   "source": [
    "단위 시간 안에 어떤 사건이 몇 번 일어날 것인지를 표현하는 이산 확률 분포"
   ]
  },
  {
   "cell_type": "markdown",
   "id": "de512881",
   "metadata": {},
   "source": [
    "### 자유도"
   ]
  },
  {
   "cell_type": "markdown",
   "id": "bc885946",
   "metadata": {},
   "source": [
    "데이터에서 독립적인 정보의 수\n",
    "    - 보통 자유도는 관찰치의 수(n)에서 추정된 매개변수의 수(k)를 뺀 것. 즉 표본의 수n이 증가하면 자유도도 높아짐"
   ]
  },
  {
   "cell_type": "markdown",
   "id": "4a1cc08c",
   "metadata": {},
   "source": [
    "## 모집단 vs 표본집단"
   ]
  },
  {
   "cell_type": "markdown",
   "id": "1f6a8f09",
   "metadata": {},
   "source": [
    "모수 vs 표본통계량"
   ]
  },
  {
   "cell_type": "markdown",
   "id": "3219d1ce",
   "metadata": {},
   "source": [
    "## 대수의 법칙 or 라플라스 정리"
   ]
  },
  {
   "cell_type": "markdown",
   "id": "4ae62098",
   "metadata": {},
   "source": [
    "데이터가 많을 수록 좋음 왜냐하면 표본 개수가 증가할수록 모수랑 비슷해지기 때문"
   ]
  },
  {
   "cell_type": "markdown",
   "id": "1189a805",
   "metadata": {},
   "source": [
    "## 중심 국한 정리"
   ]
  },
  {
   "cell_type": "markdown",
   "id": "dc0feb28",
   "metadata": {},
   "source": [
    "- 무작위로 추출된 표본의 크기가 커질수록 표본 평균의 분포는 모집단의 분포 모양과는 관계없이 정규분포에 가까워진다는 정리\n",
    "- 한번 추출 할 때 많은 표본을 추출할 수록 그 표본들의 평균의 분포가 정규분포에 가까워진다"
   ]
  },
  {
   "cell_type": "markdown",
   "id": "577b61a7",
   "metadata": {},
   "source": [
    "# 가설검정"
   ]
  },
  {
   "cell_type": "markdown",
   "id": "30bec210",
   "metadata": {},
   "source": [
    "## 가설검정의 절차"
   ]
  },
  {
   "cell_type": "markdown",
   "id": "13402738",
   "metadata": {},
   "source": [
    "1. 가설 설정 \n",
    "\n",
    "2. 유의수준 설정\n",
    "\n",
    "3. 검정통계량 산출\n",
    "\n",
    "4. 기각/채택 판단"
   ]
  },
  {
   "cell_type": "markdown",
   "id": "9e981968",
   "metadata": {},
   "source": [
    "### 가설 설정"
   ]
  },
  {
   "cell_type": "markdown",
   "id": "23558a20",
   "metadata": {},
   "source": [
    "- 귀무가설 H0와 대립가설 H1를 설정\n",
    "- 귀무가설은 주로 확인하기 용이하거나 기각하고자하는 명제로 설정\n",
    "\n",
    "- 귀무가설, 대립가설 예시)  H0 : Mean(기존) - Mean(새로운) = 0 ,   H1 : Mean(기존) - Mean(새로운) ≠ 0 "
   ]
  },
  {
   "cell_type": "markdown",
   "id": "684be199",
   "metadata": {},
   "source": [
    "### 유의수준 설정"
   ]
  },
  {
   "cell_type": "markdown",
   "id": "56877bfd",
   "metadata": {},
   "source": [
    "### 검정통계량 산출"
   ]
  },
  {
   "cell_type": "markdown",
   "id": "72663f66",
   "metadata": {},
   "source": [
    "- 검정통계량은 어떤 확률분포(정규분포, t분포, 이항분포 등)에서 가설 검정 목적으로 그 확률분포의 통계량을 산출하는 것\n",
    "- 데이터가 분포나 특징에 따라 Z통계량, T통계량 등 어떤 검정통계량을 사용할지 정해야함\n",
    "- 검정통계량이 확률분포 어디에 위치하느냐에 따라 기각 및 채택 여부가 결정\n",
    "- 만일 이 검정통계량이 신뢰구간에 위치해 있을 때는 대립가설 기각, 벗어날 시에는 대립가설을 채택"
   ]
  },
  {
   "cell_type": "markdown",
   "id": "757f9dfd",
   "metadata": {},
   "source": [
    "### 유의확률"
   ]
  },
  {
   "cell_type": "markdown",
   "id": "5e8794b4",
   "metadata": {},
   "source": [
    "검정통계량에서 유도할 수 있으며 유의 확률 p-value가 유의 수준(α)보다 클 시에는 귀무가설을 채택, 작을 시에는 귀무 가설을 기각"
   ]
  },
  {
   "cell_type": "markdown",
   "id": "ab18addb",
   "metadata": {},
   "source": [
    "## 1종, 2종 오류"
   ]
  },
  {
   "cell_type": "markdown",
   "id": "f51b2bbb",
   "metadata": {},
   "source": [
    "- 1종 오류 : 귀무가설이 실제로 참이었는데 기각할 확률(= 유의수준)\n",
    "- 2종 오류 : 귀무가설이 실제로 거짓인데 기각하지 못할(채택) 확률"
   ]
  },
  {
   "cell_type": "markdown",
   "id": "224a943e",
   "metadata": {},
   "source": [
    "# 기타"
   ]
  },
  {
   "cell_type": "markdown",
   "id": "1787fbef",
   "metadata": {},
   "source": [
    "## 조건부확률과 베이즈 정리"
   ]
  },
  {
   "cell_type": "markdown",
   "id": "66d4823a",
   "metadata": {},
   "source": [
    "### 조건부 확률"
   ]
  },
  {
   "cell_type": "markdown",
   "id": "77e5611a",
   "metadata": {},
   "source": [
    "- 어떤 사건이 일어났을 때, 그와 연관된 다른 사건이 일어날 확률을 의미\n",
    "-  P(B|A):사건 A가 일어났을 때, 사건 B가 일어날 확률;B가 일어날 조건이 A가 일어난 경우인 것"
   ]
  },
  {
   "cell_type": "markdown",
   "id": "f9e87f45",
   "metadata": {},
   "source": [
    "### 베이즈 정리"
   ]
  },
  {
   "cell_type": "markdown",
   "id": "8b0661a5",
   "metadata": {},
   "source": [
    "- 조건부 확률을 이용하여 사전 정보(prior information)가 주어졌을 때, 그 정보를 이용하여 새로운 정보(posterior information)를 추론하는 방법\n",
    "-   P(A|B) = P(B|A) * P(A) / P(B)"
   ]
  }
 ],
 "metadata": {
  "kernelspec": {
   "display_name": "Python 3 (ipykernel)",
   "language": "python",
   "name": "python3"
  },
  "language_info": {
   "codemirror_mode": {
    "name": "ipython",
    "version": 3
   },
   "file_extension": ".py",
   "mimetype": "text/x-python",
   "name": "python",
   "nbconvert_exporter": "python",
   "pygments_lexer": "ipython3",
   "version": "3.9.7"
  },
  "toc": {
   "base_numbering": 1,
   "nav_menu": {},
   "number_sections": true,
   "sideBar": true,
   "skip_h1_title": false,
   "title_cell": "Table of Contents",
   "title_sidebar": "Contents",
   "toc_cell": false,
   "toc_position": {},
   "toc_section_display": true,
   "toc_window_display": false
  }
 },
 "nbformat": 4,
 "nbformat_minor": 5
}
