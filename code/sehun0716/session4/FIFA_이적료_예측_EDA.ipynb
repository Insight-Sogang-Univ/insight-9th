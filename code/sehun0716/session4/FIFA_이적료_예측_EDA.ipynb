{
 "cells": [
  {
   "cell_type": "markdown",
   "metadata": {
    "id": "ace_fbLw5k1K"
   },
   "source": [
    "# 필요 라이브러리 호출하기"
   ]
  },
  {
   "cell_type": "markdown",
   "metadata": {
    "id": "vqWO_rpE5k1P"
   },
   "source": [
    "pandas, numpy 등 데이터 읽기에 필요한 라이브러리를 호출해줍니다. "
   ]
  },
  {
   "cell_type": "code",
   "execution_count": 156,
   "metadata": {
    "ExecuteTime": {
     "end_time": "2022-09-22T09:40:19.723990Z",
     "start_time": "2022-09-22T09:40:19.301932Z"
    },
    "executionInfo": {
     "elapsed": 5,
     "status": "ok",
     "timestamp": 1662337462263,
     "user": {
      "displayName": "이창윤",
      "userId": "13584916531398763905"
     },
     "user_tz": -540
    },
    "id": "UFUCDR83gpdQ"
   },
   "outputs": [],
   "source": [
    "#필요 라이브러리 호출\n",
    "import pandas as pd\n",
    "import numpy as np\n",
    "import warnings\n",
    "warnings.filterwarnings('ignore')"
   ]
  },
  {
   "cell_type": "markdown",
   "metadata": {
    "id": "YEbW0mLz5k1S"
   },
   "source": [
    "## 파일 읽기"
   ]
  },
  {
   "cell_type": "markdown",
   "metadata": {
    "id": "zV8PDf6z5k1S"
   },
   "source": [
    "pandas의 read_csv를 활용하여 csv 파일을 데이터프레임 형태로 불러옵니다."
   ]
  },
  {
   "cell_type": "code",
   "execution_count": 157,
   "metadata": {
    "ExecuteTime": {
     "end_time": "2022-09-22T09:40:20.151540Z",
     "start_time": "2022-09-22T09:40:20.105256Z"
    },
    "executionInfo": {
     "elapsed": 537,
     "status": "ok",
     "timestamp": 1662337462796,
     "user": {
      "displayName": "이창윤",
      "userId": "13584916531398763905"
     },
     "user_tz": -540
    },
    "id": "mNmHj38F5k1T"
   },
   "outputs": [],
   "source": [
    "#파일 불러오기\n",
    "data = pd.read_csv(\"./data/FIFA.csv\", \n",
    "                  index_col = None)"
   ]
  },
  {
   "cell_type": "code",
   "execution_count": 158,
   "metadata": {
    "ExecuteTime": {
     "end_time": "2022-09-22T09:40:20.466396Z",
     "start_time": "2022-09-22T09:40:20.439810Z"
    },
    "executionInfo": {
     "elapsed": 37,
     "status": "ok",
     "timestamp": 1662337462797,
     "user": {
      "displayName": "이창윤",
      "userId": "13584916531398763905"
     },
     "user_tz": -540
    },
    "id": "n6WeQLJePGv7"
   },
   "outputs": [],
   "source": [
    "df = data.copy()"
   ]
  },
  {
   "cell_type": "markdown",
   "metadata": {
    "id": "F05K6V0c4Tuj"
   },
   "source": [
    "## 데이터 구조 확인"
   ]
  },
  {
   "cell_type": "markdown",
   "metadata": {
    "id": "d0t6A8fh5k1W"
   },
   "source": [
    "                                                      <데이터 변수 설명>\n",
    "\n",
    "| 변수 | 설명 \n",
    "| --- | --- | \n",
    "| id | 선수 고유의 아이디 |  \n",
    "| name | 이름 |\n",
    "| age | 나이 |\n",
    "| continent | 선수들의 국적이 포함되어 있는 대륙 | \n",
    "| contract_until | 선수의 계약기간 만료시기 |  \n",
    "| position | 선수가 선호하는 포지션 ex) 공격수, 수비수|  \n",
    "| prefer_foot | 선수가 선호하는 발 ex) 오른발 |  \n",
    "| reputation | 선수가 유명도 - 높은 수치일 수록 유명한 선수 |  \n",
    "| stat_overall | 선수의 현재 능력치 |  \n",
    "| stat_potential | 선수가 경험 및 노력을 통해 발전할 수 있는 정도 |  \n",
    "| stat_skill_moves | 선수의 개인기 능력치 |  \n",
    "| value | FIFA가 선정한 선수의 이적 시장 가격 (단위 : 유로) |  \n"
   ]
  },
  {
   "cell_type": "markdown",
   "metadata": {
    "id": "z5jWQJBF5k1X"
   },
   "source": [
    "df.head(), df.describe(), df.info()로 전반적인 데이터프레임의 구조를 확인해볼 수 있습니다. "
   ]
  },
  {
   "cell_type": "code",
   "execution_count": 159,
   "metadata": {
    "ExecuteTime": {
     "end_time": "2022-09-22T09:40:21.858954Z",
     "start_time": "2022-09-22T09:40:21.816836Z"
    },
    "colab": {
     "base_uri": "https://localhost:8080/",
     "height": 206
    },
    "executionInfo": {
     "elapsed": 37,
     "status": "ok",
     "timestamp": 1662337462798,
     "user": {
      "displayName": "이창윤",
      "userId": "13584916531398763905"
     },
     "user_tz": -540
    },
    "id": "N17NwMHogz0_",
    "outputId": "3ddd0ec5-97bf-4dc5-ee0a-4bf9e5fcc838"
   },
   "outputs": [
    {
     "data": {
      "text/html": [
       "<div>\n",
       "<style scoped>\n",
       "    .dataframe tbody tr th:only-of-type {\n",
       "        vertical-align: middle;\n",
       "    }\n",
       "\n",
       "    .dataframe tbody tr th {\n",
       "        vertical-align: top;\n",
       "    }\n",
       "\n",
       "    .dataframe thead th {\n",
       "        text-align: right;\n",
       "    }\n",
       "</style>\n",
       "<table border=\"1\" class=\"dataframe\">\n",
       "  <thead>\n",
       "    <tr style=\"text-align: right;\">\n",
       "      <th></th>\n",
       "      <th>id</th>\n",
       "      <th>name</th>\n",
       "      <th>age</th>\n",
       "      <th>continent</th>\n",
       "      <th>contract_until</th>\n",
       "      <th>position</th>\n",
       "      <th>prefer_foot</th>\n",
       "      <th>reputation</th>\n",
       "      <th>stat_overall</th>\n",
       "      <th>stat_potential</th>\n",
       "      <th>stat_skill_moves</th>\n",
       "      <th>value</th>\n",
       "    </tr>\n",
       "  </thead>\n",
       "  <tbody>\n",
       "    <tr>\n",
       "      <th>0</th>\n",
       "      <td>11784.0</td>\n",
       "      <td>T. Lindenhahn</td>\n",
       "      <td>27</td>\n",
       "      <td>europe</td>\n",
       "      <td>2021</td>\n",
       "      <td>DF</td>\n",
       "      <td>?</td>\n",
       "      <td>1</td>\n",
       "      <td>63.0</td>\n",
       "      <td>63.0</td>\n",
       "      <td>3</td>\n",
       "      <td>300000</td>\n",
       "    </tr>\n",
       "    <tr>\n",
       "      <th>1</th>\n",
       "      <td>2436.0</td>\n",
       "      <td>V. Misidjan</td>\n",
       "      <td>24</td>\n",
       "      <td>europe</td>\n",
       "      <td>2021</td>\n",
       "      <td>MF</td>\n",
       "      <td>?</td>\n",
       "      <td>1</td>\n",
       "      <td>74.0</td>\n",
       "      <td>77.0</td>\n",
       "      <td>3</td>\n",
       "      <td>7000000</td>\n",
       "    </tr>\n",
       "    <tr>\n",
       "      <th>2</th>\n",
       "      <td>8196.0</td>\n",
       "      <td>S. Aresti</td>\n",
       "      <td>32</td>\n",
       "      <td>europe</td>\n",
       "      <td>2020</td>\n",
       "      <td>GK</td>\n",
       "      <td>?</td>\n",
       "      <td>1</td>\n",
       "      <td>67.0</td>\n",
       "      <td>67.0</td>\n",
       "      <td>1</td>\n",
       "      <td>450000</td>\n",
       "    </tr>\n",
       "    <tr>\n",
       "      <th>3</th>\n",
       "      <td>16446.0</td>\n",
       "      <td>H. Al Ruwaili</td>\n",
       "      <td>23</td>\n",
       "      <td>asia</td>\n",
       "      <td>2020</td>\n",
       "      <td>DF</td>\n",
       "      <td>?</td>\n",
       "      <td>1</td>\n",
       "      <td>53.0</td>\n",
       "      <td>60.0</td>\n",
       "      <td>2</td>\n",
       "      <td>70000</td>\n",
       "    </tr>\n",
       "    <tr>\n",
       "      <th>4</th>\n",
       "      <td>7388.0</td>\n",
       "      <td>E. Soriano</td>\n",
       "      <td>29</td>\n",
       "      <td>europe</td>\n",
       "      <td>2019</td>\n",
       "      <td>ST</td>\n",
       "      <td>?</td>\n",
       "      <td>1</td>\n",
       "      <td>67.0</td>\n",
       "      <td>67.0</td>\n",
       "      <td>2</td>\n",
       "      <td>750000</td>\n",
       "    </tr>\n",
       "  </tbody>\n",
       "</table>\n",
       "</div>"
      ],
      "text/plain": [
       "        id           name  age continent contract_until position prefer_foot  \\\n",
       "0  11784.0  T. Lindenhahn   27    europe           2021       DF           ?   \n",
       "1   2436.0    V. Misidjan   24    europe           2021       MF           ?   \n",
       "2   8196.0      S. Aresti   32    europe           2020       GK           ?   \n",
       "3  16446.0  H. Al Ruwaili   23      asia           2020       DF           ?   \n",
       "4   7388.0     E. Soriano   29    europe           2019       ST           ?   \n",
       "\n",
       "   reputation  stat_overall  stat_potential  stat_skill_moves    value  \n",
       "0           1          63.0            63.0                 3   300000  \n",
       "1           1          74.0            77.0                 3  7000000  \n",
       "2           1          67.0            67.0                 1   450000  \n",
       "3           1          53.0            60.0                 2    70000  \n",
       "4           1          67.0            67.0                 2   750000  "
      ]
     },
     "execution_count": 159,
     "metadata": {},
     "output_type": "execute_result"
    }
   ],
   "source": [
    "# dataframe.head()\n",
    "# 데이터프레임 상위 5개 행 확인\n",
    "df.head(5)"
   ]
  },
  {
   "cell_type": "markdown",
   "metadata": {
    "id": "VCEEBHGu5k1Z"
   },
   "source": [
    "**과제 1: 데이터프레임 하위 7개 행을 확인해보세요!**"
   ]
  },
  {
   "cell_type": "code",
   "execution_count": 160,
   "metadata": {
    "ExecuteTime": {
     "end_time": "2022-09-22T09:40:22.543113Z",
     "start_time": "2022-09-22T09:40:22.511449Z"
    },
    "colab": {
     "base_uri": "https://localhost:8080/",
     "height": 269
    },
    "executionInfo": {
     "elapsed": 36,
     "status": "ok",
     "timestamp": 1662337462799,
     "user": {
      "displayName": "이창윤",
      "userId": "13584916531398763905"
     },
     "user_tz": -540
    },
    "id": "kssGSOYt5k1a",
    "outputId": "1fd9eb8d-8f33-4246-b43d-32549664cfef"
   },
   "outputs": [
    {
     "data": {
      "text/html": [
       "<div>\n",
       "<style scoped>\n",
       "    .dataframe tbody tr th:only-of-type {\n",
       "        vertical-align: middle;\n",
       "    }\n",
       "\n",
       "    .dataframe tbody tr th {\n",
       "        vertical-align: top;\n",
       "    }\n",
       "\n",
       "    .dataframe thead th {\n",
       "        text-align: right;\n",
       "    }\n",
       "</style>\n",
       "<table border=\"1\" class=\"dataframe\">\n",
       "  <thead>\n",
       "    <tr style=\"text-align: right;\">\n",
       "      <th></th>\n",
       "      <th>id</th>\n",
       "      <th>name</th>\n",
       "      <th>age</th>\n",
       "      <th>continent</th>\n",
       "      <th>contract_until</th>\n",
       "      <th>position</th>\n",
       "      <th>prefer_foot</th>\n",
       "      <th>reputation</th>\n",
       "      <th>stat_overall</th>\n",
       "      <th>stat_potential</th>\n",
       "      <th>stat_skill_moves</th>\n",
       "      <th>value</th>\n",
       "    </tr>\n",
       "  </thead>\n",
       "  <tbody>\n",
       "    <tr>\n",
       "      <th>8925</th>\n",
       "      <td>7805.0</td>\n",
       "      <td>C. Sepúlveda</td>\n",
       "      <td>26</td>\n",
       "      <td>south america</td>\n",
       "      <td>2019</td>\n",
       "      <td>MF</td>\n",
       "      <td>right</td>\n",
       "      <td>1</td>\n",
       "      <td>67.0</td>\n",
       "      <td>72.0</td>\n",
       "      <td>2</td>\n",
       "      <td>850000</td>\n",
       "    </tr>\n",
       "    <tr>\n",
       "      <th>8926</th>\n",
       "      <td>10746.0</td>\n",
       "      <td>I. Abass</td>\n",
       "      <td>19</td>\n",
       "      <td>africa</td>\n",
       "      <td>2023</td>\n",
       "      <td>ST</td>\n",
       "      <td>right</td>\n",
       "      <td>1</td>\n",
       "      <td>64.0</td>\n",
       "      <td>77.0</td>\n",
       "      <td>3</td>\n",
       "      <td>850000</td>\n",
       "    </tr>\n",
       "    <tr>\n",
       "      <th>8927</th>\n",
       "      <td>5424.0</td>\n",
       "      <td>D. Odoi</td>\n",
       "      <td>30</td>\n",
       "      <td>europe</td>\n",
       "      <td>2019</td>\n",
       "      <td>DF</td>\n",
       "      <td>right</td>\n",
       "      <td>1</td>\n",
       "      <td>69.0</td>\n",
       "      <td>69.0</td>\n",
       "      <td>3</td>\n",
       "      <td>775000</td>\n",
       "    </tr>\n",
       "    <tr>\n",
       "      <th>8928</th>\n",
       "      <td>16664.0</td>\n",
       "      <td>M. Tilio</td>\n",
       "      <td>16</td>\n",
       "      <td>oceania</td>\n",
       "      <td>2019</td>\n",
       "      <td>MF</td>\n",
       "      <td>left</td>\n",
       "      <td>1</td>\n",
       "      <td>52.0</td>\n",
       "      <td>69.0</td>\n",
       "      <td>2</td>\n",
       "      <td>100000</td>\n",
       "    </tr>\n",
       "    <tr>\n",
       "      <th>8929</th>\n",
       "      <td>13515.0</td>\n",
       "      <td>V. Myhra</td>\n",
       "      <td>21</td>\n",
       "      <td>europe</td>\n",
       "      <td>2018</td>\n",
       "      <td>GK</td>\n",
       "      <td>right</td>\n",
       "      <td>1</td>\n",
       "      <td>61.0</td>\n",
       "      <td>72.0</td>\n",
       "      <td>1</td>\n",
       "      <td>350000</td>\n",
       "    </tr>\n",
       "    <tr>\n",
       "      <th>8930</th>\n",
       "      <td>876.0</td>\n",
       "      <td>R. Vormer</td>\n",
       "      <td>30</td>\n",
       "      <td>europe</td>\n",
       "      <td>2022</td>\n",
       "      <td>MF</td>\n",
       "      <td>right</td>\n",
       "      <td>2</td>\n",
       "      <td>78.0</td>\n",
       "      <td>78.0</td>\n",
       "      <td>3</td>\n",
       "      <td>9500000</td>\n",
       "    </tr>\n",
       "    <tr>\n",
       "      <th>8931</th>\n",
       "      <td>13317.0</td>\n",
       "      <td>H. Eisa</td>\n",
       "      <td>25</td>\n",
       "      <td>africa</td>\n",
       "      <td>2019</td>\n",
       "      <td>ST</td>\n",
       "      <td>right</td>\n",
       "      <td>1</td>\n",
       "      <td>61.0</td>\n",
       "      <td>NaN</td>\n",
       "      <td>2</td>\n",
       "      <td>350000</td>\n",
       "    </tr>\n",
       "  </tbody>\n",
       "</table>\n",
       "</div>"
      ],
      "text/plain": [
       "           id          name  age      continent contract_until position  \\\n",
       "8925   7805.0  C. Sepúlveda   26  south america           2019       MF   \n",
       "8926  10746.0      I. Abass   19         africa           2023       ST   \n",
       "8927   5424.0       D. Odoi   30         europe           2019       DF   \n",
       "8928  16664.0      M. Tilio   16        oceania           2019       MF   \n",
       "8929  13515.0      V. Myhra   21         europe           2018       GK   \n",
       "8930    876.0     R. Vormer   30         europe           2022       MF   \n",
       "8931  13317.0       H. Eisa   25         africa           2019       ST   \n",
       "\n",
       "     prefer_foot  reputation  stat_overall  stat_potential  stat_skill_moves  \\\n",
       "8925       right           1          67.0            72.0                 2   \n",
       "8926       right           1          64.0            77.0                 3   \n",
       "8927       right           1          69.0            69.0                 3   \n",
       "8928        left           1          52.0            69.0                 2   \n",
       "8929       right           1          61.0            72.0                 1   \n",
       "8930       right           2          78.0            78.0                 3   \n",
       "8931       right           1          61.0             NaN                 2   \n",
       "\n",
       "        value  \n",
       "8925   850000  \n",
       "8926   850000  \n",
       "8927   775000  \n",
       "8928   100000  \n",
       "8929   350000  \n",
       "8930  9500000  \n",
       "8931   350000  "
      ]
     },
     "execution_count": 160,
     "metadata": {},
     "output_type": "execute_result"
    }
   ],
   "source": [
    "# 데이터프레임 하위 7개 행 확인\n",
    "df.tail(7)"
   ]
  },
  {
   "cell_type": "markdown",
   "metadata": {
    "id": "qELLRxnb5k1a"
   },
   "source": [
    "# 결측치 처리"
   ]
  },
  {
   "cell_type": "markdown",
   "metadata": {
    "id": "IUIh61Gn5k1b"
   },
   "source": [
    "## 결측치 확인\n",
    "dataframe.info()를 통해서 데이터프레임의 자료형, 결측치 개수를 알 수 있습니다."
   ]
  },
  {
   "cell_type": "code",
   "execution_count": 161,
   "metadata": {
    "ExecuteTime": {
     "end_time": "2022-09-22T09:40:23.476855Z",
     "start_time": "2022-09-22T09:40:23.447433Z"
    },
    "colab": {
     "base_uri": "https://localhost:8080/"
    },
    "executionInfo": {
     "elapsed": 36,
     "status": "ok",
     "timestamp": 1662337462800,
     "user": {
      "displayName": "이창윤",
      "userId": "13584916531398763905"
     },
     "user_tz": -540
    },
    "id": "kXW5h14dg1KT",
    "outputId": "55e773dc-5b48-4893-f4bf-b9f83705dfea"
   },
   "outputs": [
    {
     "name": "stdout",
     "output_type": "stream",
     "text": [
      "<class 'pandas.core.frame.DataFrame'>\n",
      "RangeIndex: 8932 entries, 0 to 8931\n",
      "Data columns (total 12 columns):\n",
      " #   Column            Non-Null Count  Dtype  \n",
      "---  ------            --------------  -----  \n",
      " 0   id                8756 non-null   float64\n",
      " 1   name              8932 non-null   object \n",
      " 2   age               8932 non-null   int64  \n",
      " 3   continent         8932 non-null   object \n",
      " 4   contract_until    8932 non-null   object \n",
      " 5   position          8932 non-null   object \n",
      " 6   prefer_foot       8932 non-null   object \n",
      " 7   reputation        8932 non-null   int64  \n",
      " 8   stat_overall      8802 non-null   float64\n",
      " 9   stat_potential    7140 non-null   float64\n",
      " 10  stat_skill_moves  8932 non-null   int64  \n",
      " 11  value             8932 non-null   int64  \n",
      "dtypes: float64(3), int64(4), object(5)\n",
      "memory usage: 837.5+ KB\n"
     ]
    }
   ],
   "source": [
    "# 결측치 확인\n",
    "df.info()"
   ]
  },
  {
   "cell_type": "code",
   "execution_count": 162,
   "metadata": {
    "ExecuteTime": {
     "end_time": "2022-09-22T09:40:23.765872Z",
     "start_time": "2022-09-22T09:40:23.736006Z"
    },
    "colab": {
     "base_uri": "https://localhost:8080/"
    },
    "executionInfo": {
     "elapsed": 31,
     "status": "ok",
     "timestamp": 1662337462801,
     "user": {
      "displayName": "이창윤",
      "userId": "13584916531398763905"
     },
     "user_tz": -540
    },
    "id": "P-qUQ5Ym5k1c",
    "outputId": "41decbd3-f954-41b5-c3f0-54a80a10be14"
   },
   "outputs": [
    {
     "data": {
      "text/plain": [
       "id                   176\n",
       "name                   0\n",
       "age                    0\n",
       "continent              0\n",
       "contract_until         0\n",
       "position               0\n",
       "prefer_foot            0\n",
       "reputation             0\n",
       "stat_overall         130\n",
       "stat_potential      1792\n",
       "stat_skill_moves       0\n",
       "value                  0\n",
       "dtype: int64"
      ]
     },
     "execution_count": 162,
     "metadata": {},
     "output_type": "execute_result"
    }
   ],
   "source": [
    "# 결측치 확인\n",
    "df.isnull().sum()"
   ]
  },
  {
   "cell_type": "markdown",
   "metadata": {
    "id": "ZKWni4hkl6-z"
   },
   "source": [
    "- df.info(), df.isnull().sum으로 확인해 본 결과, id, stat_overall, stat_potential에 결측치가 존재하는 것을 알 수 있습니다.<br>\n",
    "- name, continent, contract_until, position, prefer_foot의 데이터 타입인 object는 pandas에서 문자열 type라고 생각해주시면 됩니다.<br>\n",
    "\n",
    "그럼 결측치가 존재하는 id, stat_overall, stat_potential의 결측치를 처리하는 과정을 각각 진행해보도록 하겠습니다."
   ]
  },
  {
   "cell_type": "markdown",
   "metadata": {
    "id": "KXM03rSE5k1d"
   },
   "source": [
    "**과제2: describe을 활용해 데이터의 평균, 4분위수, 최소값, 최대값을 확인해보세요!** "
   ]
  },
  {
   "cell_type": "code",
   "execution_count": 163,
   "metadata": {
    "ExecuteTime": {
     "end_time": "2022-09-22T09:40:24.836573Z",
     "start_time": "2022-09-22T09:40:24.792370Z"
    },
    "colab": {
     "base_uri": "https://localhost:8080/",
     "height": 300
    },
    "executionInfo": {
     "elapsed": 30,
     "status": "ok",
     "timestamp": 1662337462804,
     "user": {
      "displayName": "이창윤",
      "userId": "13584916531398763905"
     },
     "user_tz": -540
    },
    "id": "qr3XyipOjcA5",
    "outputId": "243bc067-5a91-4327-eb2a-981965f9d756"
   },
   "outputs": [
    {
     "data": {
      "text/html": [
       "<div>\n",
       "<style scoped>\n",
       "    .dataframe tbody tr th:only-of-type {\n",
       "        vertical-align: middle;\n",
       "    }\n",
       "\n",
       "    .dataframe tbody tr th {\n",
       "        vertical-align: top;\n",
       "    }\n",
       "\n",
       "    .dataframe thead th {\n",
       "        text-align: right;\n",
       "    }\n",
       "</style>\n",
       "<table border=\"1\" class=\"dataframe\">\n",
       "  <thead>\n",
       "    <tr style=\"text-align: right;\">\n",
       "      <th></th>\n",
       "      <th>id</th>\n",
       "      <th>age</th>\n",
       "      <th>reputation</th>\n",
       "      <th>stat_overall</th>\n",
       "      <th>stat_potential</th>\n",
       "      <th>stat_skill_moves</th>\n",
       "      <th>value</th>\n",
       "    </tr>\n",
       "  </thead>\n",
       "  <tbody>\n",
       "    <tr>\n",
       "      <th>count</th>\n",
       "      <td>8756.000000</td>\n",
       "      <td>8932.000000</td>\n",
       "      <td>8932.000000</td>\n",
       "      <td>8802.000000</td>\n",
       "      <td>7140.000000</td>\n",
       "      <td>8932.000000</td>\n",
       "      <td>8.932000e+03</td>\n",
       "    </tr>\n",
       "    <tr>\n",
       "      <th>mean</th>\n",
       "      <td>7972.833029</td>\n",
       "      <td>25.209136</td>\n",
       "      <td>1.130878</td>\n",
       "      <td>67.100091</td>\n",
       "      <td>72.003081</td>\n",
       "      <td>2.401702</td>\n",
       "      <td>2.778673e+06</td>\n",
       "    </tr>\n",
       "    <tr>\n",
       "      <th>std</th>\n",
       "      <td>4842.075657</td>\n",
       "      <td>4.635515</td>\n",
       "      <td>0.423792</td>\n",
       "      <td>6.854393</td>\n",
       "      <td>5.981808</td>\n",
       "      <td>0.776048</td>\n",
       "      <td>5.840982e+06</td>\n",
       "    </tr>\n",
       "    <tr>\n",
       "      <th>min</th>\n",
       "      <td>0.000000</td>\n",
       "      <td>16.000000</td>\n",
       "      <td>1.000000</td>\n",
       "      <td>47.000000</td>\n",
       "      <td>48.000000</td>\n",
       "      <td>1.000000</td>\n",
       "      <td>1.000000e+04</td>\n",
       "    </tr>\n",
       "    <tr>\n",
       "      <th>25%</th>\n",
       "      <td>3755.750000</td>\n",
       "      <td>21.000000</td>\n",
       "      <td>1.000000</td>\n",
       "      <td>63.000000</td>\n",
       "      <td>68.000000</td>\n",
       "      <td>2.000000</td>\n",
       "      <td>3.750000e+05</td>\n",
       "    </tr>\n",
       "    <tr>\n",
       "      <th>50%</th>\n",
       "      <td>7707.500000</td>\n",
       "      <td>25.000000</td>\n",
       "      <td>1.000000</td>\n",
       "      <td>67.000000</td>\n",
       "      <td>72.000000</td>\n",
       "      <td>2.000000</td>\n",
       "      <td>8.250000e+05</td>\n",
       "    </tr>\n",
       "    <tr>\n",
       "      <th>75%</th>\n",
       "      <td>12084.250000</td>\n",
       "      <td>28.000000</td>\n",
       "      <td>1.000000</td>\n",
       "      <td>72.000000</td>\n",
       "      <td>76.000000</td>\n",
       "      <td>3.000000</td>\n",
       "      <td>2.600000e+06</td>\n",
       "    </tr>\n",
       "    <tr>\n",
       "      <th>max</th>\n",
       "      <td>16948.000000</td>\n",
       "      <td>40.000000</td>\n",
       "      <td>5.000000</td>\n",
       "      <td>94.000000</td>\n",
       "      <td>94.000000</td>\n",
       "      <td>5.000000</td>\n",
       "      <td>1.105000e+08</td>\n",
       "    </tr>\n",
       "  </tbody>\n",
       "</table>\n",
       "</div>"
      ],
      "text/plain": [
       "                 id          age   reputation  stat_overall  stat_potential  \\\n",
       "count   8756.000000  8932.000000  8932.000000   8802.000000     7140.000000   \n",
       "mean    7972.833029    25.209136     1.130878     67.100091       72.003081   \n",
       "std     4842.075657     4.635515     0.423792      6.854393        5.981808   \n",
       "min        0.000000    16.000000     1.000000     47.000000       48.000000   \n",
       "25%     3755.750000    21.000000     1.000000     63.000000       68.000000   \n",
       "50%     7707.500000    25.000000     1.000000     67.000000       72.000000   \n",
       "75%    12084.250000    28.000000     1.000000     72.000000       76.000000   \n",
       "max    16948.000000    40.000000     5.000000     94.000000       94.000000   \n",
       "\n",
       "       stat_skill_moves         value  \n",
       "count       8932.000000  8.932000e+03  \n",
       "mean           2.401702  2.778673e+06  \n",
       "std            0.776048  5.840982e+06  \n",
       "min            1.000000  1.000000e+04  \n",
       "25%            2.000000  3.750000e+05  \n",
       "50%            2.000000  8.250000e+05  \n",
       "75%            3.000000  2.600000e+06  \n",
       "max            5.000000  1.105000e+08  "
      ]
     },
     "execution_count": 163,
     "metadata": {},
     "output_type": "execute_result"
    }
   ],
   "source": [
    "#데이터프레임 각 칼럼의 통계치 확인\n",
    "df.describe()"
   ]
  },
  {
   "cell_type": "markdown",
   "metadata": {
    "id": "BeV4bx-S8xzg"
   },
   "source": [
    "## id\n",
    "id column은 value를 예측하는데 도움이 되지 않기 때문에 해당 column 전체를 삭제합니다.<br>\n"
   ]
  },
  {
   "cell_type": "markdown",
   "metadata": {
    "id": "G_IqY6d35k1e"
   },
   "source": [
    "**과제 3: id column 전체를 삭제해보세요!(Hint: df.drop을 활용해보세요)**"
   ]
  },
  {
   "cell_type": "code",
   "execution_count": 164,
   "metadata": {
    "ExecuteTime": {
     "end_time": "2022-09-22T09:40:25.975521Z",
     "start_time": "2022-09-22T09:40:25.962821Z"
    },
    "executionInfo": {
     "elapsed": 31,
     "status": "ok",
     "timestamp": 1662337462806,
     "user": {
      "displayName": "이창윤",
      "userId": "13584916531398763905"
     },
     "user_tz": -540
    },
    "id": "1yMjrg5jJHAq"
   },
   "outputs": [],
   "source": [
    "df.drop(['id'], axis = 1, inplace = True)"
   ]
  },
  {
   "cell_type": "markdown",
   "metadata": {
    "id": "nV8NhlkM9A_L"
   },
   "source": [
    "## prefer_foot\n",
    "\n",
    "value_counts를 통해 prefer_foot의 value 및 결측치의 개수를 확인하고, 최빈값으로 대체함으로써 결측치를 처리해줍니다."
   ]
  },
  {
   "cell_type": "code",
   "execution_count": 165,
   "metadata": {
    "ExecuteTime": {
     "end_time": "2022-09-22T09:40:26.625912Z",
     "start_time": "2022-09-22T09:40:26.605842Z"
    },
    "colab": {
     "base_uri": "https://localhost:8080/"
    },
    "executionInfo": {
     "elapsed": 32,
     "status": "ok",
     "timestamp": 1662337462808,
     "user": {
      "displayName": "이창윤",
      "userId": "13584916531398763905"
     },
     "user_tz": -540
    },
    "id": "yIepeZjpNAWx",
    "outputId": "45006d37-a1c2-4292-9839-d1a90adacca2"
   },
   "outputs": [
    {
     "data": {
      "text/html": [
       "<div>\n",
       "<style scoped>\n",
       "    .dataframe tbody tr th:only-of-type {\n",
       "        vertical-align: middle;\n",
       "    }\n",
       "\n",
       "    .dataframe tbody tr th {\n",
       "        vertical-align: top;\n",
       "    }\n",
       "\n",
       "    .dataframe thead th {\n",
       "        text-align: right;\n",
       "    }\n",
       "</style>\n",
       "<table border=\"1\" class=\"dataframe\">\n",
       "  <thead>\n",
       "    <tr style=\"text-align: right;\">\n",
       "      <th></th>\n",
       "      <th>prefer_foot</th>\n",
       "    </tr>\n",
       "  </thead>\n",
       "  <tbody>\n",
       "    <tr>\n",
       "      <th>right</th>\n",
       "      <td>6452</td>\n",
       "    </tr>\n",
       "    <tr>\n",
       "      <th>left</th>\n",
       "      <td>1980</td>\n",
       "    </tr>\n",
       "    <tr>\n",
       "      <th>?</th>\n",
       "      <td>500</td>\n",
       "    </tr>\n",
       "  </tbody>\n",
       "</table>\n",
       "</div>"
      ],
      "text/plain": [
       "       prefer_foot\n",
       "right         6452\n",
       "left          1980\n",
       "?              500"
      ]
     },
     "execution_count": 165,
     "metadata": {},
     "output_type": "execute_result"
    }
   ],
   "source": [
    "df['prefer_foot'].value_counts().to_frame()"
   ]
  },
  {
   "cell_type": "markdown",
   "metadata": {
    "id": "dl9Fi4CH5k1f"
   },
   "source": [
    "**과제 4: 결측치를 최빈값으로 대체해보세요!**"
   ]
  },
  {
   "cell_type": "code",
   "execution_count": 166,
   "metadata": {
    "ExecuteTime": {
     "end_time": "2022-09-22T09:40:27.333629Z",
     "start_time": "2022-09-22T09:40:27.318403Z"
    },
    "executionInfo": {
     "elapsed": 28,
     "status": "ok",
     "timestamp": 1662337462809,
     "user": {
      "displayName": "이창윤",
      "userId": "13584916531398763905"
     },
     "user_tz": -540
    },
    "id": "9JeXdQctNusA"
   },
   "outputs": [],
   "source": [
    "#결측치를 최빈값인 right로 대체\n",
    "#df = df.replace({'prefer_foot' :'?'}, 'right')"
   ]
  },
  {
   "cell_type": "code",
   "execution_count": 167,
   "metadata": {},
   "outputs": [],
   "source": [
    "df.replace('?', 'right', inplace=True)"
   ]
  },
  {
   "cell_type": "code",
   "execution_count": 168,
   "metadata": {
    "ExecuteTime": {
     "end_time": "2022-09-22T09:40:27.666806Z",
     "start_time": "2022-09-22T09:40:27.634453Z"
    },
    "colab": {
     "base_uri": "https://localhost:8080/"
    },
    "executionInfo": {
     "elapsed": 28,
     "status": "ok",
     "timestamp": 1662337462809,
     "user": {
      "displayName": "이창윤",
      "userId": "13584916531398763905"
     },
     "user_tz": -540
    },
    "id": "DU75G68bN5qB",
    "outputId": "c1bc638c-1ff0-4683-cf6c-8ae8467ef031"
   },
   "outputs": [
    {
     "data": {
      "text/plain": [
       "prefer_foot\n",
       "right          6952\n",
       "left           1980\n",
       "dtype: int64"
      ]
     },
     "execution_count": 168,
     "metadata": {},
     "output_type": "execute_result"
    }
   ],
   "source": [
    "#결측치 처리 확인\n",
    "df[['prefer_foot']].value_counts()"
   ]
  },
  {
   "cell_type": "markdown",
   "metadata": {
    "id": "atiHuBNl99JW"
   },
   "source": [
    "## stat_potential\n",
    "stat_potential, stat_overall 간의 관계를 파악하고, 상관계수가 높다면 각각의 값을 이용하는 방법으로 결측치를 처리해줍니다."
   ]
  },
  {
   "cell_type": "markdown",
   "metadata": {
    "id": "q_OUr75L5k1h"
   },
   "source": [
    "상관관계를 확인할 때, 시각화를 이용하기 위해 시각화를 위한 라이브러리를 불러옵니다."
   ]
  },
  {
   "cell_type": "code",
   "execution_count": 169,
   "metadata": {
    "ExecuteTime": {
     "end_time": "2022-09-22T09:40:29.680675Z",
     "start_time": "2022-09-22T09:40:28.770735Z"
    },
    "executionInfo": {
     "elapsed": 648,
     "status": "ok",
     "timestamp": 1662337463433,
     "user": {
      "displayName": "이창윤",
      "userId": "13584916531398763905"
     },
     "user_tz": -540
    },
    "id": "Pn7s8-NJ5k1h"
   },
   "outputs": [],
   "source": [
    "#시각화를 위해 matplotlib 호출\n",
    "\n",
    "import matplotlib\n",
    "import matplotlib.pyplot as plt\n",
    "import seaborn as sns"
   ]
  },
  {
   "cell_type": "markdown",
   "metadata": {
    "id": "9j7GAkHB5k1h"
   },
   "source": [
    "scatter plot, heatmap을 이용해 두 변수 간 상관관계를 확인해줍니다."
   ]
  },
  {
   "cell_type": "code",
   "execution_count": 170,
   "metadata": {
    "ExecuteTime": {
     "end_time": "2022-09-22T09:40:33.400165Z",
     "start_time": "2022-09-22T09:40:33.251123Z"
    },
    "colab": {
     "base_uri": "https://localhost:8080/",
     "height": 283
    },
    "executionInfo": {
     "elapsed": 12,
     "status": "ok",
     "timestamp": 1662337463434,
     "user": {
      "displayName": "이창윤",
      "userId": "13584916531398763905"
     },
     "user_tz": -540
    },
    "id": "p9iEdpwcJdsx",
    "outputId": "828f5b40-0e15-4a34-8976-7b97855932af"
   },
   "outputs": [
    {
     "data": {
      "text/plain": [
       "<matplotlib.collections.PathCollection at 0x17453a93f10>"
      ]
     },
     "execution_count": 170,
     "metadata": {},
     "output_type": "execute_result"
    },
    {
     "data": {
      "image/png": "[encoded data removed]",
      "text/plain": [
       "<Figure size 640x480 with 1 Axes>"
      ]
     },
     "metadata": {},
     "output_type": "display_data"
    }
   ],
   "source": [
    "# scatterplot을 통해 상관관계 확인\n",
    "\n",
    "plt.scatter(df.stat_potential, df.stat_overall)"
   ]
  },
  {
   "cell_type": "code",
   "execution_count": 171,
   "metadata": {
    "ExecuteTime": {
     "end_time": "2022-09-22T09:40:33.790708Z",
     "start_time": "2022-09-22T09:40:33.462628Z"
    },
    "colab": {
     "base_uri": "https://localhost:8080/",
     "height": 359
    },
    "executionInfo": {
     "elapsed": 697,
     "status": "ok",
     "timestamp": 1662337464123,
     "user": {
      "displayName": "이창윤",
      "userId": "13584916531398763905"
     },
     "user_tz": -540
    },
    "id": "oBw5-q6L_MmB",
    "outputId": "c55b5b39-2b08-4ac9-eb55-8c6baf55dfb4"
   },
   "outputs": [
    {
     "data": {
      "text/plain": [
       "Text(0.5, 1.0, 'heatmap')"
      ]
     },
     "execution_count": 171,
     "metadata": {},
     "output_type": "execute_result"
    },
    {
     "data": {
      "image/png": "[encoded data removed]",
      "text/plain": [
       "<Figure size 640x480 with 2 Axes>"
      ]
     },
     "metadata": {},
     "output_type": "display_data"
    }
   ],
   "source": [
    "# heatmap을 통해 상관계수 파악\n",
    "\n",
    "k = sns.heatmap(df.corr(),\n",
    "            annot = True)\n",
    "k.set_title('heatmap')"
   ]
  },
  {
   "cell_type": "markdown",
   "metadata": {
    "id": "snnnioQ__6N1"
   },
   "source": [
    "- scatter plot을 봤을 때 두 변수간 선형 관계가 존재하고, heatmap에서도 상관계수가 0.66임을 알 수 있기 때문에 각각의 값으로 대체함으로써 결측치를 처리해줍니다."
   ]
  },
  {
   "cell_type": "code",
   "execution_count": 172,
   "metadata": {},
   "outputs": [
    {
     "data": {
      "text/plain": [
       "0       63.0\n",
       "1       74.0\n",
       "2       67.0\n",
       "3       53.0\n",
       "4       67.0\n",
       "        ... \n",
       "8927    69.0\n",
       "8928    52.0\n",
       "8929    61.0\n",
       "8930    78.0\n",
       "8931    61.0\n",
       "Name: stat_overall, Length: 8932, dtype: float64"
      ]
     },
     "metadata": {},
     "output_type": "display_data"
    }
   ],
   "source": [
    "df1=df.groupby('name')['stat_overall'].transform('mean')\n",
    "display(df1)"
   ]
  },
  {
   "cell_type": "code",
   "execution_count": 173,
   "metadata": {
    "ExecuteTime": {
     "end_time": "2022-09-22T09:40:36.214523Z",
     "start_time": "2022-09-22T09:40:36.199486Z"
    },
    "executionInfo": {
     "elapsed": 17,
     "status": "ok",
     "timestamp": 1662337464124,
     "user": {
      "displayName": "이창윤",
      "userId": "13584916531398763905"
     },
     "user_tz": -540
    },
    "id": "k_IdCYDsJ4AH"
   },
   "outputs": [],
   "source": [
    "#각각의 값으로 대체\n",
    "\n",
    "df = df.fillna({'stat_potential': df['stat_overall']})\n",
    "df = df.fillna({'stat_overall':df['stat_potential']})"
   ]
  },
  {
   "cell_type": "code",
   "execution_count": 174,
   "metadata": {
    "ExecuteTime": {
     "end_time": "2022-09-22T09:40:36.804218Z",
     "start_time": "2022-09-22T09:40:36.783141Z"
    },
    "colab": {
     "base_uri": "https://localhost:8080/"
    },
    "executionInfo": {
     "elapsed": 18,
     "status": "ok",
     "timestamp": 1662337464126,
     "user": {
      "displayName": "이창윤",
      "userId": "13584916531398763905"
     },
     "user_tz": -540
    },
    "id": "u1nPwCnX5k1j",
    "outputId": "99120a1a-b316-4b60-855c-f6ec7d29c1da"
   },
   "outputs": [
    {
     "name": "stdout",
     "output_type": "stream",
     "text": [
      "<class 'pandas.core.frame.DataFrame'>\n",
      "RangeIndex: 8932 entries, 0 to 8931\n",
      "Data columns (total 11 columns):\n",
      " #   Column            Non-Null Count  Dtype  \n",
      "---  ------            --------------  -----  \n",
      " 0   name              8932 non-null   object \n",
      " 1   age               8932 non-null   int64  \n",
      " 2   continent         8932 non-null   object \n",
      " 3   contract_until    8932 non-null   object \n",
      " 4   position          8932 non-null   object \n",
      " 5   prefer_foot       8932 non-null   object \n",
      " 6   reputation        8932 non-null   int64  \n",
      " 7   stat_overall      8912 non-null   float64\n",
      " 8   stat_potential    8912 non-null   float64\n",
      " 9   stat_skill_moves  8932 non-null   int64  \n",
      " 10  value             8932 non-null   int64  \n",
      "dtypes: float64(2), int64(4), object(5)\n",
      "memory usage: 767.7+ KB\n"
     ]
    }
   ],
   "source": [
    "#결측치 처리 확인\n",
    "df.info()"
   ]
  },
  {
   "cell_type": "code",
   "execution_count": 175,
   "metadata": {},
   "outputs": [
    {
     "data": {
      "text/plain": [
       "name                 0\n",
       "age                  0\n",
       "continent            0\n",
       "contract_until       0\n",
       "position             0\n",
       "prefer_foot          0\n",
       "reputation           0\n",
       "stat_overall        20\n",
       "stat_potential      20\n",
       "stat_skill_moves     0\n",
       "value                0\n",
       "dtype: int64"
      ]
     },
     "execution_count": 175,
     "metadata": {},
     "output_type": "execute_result"
    }
   ],
   "source": [
    "df.isnull().sum()"
   ]
  },
  {
   "cell_type": "markdown",
   "metadata": {
    "id": "FmQCGybg5k1j"
   },
   "source": [
    "-  stat_overall과 stat_potential 모두 결측치가 존재하는 row는 20개입니다. 따라서, 최종적으로 결측치 20개가 존재합니다.\n",
    "-  값을 삭제해도 모델 학습에 큰 무리가 없으므로, 해당 row를 삭제함으로써 결측치를 처리해줍니다."
   ]
  },
  {
   "cell_type": "code",
   "execution_count": 176,
   "metadata": {
    "ExecuteTime": {
     "end_time": "2022-09-22T09:40:38.784665Z",
     "start_time": "2022-09-22T09:40:38.760817Z"
    },
    "executionInfo": {
     "elapsed": 15,
     "status": "ok",
     "timestamp": 1662337464127,
     "user": {
      "displayName": "이창윤",
      "userId": "13584916531398763905"
     },
     "user_tz": -540
    },
    "id": "uzz3onf6Mjll"
   },
   "outputs": [],
   "source": [
    "#결측치 삭제\n",
    "df.dropna(how = 'any', inplace = True)"
   ]
  },
  {
   "cell_type": "code",
   "execution_count": 177,
   "metadata": {
    "ExecuteTime": {
     "end_time": "2022-09-22T09:40:39.232402Z",
     "start_time": "2022-09-22T09:40:39.200426Z"
    },
    "colab": {
     "base_uri": "https://localhost:8080/",
     "height": 363
    },
    "executionInfo": {
     "elapsed": 16,
     "status": "ok",
     "timestamp": 1662337464128,
     "user": {
      "displayName": "이창윤",
      "userId": "13584916531398763905"
     },
     "user_tz": -540
    },
    "id": "ARVcQBOC24ja",
    "outputId": "182cb90c-76a5-43d6-ff3e-febde0414ff5"
   },
   "outputs": [
    {
     "data": {
      "text/plain": [
       "name                0\n",
       "age                 0\n",
       "continent           0\n",
       "contract_until      0\n",
       "position            0\n",
       "prefer_foot         0\n",
       "reputation          0\n",
       "stat_overall        0\n",
       "stat_potential      0\n",
       "stat_skill_moves    0\n",
       "value               0\n",
       "dtype: int64"
      ]
     },
     "execution_count": 177,
     "metadata": {},
     "output_type": "execute_result"
    }
   ],
   "source": [
    "#결측치 처리 결과 확인\n",
    "df.isnull().sum()"
   ]
  },
  {
   "cell_type": "markdown",
   "metadata": {
    "id": "0Xisxk0M5k1k"
   },
   "source": [
    "# EDA"
   ]
  },
  {
   "cell_type": "markdown",
   "metadata": {
    "id": "EKFJ7qdh5k1l"
   },
   "source": [
    "우선, EDA를 위해 시각화에 필요한 라이브러리를 호출해줍니다."
   ]
  },
  {
   "cell_type": "code",
   "execution_count": 178,
   "metadata": {
    "ExecuteTime": {
     "end_time": "2022-09-07T00:25:16.211520Z",
     "start_time": "2022-09-07T00:25:16.196412Z"
    },
    "executionInfo": {
     "elapsed": 16,
     "status": "ok",
     "timestamp": 1662337464129,
     "user": {
      "displayName": "이창윤",
      "userId": "13584916531398763905"
     },
     "user_tz": -540
    },
    "id": "QadDpF2j5k1l"
   },
   "outputs": [],
   "source": [
    "#시각화 라이브러리 호출\n",
    "import pandas as pd\n",
    "import numpy as np\n",
    "import warnings\n",
    "\n",
    "warnings.filterwarnings('ignore')"
   ]
  },
  {
   "cell_type": "markdown",
   "metadata": {
    "id": "NnFX3k6m5k1l"
   },
   "source": [
    "먼저 position별 value의 변화를 나타내주는 factorplot을 그려줍니다."
   ]
  },
  {
   "cell_type": "code",
   "execution_count": 179,
   "metadata": {
    "ExecuteTime": {
     "end_time": "2022-09-07T00:25:19.603139Z",
     "start_time": "2022-09-07T00:25:19.412798Z"
    },
    "colab": {
     "base_uri": "https://localhost:8080/",
     "height": 387
    },
    "executionInfo": {
     "elapsed": 432,
     "status": "ok",
     "timestamp": 1662337464546,
     "user": {
      "displayName": "이창윤",
      "userId": "13584916531398763905"
     },
     "user_tz": -540
    },
    "id": "1g0wWORn5k1m",
    "outputId": "1c9786a5-defd-4f7e-b35a-203d52fcc034"
   },
   "outputs": [
    {
     "data": {
      "text/plain": [
       "<seaborn.axisgrid.FacetGrid at 0x1746bf209d0>"
      ]
     },
     "execution_count": 179,
     "metadata": {},
     "output_type": "execute_result"
    },
    {
     "data": {
      "image/png": "[encoded data removed]",
      "text/plain": [
       "<Figure size 500x500 with 1 Axes>"
      ]
     },
     "metadata": {},
     "output_type": "display_data"
    }
   ],
   "source": [
    "# position별 value의 변화 알아보기\n",
    "sns.catplot(x='position', y='value', kind='point', data=df)"
   ]
  },
  {
   "cell_type": "markdown",
   "metadata": {
    "id": "JQL2JfIV5k1m"
   },
   "source": [
    "다음으로, position별 value를 reputation별로 알아보는 EDA를 진행해보도록 하겠습니다."
   ]
  },
  {
   "cell_type": "code",
   "execution_count": 180,
   "metadata": {
    "ExecuteTime": {
     "end_time": "2022-09-07T00:25:34.695089Z",
     "start_time": "2022-09-07T00:25:34.060152Z"
    },
    "colab": {
     "base_uri": "https://localhost:8080/",
     "height": 329
    },
    "executionInfo": {
     "elapsed": 1617,
     "status": "ok",
     "timestamp": 1662337466160,
     "user": {
      "displayName": "이창윤",
      "userId": "13584916531398763905"
     },
     "user_tz": -540
    },
    "id": "cugVB4o45k1m",
    "outputId": "e4372e04-e981-45b8-a475-f6a0cbf4bf08",
    "scrolled": true
   },
   "outputs": [
    {
     "data": {
      "text/plain": [
       "<seaborn.axisgrid.FacetGrid at 0x1746ba923e0>"
      ]
     },
     "execution_count": 180,
     "metadata": {},
     "output_type": "execute_result"
    },
    {
     "data": {
      "image/png": "[encoded data removed]",
      "text/plain": [
       "<Figure size 2500x500 with 5 Axes>"
      ]
     },
     "metadata": {},
     "output_type": "display_data"
    }
   ],
   "source": [
    "# reputation별로 position별 value의 변화 알아보기\n",
    "sns.catplot(x='position', y='value', col='reputation', data=df, kind='point')"
   ]
  },
  {
   "cell_type": "markdown",
   "metadata": {
    "id": "YEC5OQUq5k1m"
   },
   "source": [
    "**과제 5: 위의 그래프와 같이, position별 stat_skill_moves의 변화를 알아보기 위해 두 변수 간 factorplot을 그려보세요!**"
   ]
  },
  {
   "cell_type": "code",
   "execution_count": 187,
   "metadata": {},
   "outputs": [
    {
     "data": {
      "text/plain": [
       "<seaborn.axisgrid.FacetGrid at 0x17472596f80>"
      ]
     },
     "execution_count": 187,
     "metadata": {},
     "output_type": "execute_result"
    },
    {
     "data": {
      "image/png": "[encoded data removed]",
      "text/plain": [
       "<Figure size 500x500 with 1 Axes>"
      ]
     },
     "metadata": {},
     "output_type": "display_data"
    }
   ],
   "source": [
    "sns.catplot(x='position',y='stat_skill_moves', kind='point', data=df)"
   ]
  },
  {
   "cell_type": "code",
   "execution_count": 188,
   "metadata": {},
   "outputs": [
    {
     "data": {
      "text/plain": [
       "<Axes: xlabel='value', ylabel='Density'>"
      ]
     },
     "execution_count": 188,
     "metadata": {},
     "output_type": "execute_result"
    },
    {
     "data": {
      "image/png": "[encoded data removed]",
      "text/plain": [
       "<Figure size 400x300 with 1 Axes>"
      ]
     },
     "metadata": {},
     "output_type": "display_data"
    }
   ],
   "source": [
    "ax = plt.subplots(figsize=(4,3))\n",
    "\n",
    "sns.distplot(df['value'], color='y')"
   ]
  },
  {
   "cell_type": "code",
   "execution_count": 189,
   "metadata": {
    "ExecuteTime": {
     "end_time": "2022-09-07T00:25:42.201391Z",
     "start_time": "2022-09-07T00:25:42.044568Z"
    },
    "colab": {
     "base_uri": "https://localhost:8080/",
     "height": 298
    },
    "executionInfo": {
     "elapsed": 17,
     "status": "ok",
     "timestamp": 1662337467189,
     "user": {
      "displayName": "이창윤",
      "userId": "13584916531398763905"
     },
     "user_tz": -540
    },
    "id": "GjtEYcKe5k1n",
    "outputId": "55205237-4bed-46ad-cb8b-7c0d030a9656",
    "scrolled": true
   },
   "outputs": [
    {
     "data": {
      "text/plain": [
       "<Axes: xlabel='stat_potential', ylabel='Density'>"
      ]
     },
     "execution_count": 189,
     "metadata": {},
     "output_type": "execute_result"
    },
    {
     "data": {
      "image/png": "[encoded data removed]",
      "text/plain": [
       "<Figure size 400x300 with 1 Axes>"
      ]
     },
     "metadata": {},
     "output_type": "display_data"
    }
   ],
   "source": [
    "ax = plt.subplots(figsize=(4,3))\n",
    "\n",
    "sns.distplot(df['stat_potential'])"
   ]
  },
  {
   "cell_type": "markdown",
   "metadata": {
    "id": "wd3amP6S5k1o"
   },
   "source": [
    "**과제 6: 다음으로 position 별 선수의 수를 나타내주는 PieChart와, position별 선수가 선호하는 발의 수를 나타내주는 CountPlot을 함께 그려보세요!**"
   ]
  },
  {
   "cell_type": "code",
   "execution_count": 191,
   "metadata": {},
   "outputs": [
    {
     "data": {
      "text/plain": [
       "<Axes: xlabel='position', ylabel='count'>"
      ]
     },
     "execution_count": 191,
     "metadata": {},
     "output_type": "execute_result"
    },
    {
     "data": {
      "image/png": "[encoded data removed]",
      "text/plain": [
       "<Figure size 1000x300 with 2 Axes>"
      ]
     },
     "metadata": {},
     "output_type": "display_data"
    }
   ],
   "source": [
    "ax = plt.subplots(1,2, figsize=(10,3))\n",
    "\n",
    "df['position'].value_counts().plot.pie(fontsize=10, autopct='%1.1f%%',shadow=True, ax=ax[1][0])\n",
    "\n",
    "sns.countplot(x='position', data=df, hue='prefer_foot')"
   ]
  }
 ],
 "metadata": {
  "colab": {
   "collapsed_sections": [],
   "provenance": []
  },
  "kernelspec": {
   "display_name": "Python 3 (ipykernel)",
   "language": "python",
   "name": "python3"
  },
  "language_info": {
   "codemirror_mode": {
    "name": "ipython",
    "version": 3
   },
   "file_extension": ".py",
   "mimetype": "text/x-python",
   "name": "python",
   "nbconvert_exporter": "python",
   "pygments_lexer": "ipython3",
   "version": "3.10.9"
  },
  "toc": {
   "base_numbering": 1,
   "nav_menu": {},
   "number_sections": true,
   "sideBar": true,
   "skip_h1_title": false,
   "title_cell": "Table of Contents",
   "title_sidebar": "Contents",
   "toc_cell": false,
   "toc_position": {
    "height": "calc(100% - 180px)",
    "left": "10px",
    "top": "150px",
    "width": "284.431px"
   },
   "toc_section_display": true,
   "toc_window_display": true
  },
  "varInspector": {
   "cols": {
    "lenName": 16,
    "lenType": 16,
    "lenVar": 40
   },
   "kernels_config": {
    "python": {
     "delete_cmd_postfix": "",
     "delete_cmd_prefix": "del ",
     "library": "var_list.py",
     "varRefreshCmd": "print(var_dic_list())"
    },
    "r": {
     "delete_cmd_postfix": ") ",
     "delete_cmd_prefix": "rm(",
     "library": "var_list.r",
     "varRefreshCmd": "cat(var_dic_list()) "
    }
   },
   "types_to_exclude": [
    "module",
    "function",
    "builtin_function_or_method",
    "instance",
    "_Feature"
   ],
   "window_display": false
  }
 },
 "nbformat": 4,
 "nbformat_minor": 1
}
