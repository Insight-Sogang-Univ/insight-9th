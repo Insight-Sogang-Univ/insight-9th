{
 "cells": [
  {
   "cell_type": "markdown",
   "id": "e7cf6744",
   "metadata": {},
   "source": [
    "# Feature 분석 및 시각화"
   ]
  },
  {
   "cell_type": "markdown",
   "id": "180b8a74",
   "metadata": {
    "ExecuteTime": {
     "end_time": "2023-03-22T11:21:19.405735Z",
     "start_time": "2023-03-22T11:21:19.374096Z"
    }
   },
   "source": [
    "- **요약 통계보다 더 정확한 데이터 분석 결과 도출 가능**"
   ]
  },
  {
   "cell_type": "markdown",
   "id": "903bced5",
   "metadata": {},
   "source": [
    "|분류|내용|\n",
    "|:-----:|:------:|\n",
    "|**명목형 자료**|bar plot, Count plot, Pie chart|\n",
    "|**자료 개형**|Histogram, box plot, Stem and leaf plot|\n",
    "|**시계열 및 변수 간 관계**|Time series plot, Scatter plot|"
   ]
  },
  {
   "cell_type": "markdown",
   "id": "150e77cb",
   "metadata": {},
   "source": [
    "## Feature의 종류"
   ]
  },
  {
   "cell_type": "markdown",
   "id": "03f1e7cc",
   "metadata": {},
   "source": [
    "1. Categorical Features(범주형, 명목형)\n",
    "    - 종류를 표시\n",
    "    - 범주형 데이터 중에서, 명목형 데이터는 **순서가 없음**\n",
    "2. Ordinal Feautres(순서형)\n",
    "    - 범주형 데이터 중에서, 순서를 가지는 데이터\n",
    "    - ex) Height라는 Feature가 Tall, Medium, Short를 가지면 순서형 데이터가 됨\n",
    "3. Continuous Feature(연속형)\n",
    "    - 연속적인 값을 갖는 데이터\n",
    "4. Discrete(이산형)\n",
    "    - 정수로 딱딱 셀 수 있는 것!"
   ]
  },
  {
   "cell_type": "markdown",
   "id": "63ad2686",
   "metadata": {},
   "source": [
    "## 시각화 기본 표현\n",
    "1. figure: 그래프를 그리는 바탕\n",
    "    - figure: plt.gcf()\n",
    "2. Size 조절: flg.set_size_inches(18.5, 10.5)\n",
    "    - plt.figure(figsize=(10,5))\n",
    "    - plt.reParams['figure.figsize'] = (10,7\n",
    "3. Axes: plot이 그려지는 공간\n",
    "4. Axis: plot의 축"
   ]
  },
  {
   "cell_type": "markdown",
   "id": "c597d5ea",
   "metadata": {},
   "source": [
    "## 어떤 데이터에는 어떤 시각화?\n",
    "1. 시간에 따른 변화: line, area, bar\n",
    "2. 비교와 랭킹: bar\n",
    "3. 연관성: scatter\n",
    "4. 분포: box plot, histogram\n",
    "5. 부분이 전체에서 차지하는 정도: pie, bar"
   ]
  },
  {
   "cell_type": "markdown",
   "id": "d34fcad6",
   "metadata": {},
   "source": [
    "## Matplotlib\n",
    "- 일반적으로 EDA할 때는, **<u>Matplotlib과</u> Seaborn**을 사용\n",
    "- Matplotlib: Python 프로그래밍 언어 및 수학적 확장 Numpy라이브러리를 활용한 플로팅 라이브러리"
   ]
  },
  {
   "cell_type": "markdown",
   "id": "71912f67",
   "metadata": {},
   "source": [
    "## Seaborn\n",
    "- matplotlib을 기반으로 만들어져, 통계 데이터 시각화에 최적화된 인기 라이브러리\n",
    "   \n",
    "   <span style=color:blue> ※ 둘 중에 편한 것을 쓰면 됨"
   ]
  },
  {
   "cell_type": "markdown",
   "id": "77348314",
   "metadata": {},
   "source": [
    "# 수치형 데이터 시각화"
   ]
  },
  {
   "cell_type": "markdown",
   "id": "b4e83744",
   "metadata": {},
   "source": [
    "## 히스토그램(Hisplot)\n",
    "- 수치형 데이터의 구간별 빈도수를 나타냄\n",
    "- sns.hisplot(x='age,data=data)\n",
    "\n",
    "- 빈도를 특정 범주별로 구분해보고 싶을 경우 hue 파라미터에 해당 범주형 데이터를 전달\n",
    "- sns.hisplot(x='age', hue='alive', data=data)"
   ]
  },
  {
   "cell_type": "markdown",
   "id": "06a02e67",
   "metadata": {},
   "source": [
    "## 커널밀도추정 함수 그래프(Kdeplot)\n",
    "- 쉽게 생각해 히스토그램을 매끄럽게 곡선으로 연결한 그래프\n",
    "- sns.kdeplot(x='age', data=data)"
   ]
  },
  {
   "cell_type": "markdown",
   "id": "c442a9ad",
   "metadata": {},
   "source": [
    "## 막대 그래프(barplot)\n",
    "- 범주형 데이터에 따라 수치형 데이터 값이 어떻게 달라지는지 파악할 때\n",
    "- sns.barplot(x='class',y='fare',data=data)"
   ]
  },
  {
   "cell_type": "markdown",
   "id": "f8b1cbec",
   "metadata": {},
   "source": [
    "## 포인트플롯(pointplot)\n",
    "- 막대 그래프와 모양만 다를 뿐, 동일한 정보 제공\n",
    "- sns.pointplot(x='class',y='fare',data=data)"
   ]
  },
  {
   "cell_type": "markdown",
   "id": "b0b05fac",
   "metadata": {},
   "source": [
    "## 박스플롯(boxplot)\n",
    "- 막대 그래프나 포인트플롯보다 더 많은 정보, 5가지 요약 수치를 제공\n",
    "- 제 1분위수(Q1): 하위 25%, ~ 제 3분위수(Q3): 상위 25%\n",
    "- sns.boxplot(x='class',y='age',data=data)"
   ]
  },
  {
   "cell_type": "markdown",
   "id": "a4ad6e09",
   "metadata": {},
   "source": [
    "## 바이올린 플롯(viloin plot)\n",
    "- 박스플롯과 커널밀도 추정함수를 합쳐 놓은 그래프\n",
    "- snsn.violinplot(x='class',y='age',data=data)\n",
    "- 성별에 따른 등급별 나이 분포를 본다면 hue = 'sex'를 추가\n",
    "- 데이터를 합치고 싶으면, split=True를 통해 붙이기"
   ]
  },
  {
   "cell_type": "markdown",
   "id": "e16a9a8d",
   "metadata": {},
   "source": [
    "## 카운트플롯(countplot)\n",
    "- sns.countplot(x='class', data=data)\n",
    "- sns.countplot(y='class', data=data)"
   ]
  },
  {
   "cell_type": "markdown",
   "id": "54ffdfe1",
   "metadata": {},
   "source": [
    "## 파이 그래프(pie)\n",
    "- import matplotlib.pyplot as plt\n",
    "\n",
    "    x = [10,60,30]\n",
    "    labels = ['a','b','c']\n",
    "\n",
    "    plt.pie(x, labels = labels, autopct = '%.1f%%')"
   ]
  }
 ],
 "metadata": {
  "kernelspec": {
   "display_name": "Python 3 (ipykernel)",
   "language": "python",
   "name": "python3"
  },
  "language_info": {
   "codemirror_mode": {
    "name": "ipython",
    "version": 3
   },
   "file_extension": ".py",
   "mimetype": "text/x-python",
   "name": "python",
   "nbconvert_exporter": "python",
   "pygments_lexer": "ipython3",
   "version": "3.9.13"
  },
  "toc": {
   "base_numbering": 1,
   "nav_menu": {},
   "number_sections": true,
   "sideBar": true,
   "skip_h1_title": false,
   "title_cell": "Table of Contents",
   "title_sidebar": "Contents",
   "toc_cell": false,
   "toc_position": {},
   "toc_section_display": true,
   "toc_window_display": false
  }
 },
 "nbformat": 4,
 "nbformat_minor": 5
}
